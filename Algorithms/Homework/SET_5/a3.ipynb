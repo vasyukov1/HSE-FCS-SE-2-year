{
 "cells": [
  {
   "cell_type": "markdown",
   "metadata": {},
   "source": [
    "Чтобы найти нейтральные элементы, решим уравнение, для строки, состоящей из двух символов: x и y. \n",
    "\n",
    "Получим уравнение хеш-функции:\n",
    "h = (x - 'a' + 1) + (y - 'a' + 1) * p\n",
    "\n",
    "Приравняем к 0 и получим:\n",
    "\n",
    "(x - 'a' + 1) + (y - 'a' + 1) * p = 0.\n",
    "\n",
    "Тогда символ x = - (y - 'a' + 1) * p - 1 + 'a'.\n",
    "И нейтиальными элементами будут строки состоящие из пары симовлов (- (y - 'a' + 1) * p - 1 + 'a', x)."
   ]
  },
  {
   "cell_type": "markdown",
   "metadata": {},
   "source": [
    "Создадим список из всех возмоных символов.\n",
    "\n",
    "В словарь pairs будем добавлять значение p и соответствующие ему пары символов."
   ]
  },
  {
   "cell_type": "code",
   "execution_count": 1,
   "metadata": {},
   "outputs": [],
   "source": [
    "letters = 'abcdefghijklmnopqrstuvwxyz'\n",
    "big_letters = 'ABCDEFGHIJKLMNOPQRSTUVWXYZ'\n",
    "numbers = '0123456789'\n",
    "\n",
    "all_letters = letters + big_letters + numbers\n",
    "pairs = {}   "
   ]
  },
  {
   "cell_type": "markdown",
   "metadata": {},
   "source": [
    "Пройдёмся по всем симолвам и параметру p от 1 до 31 и добавим подходящие элементы в словарь."
   ]
  },
  {
   "cell_type": "code",
   "execution_count": 2,
   "metadata": {},
   "outputs": [],
   "source": [
    "for x in all_letters:\n",
    "    for y in all_letters:\n",
    "        for p in range(1, 32):\n",
    "            if (ord(x) - ord('a') + 1) + (ord(y) - ord('a') + 1) * p == 0:\n",
    "                pair = (x, y)\n",
    "                pairs[p] = pair"
   ]
  },
  {
   "cell_type": "markdown",
   "metadata": {},
   "source": [
    "Выведем результат."
   ]
  },
  {
   "cell_type": "code",
   "execution_count": 3,
   "metadata": {},
   "outputs": [
    {
     "name": "stdout",
     "output_type": "stream",
     "text": [
      "p = 1:\t ('Z', 'f')\n",
      "p = 2:\t ('8', 't')\n",
      "p = 3:\t ('9', 'm')\n",
      "p = 4:\t ('8', 'j')\n",
      "p = 31:\t ('A', 'a')\n",
      "p = 30:\t ('B', 'a')\n",
      "p = 15:\t ('3', 'c')\n",
      "p = 10:\t ('8', 'd')\n",
      "p = 6:\t ('6', 'g')\n",
      "p = 5:\t ('8', 'h')\n",
      "p = 29:\t ('C', 'a')\n",
      "p = 28:\t ('D', 'a')\n",
      "p = 14:\t ('6', 'c')\n",
      "p = 7:\t ('6', 'f')\n",
      "p = 27:\t ('E', 'a')\n",
      "p = 9:\t ('3', 'e')\n",
      "p = 26:\t ('F', 'a')\n",
      "p = 13:\t ('9', 'c')\n",
      "p = 25:\t ('G', 'a')\n",
      "p = 24:\t ('0', 'b')\n",
      "p = 12:\t ('0', 'd')\n",
      "p = 8:\t ('8', 'e')\n",
      "p = 23:\t ('2', 'b')\n",
      "p = 22:\t ('4', 'b')\n",
      "p = 11:\t ('4', 'd')\n",
      "p = 21:\t ('6', 'b')\n",
      "p = 20:\t ('8', 'b')\n",
      "p = 19:\t ('M', 'a')\n",
      "p = 18:\t ('N', 'a')\n",
      "p = 17:\t ('O', 'a')\n",
      "p = 16:\t ('0', 'c')\n"
     ]
    }
   ],
   "source": [
    "for p, pairs in pairs.items():\n",
    "    print(f\"p = {p}:\\t {pairs}\")"
   ]
  }
 ],
 "metadata": {
  "kernelspec": {
   "display_name": "Python 3",
   "language": "python",
   "name": "python3"
  },
  "language_info": {
   "codemirror_mode": {
    "name": "ipython",
    "version": 3
   },
   "file_extension": ".py",
   "mimetype": "text/x-python",
   "name": "python",
   "nbconvert_exporter": "python",
   "pygments_lexer": "ipython3",
   "version": "3.12.5"
  }
 },
 "nbformat": 4,
 "nbformat_minor": 2
}
