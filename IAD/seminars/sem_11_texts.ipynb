{
 "cells": [
  {
   "cell_type": "markdown",
   "metadata": {
    "id": "KbHlWheTvTYi"
   },
   "source": [
    "# Семинар 11: обработка текстовых данных\n",
    "\n",
    "## Вступление\n",
    "Многие практические задачи так или иначе могут вовлекать в себя работу с текстовыми данными, например:\n",
    "\n",
    "- классификация текстов\n",
    "    - анализ тональности (например, позитивный/негативный отзыв)\n",
    "    - фильтрация спама\n",
    "    - по теме или жанру\n",
    "- машинный перевод\n",
    "- распознавание и синтез речи\n",
    "- извлечение информации\n",
    "    - именованные сущности (например, извлечение имен, локаций, названий организаций)\n",
    "    - извлечение фактов и событий\n",
    "- кластеризация текстов\n",
    "- оптическое распознавание символов\n",
    "- проверка правописания\n",
    "- вопросно-ответные системы, информационный поиск\n",
    "- суммаризация текстов\n",
    "- генерация текстов\n",
    "\n",
    "В целом, алгоритм работы с текстовыми данными можно разбить на такие шаги:\n",
    "\n",
    "- предобработка сырых данных\n",
    "- токенизация (создание словаря)\n",
    "- обработка словаря (удаление стоп-слов и пунктуации)\n",
    "- обработка токенов (лемматизация / стемминг)\n",
    "- векторизация текста (bag of words, TF-IDF, etc)\n",
    "\n",
    "Сегодня мы познакомимся с основами работы с текстовыми данными: рассмотрим некоторые методы предобработки и простейшие алгоритмы векторизации.\n",
    "\n",
    "### План семинара\n",
    "1. Токенизация\n",
    "2. Стоп-слова и пунктуация\n",
    "3. Лемматизация и стемминг\n",
    "4. Bag-of-words и TD-IDF\n",
    "5. Решение задачи с текстовыми данными\n",
    "6. Регулярные выражения\n",
    "7. Немножко про категориальные признаки"
   ]
  },
  {
   "cell_type": "markdown",
   "metadata": {
    "id": "aTYWd8k5vTYk"
   },
   "source": [
    "## 1. Токенизация\n",
    "\n",
    "Токенизировать — значит, поделить текст на слова, или *токены*. Самый наивный способ токенизировать текст — разделить на слова по пробелам с помощью `split`. Но `split` упускает очень много всего, например, не отделяет пунктуацию от слов. Кроме этого есть ещё много менее тривиальных проблем, которые мы обсудим по ходу семинара, поэтому на практике всегда используют готовые токенизаторы."
   ]
  },
  {
   "cell_type": "code",
   "execution_count": 1,
   "metadata": {
    "ExecuteTime": {
     "end_time": "2023-04-18T16:50:57.367394Z",
     "start_time": "2023-04-18T16:50:56.706955Z"
    },
    "colab": {
     "base_uri": "https://localhost:8080/"
    },
    "id": "7wYTyUXsvTYk",
    "outputId": "55a6eabb-3b53-4502-d9b3-437f1847434a"
   },
   "outputs": [],
   "source": [
    "# !pip install nltk"
   ]
  },
  {
   "cell_type": "code",
   "execution_count": 34,
   "metadata": {
    "ExecuteTime": {
     "end_time": "2023-04-18T16:50:57.369338Z",
     "start_time": "2023-04-18T16:50:56.707864Z"
    },
    "colab": {
     "base_uri": "https://localhost:8080/"
    },
    "id": "0hCRd91OvTYl",
    "outputId": "9f180778-098e-4a9d-a3cc-aa3cdf905f6d"
   },
   "outputs": [],
   "source": [
    "import warnings\n",
    "\n",
    "import nltk\n",
    "import pandas as pd\n",
    "from nltk.tokenize import word_tokenize\n",
    "\n",
    "warnings.filterwarnings(\"ignore\")"
   ]
  },
  {
   "cell_type": "code",
   "execution_count": 35,
   "metadata": {
    "ExecuteTime": {
     "end_time": "2023-04-18T16:50:57.388966Z",
     "start_time": "2023-04-18T16:50:57.270155Z"
    }
   },
   "outputs": [
    {
     "data": {
      "text/plain": [
       "True"
      ]
     },
     "execution_count": 35,
     "metadata": {},
     "output_type": "execute_result"
    }
   ],
   "source": [
    "nltk.download(\"punkt_tab\", quiet=True)"
   ]
  },
  {
   "cell_type": "code",
   "execution_count": 36,
   "metadata": {
    "ExecuteTime": {
     "end_time": "2023-04-18T16:50:57.404335Z",
     "start_time": "2023-04-18T16:50:57.388538Z"
    },
    "id": "BnwtbxVSvTYl"
   },
   "outputs": [],
   "source": [
    "example = \"Но не каждый хочет что-то исправлять:(\""
   ]
  },
  {
   "cell_type": "code",
   "execution_count": 37,
   "metadata": {
    "ExecuteTime": {
     "end_time": "2023-04-18T16:50:57.404687Z",
     "start_time": "2023-04-18T16:50:57.391837Z"
    },
    "colab": {
     "base_uri": "https://localhost:8080/"
    },
    "id": "p2GQ7QsjvTYm",
    "outputId": "784207cc-6ba2-4e96-8066-d733c7786685"
   },
   "outputs": [
    {
     "data": {
      "text/plain": [
       "['Но', 'не', 'каждый', 'хочет', 'что-то', 'исправлять:(']"
      ]
     },
     "execution_count": 37,
     "metadata": {},
     "output_type": "execute_result"
    }
   ],
   "source": [
    "# c помощью split()\n",
    "example.split()"
   ]
  },
  {
   "cell_type": "code",
   "execution_count": 38,
   "metadata": {
    "ExecuteTime": {
     "end_time": "2023-04-18T16:50:57.404799Z",
     "start_time": "2023-04-18T16:50:57.394339Z"
    },
    "colab": {
     "base_uri": "https://localhost:8080/"
    },
    "id": "nA0DyFIDvTYn",
    "outputId": "df8fdb70-4d7a-476b-9496-78562e7e5912"
   },
   "outputs": [
    {
     "data": {
      "text/plain": [
       "['Но', 'не', 'каждый', 'хочет', 'что-то', 'исправлять', ':', '(']"
      ]
     },
     "execution_count": 38,
     "metadata": {},
     "output_type": "execute_result"
    }
   ],
   "source": [
    "# c помощью токенизатора\n",
    "word_tokenize(example)"
   ]
  },
  {
   "cell_type": "markdown",
   "metadata": {
    "id": "XQ7uHEJUvTYo"
   },
   "source": [
    "В nltk вообще есть довольно много токенизаторов:"
   ]
  },
  {
   "cell_type": "code",
   "execution_count": 39,
   "metadata": {
    "ExecuteTime": {
     "end_time": "2023-04-18T16:50:57.404913Z",
     "start_time": "2023-04-18T16:50:57.400438Z"
    },
    "colab": {
     "base_uri": "https://localhost:8080/"
    },
    "id": "_fnNryNkvTYo",
    "outputId": "0aae1ea4-65f5-465c-eda4-199c3641b232"
   },
   "outputs": [
    {
     "data": {
      "text/plain": [
       "['BlanklineTokenizer',\n",
       " 'LegalitySyllableTokenizer',\n",
       " 'LineTokenizer',\n",
       " 'MWETokenizer',\n",
       " 'NLTKWordTokenizer',\n",
       " 'PunktSentenceTokenizer',\n",
       " 'PunktTokenizer',\n",
       " 'RegexpTokenizer',\n",
       " 'ReppTokenizer',\n",
       " 'SExprTokenizer',\n",
       " 'SpaceTokenizer',\n",
       " 'StanfordSegmenter',\n",
       " 'SyllableTokenizer',\n",
       " 'TabTokenizer',\n",
       " 'TextTilingTokenizer',\n",
       " 'ToktokTokenizer']"
      ]
     },
     "execution_count": 39,
     "metadata": {},
     "output_type": "execute_result"
    }
   ],
   "source": [
    "from nltk import tokenize\n",
    "\n",
    "dir(tokenize)[:16]"
   ]
  },
  {
   "cell_type": "markdown",
   "metadata": {
    "id": "6cs6tdtHvTYp"
   },
   "source": [
    "Можно получить индексы начала и конца каждого токена:"
   ]
  },
  {
   "cell_type": "code",
   "execution_count": 40,
   "metadata": {
    "ExecuteTime": {
     "end_time": "2023-04-18T16:50:57.405149Z",
     "start_time": "2023-04-18T16:50:57.403084Z"
    },
    "id": "v3kOepXRvTYp"
   },
   "outputs": [
    {
     "data": {
      "text/plain": [
       "[(0, 2), (3, 5), (6, 12), (13, 18), (19, 25), (26, 38)]"
      ]
     },
     "execution_count": 40,
     "metadata": {},
     "output_type": "execute_result"
    }
   ],
   "source": [
    "wh_tok = tokenize.WhitespaceTokenizer()\n",
    "list(wh_tok.span_tokenize(example))"
   ]
  },
  {
   "cell_type": "markdown",
   "metadata": {
    "id": "yeMsc1yVvTYp"
   },
   "source": [
    "Некторые токенизаторы ведут себя специфично:"
   ]
  },
  {
   "cell_type": "code",
   "execution_count": 41,
   "metadata": {
    "ExecuteTime": {
     "end_time": "2023-04-18T16:50:57.413500Z",
     "start_time": "2023-04-18T16:50:57.405960Z"
    },
    "colab": {
     "base_uri": "https://localhost:8080/"
    },
    "id": "5diW1OKkvTYq",
    "outputId": "0d12988f-05ec-433c-f25d-357a1adfc61a"
   },
   "outputs": [
    {
     "data": {
      "text/plain": [
       "['do', \"n't\", 'stop', 'me']"
      ]
     },
     "execution_count": 41,
     "metadata": {},
     "output_type": "execute_result"
    }
   ],
   "source": [
    "tokenize.TreebankWordTokenizer().tokenize(\"don't stop me\")"
   ]
  },
  {
   "cell_type": "markdown",
   "metadata": {
    "id": "y4Jte9_YvTYq"
   },
   "source": [
    "Для некоторых задач это может быть полезно.\n",
    "\n",
    "А некоторые предназначены вообще не для текста на естественном языке:"
   ]
  },
  {
   "cell_type": "code",
   "execution_count": 42,
   "metadata": {
    "ExecuteTime": {
     "end_time": "2023-04-18T16:50:57.413696Z",
     "start_time": "2023-04-18T16:50:57.408712Z"
    },
    "colab": {
     "base_uri": "https://localhost:8080/"
    },
    "id": "vC4pjzzWvTYr",
    "outputId": "ee796848-f30a-45aa-b2fb-11d0d0c87a31"
   },
   "outputs": [
    {
     "data": {
      "text/plain": [
       "['(a (b c))', 'd', 'e', '(f)']"
      ]
     },
     "execution_count": 42,
     "metadata": {},
     "output_type": "execute_result"
    }
   ],
   "source": [
    "tokenize.SExprTokenizer().tokenize(\"(a (b c)) d e (f)\")"
   ]
  },
  {
   "cell_type": "markdown",
   "metadata": {
    "id": "kTLQY6ndwP9u"
   },
   "source": [
    "Есть токенизатор, который может быть полезен для работы с твитами или сообщениями из соц. сетей. Он сохранит смайлики, хештеги и т.п."
   ]
  },
  {
   "cell_type": "code",
   "execution_count": 43,
   "metadata": {
    "ExecuteTime": {
     "end_time": "2023-04-18T16:50:57.421227Z",
     "start_time": "2023-04-18T16:50:57.410680Z"
    },
    "colab": {
     "base_uri": "https://localhost:8080/"
    },
    "id": "xioD_3G2vTYs",
    "outputId": "155e9e32-9d62-4223-d575-df678aca92c7"
   },
   "outputs": [
    {
     "data": {
      "text/plain": [
       "['Но', 'не', 'каждый', 'хочет', 'что-то', 'исправлять', ':(']"
      ]
     },
     "execution_count": 43,
     "metadata": {},
     "output_type": "execute_result"
    }
   ],
   "source": [
    "from nltk.tokenize import TweetTokenizer\n",
    "\n",
    "tw = TweetTokenizer()\n",
    "tw.tokenize(example)"
   ]
  },
  {
   "cell_type": "markdown",
   "metadata": {
    "id": "fc1OYy0tvTYt"
   },
   "source": [
    "## 2. Стоп-слова и пунктуация\n",
    "\n",
    "*Стоп-слова* — это слова, которые часто встречаются практически в любом тексте и ничего интересного не говорят о конретном документе, то есть играют роль шума. Поэтому их принято убирать. По той же причине убирают и пунктуацию."
   ]
  },
  {
   "cell_type": "code",
   "execution_count": 44,
   "metadata": {
    "ExecuteTime": {
     "end_time": "2023-04-18T16:50:57.421378Z",
     "start_time": "2023-04-18T16:50:57.416461Z"
    },
    "colab": {
     "base_uri": "https://localhost:8080/"
    },
    "id": "g2F7i9CEvTYt",
    "outputId": "e8d5b428-583d-46a3-ac67-7f6ed7763dfc"
   },
   "outputs": [],
   "source": [
    "nltk.data.path.append(\"/Users/alexvasyukov/nltk_data\")"
   ]
  },
  {
   "cell_type": "code",
   "execution_count": 45,
   "metadata": {
    "ExecuteTime": {
     "end_time": "2023-04-18T16:50:57.425601Z",
     "start_time": "2023-04-18T16:50:57.419634Z"
    },
    "colab": {
     "base_uri": "https://localhost:8080/"
    },
    "id": "r8NdjFCYvTYt",
    "outputId": "bab6dba5-a1d6-480a-8a79-998de1c6c20f"
   },
   "outputs": [
    {
     "name": "stdout",
     "output_type": "stream",
     "text": [
      "['и', 'в', 'во', 'не', 'что', 'он', 'на', 'я', 'с', 'со', 'как', 'а', 'то', 'все', 'она', 'так', 'его', 'но', 'да', 'ты', 'к', 'у', 'же', 'вы', 'за', 'бы', 'по', 'только', 'ее', 'мне', 'было', 'вот', 'от', 'меня', 'еще', 'нет', 'о', 'из', 'ему', 'теперь', 'когда', 'даже', 'ну', 'вдруг', 'ли', 'если', 'уже', 'или', 'ни', 'быть', 'был', 'него', 'до', 'вас', 'нибудь', 'опять', 'уж', 'вам', 'ведь', 'там', 'потом', 'себя', 'ничего', 'ей', 'может', 'они', 'тут', 'где', 'есть', 'надо', 'ней', 'для', 'мы', 'тебя', 'их', 'чем', 'была', 'сам', 'чтоб', 'без', 'будто', 'чего', 'раз', 'тоже', 'себе', 'под', 'будет', 'ж', 'тогда', 'кто', 'этот', 'того', 'потому', 'этого', 'какой', 'совсем', 'ним', 'здесь', 'этом', 'один', 'почти', 'мой', 'тем', 'чтобы', 'нее', 'сейчас', 'были', 'куда', 'зачем', 'всех', 'никогда', 'можно', 'при', 'наконец', 'два', 'об', 'другой', 'хоть', 'после', 'над', 'больше', 'тот', 'через', 'эти', 'нас', 'про', 'всего', 'них', 'какая', 'много', 'разве', 'три', 'эту', 'моя', 'впрочем', 'хорошо', 'свою', 'этой', 'перед', 'иногда', 'лучше', 'чуть', 'том', 'нельзя', 'такой', 'им', 'более', 'всегда', 'конечно', 'всю', 'между']\n"
     ]
    }
   ],
   "source": [
    "from nltk.corpus import stopwords\n",
    "\n",
    "print(stopwords.words(\"russian\"))"
   ]
  },
  {
   "cell_type": "code",
   "execution_count": 46,
   "metadata": {
    "ExecuteTime": {
     "end_time": "2023-04-18T16:50:57.502816Z",
     "start_time": "2023-04-18T16:50:57.424371Z"
    }
   },
   "outputs": [
    {
     "name": "stdout",
     "output_type": "stream",
     "text": [
      "['a', 'about', 'above', 'after', 'again', 'against', 'ain', 'all', 'am', 'an', 'and', 'any', 'are', 'aren', \"aren't\", 'as', 'at', 'be', 'because', 'been', 'before', 'being', 'below', 'between', 'both', 'but', 'by', 'can', 'couldn', \"couldn't\", 'd', 'did', 'didn', \"didn't\", 'do', 'does', 'doesn', \"doesn't\", 'doing', 'don', \"don't\", 'down', 'during', 'each', 'few', 'for', 'from', 'further', 'had', 'hadn', \"hadn't\", 'has', 'hasn', \"hasn't\", 'have', 'haven', \"haven't\", 'having', 'he', \"he'd\", \"he'll\", 'her', 'here', 'hers', 'herself', \"he's\", 'him', 'himself', 'his', 'how', 'i', \"i'd\", 'if', \"i'll\", \"i'm\", 'in', 'into', 'is', 'isn', \"isn't\", 'it', \"it'd\", \"it'll\", \"it's\", 'its', 'itself', \"i've\", 'just', 'll', 'm', 'ma', 'me', 'mightn', \"mightn't\", 'more', 'most', 'mustn', \"mustn't\", 'my', 'myself', 'needn', \"needn't\", 'no', 'nor', 'not', 'now', 'o', 'of', 'off', 'on', 'once', 'only', 'or', 'other', 'our', 'ours', 'ourselves', 'out', 'over', 'own', 're', 's', 'same', 'shan', \"shan't\", 'she', \"she'd\", \"she'll\", \"she's\", 'should', 'shouldn', \"shouldn't\", \"should've\", 'so', 'some', 'such', 't', 'than', 'that', \"that'll\", 'the', 'their', 'theirs', 'them', 'themselves', 'then', 'there', 'these', 'they', \"they'd\", \"they'll\", \"they're\", \"they've\", 'this', 'those', 'through', 'to', 'too', 'under', 'until', 'up', 've', 'very', 'was', 'wasn', \"wasn't\", 'we', \"we'd\", \"we'll\", \"we're\", 'were', 'weren', \"weren't\", \"we've\", 'what', 'when', 'where', 'which', 'while', 'who', 'whom', 'why', 'will', 'with', 'won', \"won't\", 'wouldn', \"wouldn't\", 'y', 'you', \"you'd\", \"you'll\", 'your', \"you're\", 'yours', 'yourself', 'yourselves', \"you've\"]\n"
     ]
    }
   ],
   "source": [
    "print(stopwords.words(\"english\"))"
   ]
  },
  {
   "cell_type": "code",
   "execution_count": 47,
   "metadata": {
    "ExecuteTime": {
     "end_time": "2023-04-18T16:50:57.503520Z",
     "start_time": "2023-04-18T16:50:57.426937Z"
    },
    "colab": {
     "base_uri": "https://localhost:8080/",
     "height": 35
    },
    "id": "2DehgAP3vTYu",
    "outputId": "25f5ddde-9521-4a76-803e-126ad14b1a3b"
   },
   "outputs": [
    {
     "data": {
      "text/plain": [
       "'!\"#$%&\\'()*+,-./:;<=>?@[\\\\]^_`{|}~'"
      ]
     },
     "execution_count": 47,
     "metadata": {},
     "output_type": "execute_result"
    }
   ],
   "source": [
    "from string import punctuation\n",
    "\n",
    "punctuation"
   ]
  },
  {
   "cell_type": "code",
   "execution_count": 48,
   "metadata": {
    "ExecuteTime": {
     "end_time": "2023-04-18T16:50:57.503604Z",
     "start_time": "2023-04-18T16:50:57.429475Z"
    },
    "id": "gLzygOQ6vTYv"
   },
   "outputs": [],
   "source": [
    "noise = stopwords.words(\"russian\") + list(punctuation)"
   ]
  },
  {
   "cell_type": "markdown",
   "metadata": {
    "id": "1SEdeiiPvTYv"
   },
   "source": [
    "## 3. Лемматизация и стемминг\n",
    "### 3.1 Лемматизация\n",
    "\n",
    "[**Лемматизация**](https://en.wikipedia.org/wiki/Lemmatisation) — процесс приведения слова к его нормальной форме (**лемме**):\n",
    "- для существительных — именительный падеж, единственное число;\n",
    "- для прилагательных — именительный падеж, единственное число, мужской род;\n",
    "- для глаголов, причастий, деепричастий — глагол в инфинитиве.\n",
    "\n",
    "Например, токены «пью», «пил», «пьет» перейдут в «пить». Почему это хорошо?\n",
    "* Во-первых, мы хотим рассматривать как отдельный признак каждое *слово*, а не каждую его отдельную форму.\n",
    "* Во-вторых, некоторые стоп-слова стоят только в начальной форме, и без лемматизации выкидываем мы только её.\n",
    "\n",
    "Для русского есть два хороших лемматизатора: `mystem` и `pymorphy`.\n",
    "\n",
    "#### [Mystem](https://tech.yandex.ru/mystem/)\n",
    "\n",
    "Mystem — это пример популярной библиотеки для лемматизации. Как с ним работать:\n",
    "* скачать mystem и запускать [из терминала с разными параметрами](https://tech.yandex.ru/mystem/doc/)\n",
    "* использовать обёртку для питона [pymystem3](https://pythonhosted.org/pymystem3/pymystem3.html) (она медленнее, но удобнее в использовании)"
   ]
  },
  {
   "cell_type": "code",
   "execution_count": 17,
   "metadata": {
    "ExecuteTime": {
     "end_time": "2023-04-18T16:50:57.503677Z",
     "start_time": "2023-04-18T16:50:57.431943Z"
    },
    "colab": {
     "base_uri": "https://localhost:8080/"
    },
    "id": "IM5dc5MPvTYw",
    "outputId": "fa540fd2-7a6a-476f-ab32-b0fd37e86461",
    "scrolled": true
   },
   "outputs": [],
   "source": [
    "# !pip install pymystem3"
   ]
  },
  {
   "cell_type": "code",
   "execution_count": 51,
   "metadata": {
    "ExecuteTime": {
     "end_time": "2023-04-18T16:50:57.503718Z",
     "start_time": "2023-04-18T16:50:57.433253Z"
    },
    "id": "60Q4xp6yvTYw"
   },
   "outputs": [],
   "source": [
    "from pymystem3 import Mystem\n",
    "\n",
    "mystem_analyzer = Mystem()"
   ]
  },
  {
   "cell_type": "markdown",
   "metadata": {
    "id": "al294srlvTYx"
   },
   "source": [
    "Мы инициализировали Mystem c дефолтными параметрами. А вообще параметры есть такие:\n",
    "* mystem_bin — путь к `mystem`, если их несколько\n",
    "* grammar_info — нужна ли грамматическая информация или только леммы (по умолчанию нужна)\n",
    "* disambiguation — нужно ли снятие [омонимии](https://ru.wikipedia.org/wiki/%D0%9E%D0%BC%D0%BE%D0%BD%D0%B8%D0%BC%D1%8B) - дизамбигуация (по умолчанию нужна)\n",
    "* entire_input — нужно ли сохранять в выводе все (пробелы, например), или можно выкинуть (по умолчанию оставляется все)\n",
    "\n",
    "Методы Mystem принимают строку, токенизатор вшит внутри. Можно, конечно, и пословно анализировать, но тогда он не сможет учитывать контекст.\n",
    "\n",
    "Можно просто лемматизировать текст:"
   ]
  },
  {
   "cell_type": "code",
   "execution_count": 52,
   "metadata": {
    "ExecuteTime": {
     "end_time": "2023-04-18T16:50:57.954209Z",
     "start_time": "2023-04-18T16:50:57.436430Z"
    },
    "colab": {
     "base_uri": "https://localhost:8080/"
    },
    "id": "3Oc4plDGvTYx",
    "outputId": "dd71e6d0-a98b-4a5c-fa3c-30370a493425"
   },
   "outputs": [
    {
     "name": "stdout",
     "output_type": "stream",
     "text": [
      "['но', ' ', 'не', ' ', 'каждый', ' ', 'хотеть', ' ', 'что-то', ' ', 'исправлять', ':(\\n']\n"
     ]
    }
   ],
   "source": [
    "print(mystem_analyzer.lemmatize(example))"
   ]
  },
  {
   "cell_type": "markdown",
   "metadata": {
    "id": "_mX1O12xvTYy"
   },
   "source": [
    "### [Pymorphy](http://pymorphy2.readthedocs.io/en/latest/)\n",
    "Это модуль на питоне, довольно быстрый и с кучей функций."
   ]
  },
  {
   "cell_type": "code",
   "execution_count": 20,
   "metadata": {
    "ExecuteTime": {
     "end_time": "2023-04-18T16:50:57.956279Z",
     "start_time": "2023-04-18T16:50:57.953848Z"
    },
    "colab": {
     "base_uri": "https://localhost:8080/"
    },
    "id": "l7-NcH9ivTYy",
    "outputId": "52fc5c7e-408c-4838-c022-84c9c340349b"
   },
   "outputs": [],
   "source": [
    "# !pip install pymorphy3"
   ]
  },
  {
   "cell_type": "code",
   "execution_count": 53,
   "metadata": {
    "ExecuteTime": {
     "end_time": "2023-04-18T16:50:57.963124Z",
     "start_time": "2023-04-18T16:50:57.956363Z"
    }
   },
   "outputs": [],
   "source": [
    "from pymorphy3 import MorphAnalyzer"
   ]
  },
  {
   "cell_type": "code",
   "execution_count": 54,
   "metadata": {
    "ExecuteTime": {
     "end_time": "2023-04-18T16:50:58.019760Z",
     "start_time": "2023-04-18T16:50:57.963923Z"
    },
    "id": "jnL4uv6JvTYz"
   },
   "outputs": [],
   "source": [
    "pymorphy3_analyzer = MorphAnalyzer()"
   ]
  },
  {
   "cell_type": "markdown",
   "metadata": {
    "id": "tIe3ssarvTYz"
   },
   "source": [
    "pymorphy3 работает с отдельными словами. Если дать ему на вход предложение, то он его просто не лемматизирует, т.к. не понимает.\n",
    "\n",
    "Метод MorphAnalyzer.parse() принимает слово и возвращает все возможные его разборы.\n",
    "\n",
    "У каждого разбора есть тег. Тег — это набор граммем, характеризующих данное слово. Например, тег 'VERB,perf,intr plur,past,indc' означает, что слово — глагол (VERB) совершенного вида (perf), непереходный (intr), множественного числа (plur), прошедшего времени (past), изъявительного наклонения (indc).\n"
   ]
  },
  {
   "cell_type": "code",
   "execution_count": 55,
   "metadata": {
    "ExecuteTime": {
     "end_time": "2023-04-18T16:50:58.024019Z",
     "start_time": "2023-04-18T16:50:58.020616Z"
    },
    "colab": {
     "base_uri": "https://localhost:8080/"
    },
    "id": "2Ztv5u7gvTY0",
    "outputId": "b70bae89-562b-4ce3-ba4c-e10a10469fd6"
   },
   "outputs": [
    {
     "data": {
      "text/plain": [
       "[Parse(word='хочет', tag=OpencorporaTag('VERB,impf,tran sing,3per,pres,indc'), normal_form='хотеть', score=1.0, methods_stack=((DictionaryAnalyzer(), 'хочет', 3136, 5),))]"
      ]
     },
     "execution_count": 55,
     "metadata": {},
     "output_type": "execute_result"
    }
   ],
   "source": [
    "ana = pymorphy3_analyzer.parse(\"хочет\")\n",
    "ana"
   ]
  },
  {
   "cell_type": "code",
   "execution_count": 56,
   "metadata": {
    "ExecuteTime": {
     "end_time": "2023-04-18T16:50:58.027260Z",
     "start_time": "2023-04-18T16:50:58.023109Z"
    },
    "colab": {
     "base_uri": "https://localhost:8080/",
     "height": 35
    },
    "id": "9NBnUjhfvTY2",
    "outputId": "45f3f0ca-770e-4436-a0d0-9006562c4d86"
   },
   "outputs": [
    {
     "data": {
      "text/plain": [
       "'хотеть'"
      ]
     },
     "execution_count": 56,
     "metadata": {},
     "output_type": "execute_result"
    }
   ],
   "source": [
    "ana[0].normal_form"
   ]
  },
  {
   "cell_type": "markdown",
   "metadata": {
    "id": "AY0CeomBvTY3"
   },
   "source": [
    "### mystem vs. pymorphy\n",
    "\n",
    "1) *Надеемся, что вы пользуетесь линуксом или маком* — mystem работает невероятно медленно под windows на больших текстах\n",
    "\n",
    "2) *Снятие омонимии*. Mystem умеет снимать омонимию по контексту (хотя не всегда преуспевает), pymorphy3 берет на вход одно слово и соответственно вообще не умеет дизамбигуировать по контексту."
   ]
  },
  {
   "cell_type": "code",
   "execution_count": 57,
   "metadata": {
    "ExecuteTime": {
     "end_time": "2023-04-18T16:50:58.028266Z",
     "start_time": "2023-04-18T16:50:58.025883Z"
    },
    "colab": {
     "base_uri": "https://localhost:8080/"
    },
    "id": "3ZHNWM8MvTY3",
    "outputId": "516e91d4-e73b-41bb-f01b-26f6643ff7d1"
   },
   "outputs": [
    {
     "name": "stdout",
     "output_type": "stream",
     "text": [
      "{'analysis': [{'lex': 'сорок', 'wt': 0.8710292664, 'gr': 'NUM=(пр|дат|род|твор)'}], 'text': 'сорока'}\n",
      "{'analysis': [{'lex': 'сорока', 'wt': 0.1210970041, 'gr': 'S,жен,од=им,ед'}], 'text': 'Сорока'}\n"
     ]
    }
   ],
   "source": [
    "homonym1 = \"За время обучения я прослушал больше сорока курсов.\"\n",
    "homonym2 = \"Сорока своровала блестящее украшение со стола.\"\n",
    "\n",
    "# корректно определил части речи\n",
    "# NUM — числительное\n",
    "# S — существительное\n",
    "print(mystem_analyzer.analyze(homonym1)[-5])\n",
    "print(mystem_analyzer.analyze(homonym2)[0])"
   ]
  },
  {
   "cell_type": "markdown",
   "metadata": {
    "id": "Y4ifiT5avTY4"
   },
   "source": [
    "### 3.2 Стемминг\n",
    "\n",
    "В отличие от лемматизации, при применении стемминга у всех слов отбрасываются аффиксы (окончания и суффиксы), что необязательно приводит слова к формам, существующим в рассматриваемом языке. [**Snowball**](http://snowball.tartarus.org/) — фрэймворк для написания алгоритмов стемминга. Алгоритмы стемминга отличаются для разных языков и используют знания о конкретном языке: списки окончаний для разных частей речи, разных склонений и т.д."
   ]
  },
  {
   "cell_type": "code",
   "execution_count": 58,
   "metadata": {
    "ExecuteTime": {
     "end_time": "2023-04-18T16:50:58.030752Z",
     "start_time": "2023-04-18T16:50:58.029232Z"
    },
    "id": "tUI4LkoUvTY4"
   },
   "outputs": [],
   "source": [
    "from nltk.stem.snowball import SnowballStemmer"
   ]
  },
  {
   "cell_type": "code",
   "execution_count": 59,
   "metadata": {
    "ExecuteTime": {
     "end_time": "2023-04-18T16:50:58.032674Z",
     "start_time": "2023-04-18T16:50:58.031151Z"
    }
   },
   "outputs": [],
   "source": [
    "tokenized_example = word_tokenize(example)"
   ]
  },
  {
   "cell_type": "code",
   "execution_count": 60,
   "metadata": {
    "ExecuteTime": {
     "end_time": "2023-04-18T16:50:58.036669Z",
     "start_time": "2023-04-18T16:50:58.033530Z"
    },
    "colab": {
     "base_uri": "https://localhost:8080/"
    },
    "id": "yDhsgmNsvTY5",
    "outputId": "9b29e2a4-1a9e-4e10-f247-3abdb81b14d6"
   },
   "outputs": [
    {
     "name": "stdout",
     "output_type": "stream",
     "text": [
      "но не кажд хочет что-т исправля : (\n"
     ]
    }
   ],
   "source": [
    "stemmer = SnowballStemmer(\"russian\")\n",
    "stemmed_example = [stemmer.stem(w) for w in tokenized_example]\n",
    "print(\" \".join(stemmed_example))"
   ]
  },
  {
   "cell_type": "markdown",
   "metadata": {},
   "source": [
    "Для английского получится что-то такое."
   ]
  },
  {
   "cell_type": "code",
   "execution_count": 61,
   "metadata": {
    "ExecuteTime": {
     "end_time": "2023-04-18T16:50:58.038780Z",
     "start_time": "2023-04-18T16:50:58.036341Z"
    },
    "colab": {
     "base_uri": "https://localhost:8080/"
    },
    "id": "IYdj8R20vTY5",
    "outputId": "1bd95bdf-b5f2-42c2-a479-acdf03c58809"
   },
   "outputs": [
    {
     "name": "stdout",
     "output_type": "stream",
     "text": [
      "In my younger and more vulnerable years my father gave me some advice that I've been turning over in my mind ever since.\n",
      "\"Whenever you feel like criticizing any one,\" he told me, \"just remember that all the people in this world haven't had the advantages that you've had.\"\n",
      "==========\n",
      "['In', 'my', 'younger', 'and', 'more', 'vulnerable', 'years', 'my', 'father', 'gave', 'me', 'some', 'advice', 'that', 'I', 'been', 'turning', 'over', 'in', 'my', 'mind', 'ever', 'since', 'Whenever', 'you', 'feel', 'like', 'criticizing', 'any', 'one', 'he', 'told', 'me', 'just', 'remember', 'that', 'all', 'the', 'people', 'in', 'this', 'world', 'have', 'had', 'the', 'advantages', 'that', 'you', 'had']\n"
     ]
    }
   ],
   "source": [
    "text = 'In my younger and more vulnerable years my father gave me some advice that I\\'ve been turning over in my mind ever since.\\n\"Whenever you feel like criticizing any one,\" he told me, \"just remember that all the people in this world haven\\'t had the advantages that you\\'ve had.\"'\n",
    "print(text)\n",
    "text_tokenized = [w for w in word_tokenize(text) if w.isalpha()]\n",
    "print(\"==========\")\n",
    "print(text_tokenized)"
   ]
  },
  {
   "cell_type": "code",
   "execution_count": 62,
   "metadata": {
    "ExecuteTime": {
     "end_time": "2023-04-18T16:50:58.040805Z",
     "start_time": "2023-04-18T16:50:58.038614Z"
    },
    "colab": {
     "base_uri": "https://localhost:8080/"
    },
    "id": "386kIQJYvTY5",
    "outputId": "3e3efc61-d8ec-4af6-d907-598ab3acb7f0"
   },
   "outputs": [
    {
     "name": "stdout",
     "output_type": "stream",
     "text": [
      "in my younger and more vulner year my father gave me some advic that i been turn over in my mind ever sinc whenev you feel like critic ani one he told me just rememb that all the peopl in this world have had the advantag that you had\n"
     ]
    }
   ],
   "source": [
    "stemmer = SnowballStemmer(\"english\")\n",
    "text_stemmed = [stemmer.stem(w) for w in text_tokenized]\n",
    "print(\" \".join(text_stemmed))"
   ]
  },
  {
   "cell_type": "markdown",
   "metadata": {
    "id": "x5dNFUPHvTY6"
   },
   "source": [
    "## 4. Bag-of-words и TF-IDF\n",
    "\n",
    "Но как же все-таки работать с текстами, используя стандартные методы машинного обучения? Ведь нам нужны объекты выборки, которые описываются числами, а не словами. Иначе говоря, нам нужно *векторизовать* текстовые данные.\n",
    "\n",
    "### 4.1 Bag-of-words\n",
    "\n",
    "Пусть у нас имеется коллекция текстов $D = \\{d_i\\}_{i=1}^l$ и словарь всех слов, встречающихся в выборке $V = \\{v_j\\}_{j=1}^d.$ В этом случае некоторый текст $d_i$ описывается вектором $(x_{ij})_{j=1}^d,$ где\n",
    "$$x_{ij} = \\sum_{v \\in d_i} [v = v_j].$$\n",
    "\n",
    "Таким образом, текст $d_i$ описывается вектором количества вхождений каждого слова из словаря в данный текст."
   ]
  },
  {
   "cell_type": "code",
   "execution_count": 63,
   "metadata": {
    "ExecuteTime": {
     "end_time": "2023-04-18T16:50:58.095188Z",
     "start_time": "2023-04-18T16:50:58.040839Z"
    },
    "id": "x2eF8nZLvTY7"
   },
   "outputs": [],
   "source": [
    "texts = [\n",
    "    \"I like my cat.\",\n",
    "    \"My cat is the most perfect cat.\",\n",
    "    \"is this cat or is this bread?\",\n",
    "]"
   ]
  },
  {
   "cell_type": "code",
   "execution_count": 64,
   "metadata": {
    "ExecuteTime": {
     "end_time": "2023-04-18T16:50:58.104626Z",
     "start_time": "2023-04-18T16:50:58.043952Z"
    },
    "colab": {
     "base_uri": "https://localhost:8080/"
    },
    "id": "IjG4gU5JvTY7",
    "outputId": "0d8650c5-7419-4689-ca67-c7729734991f"
   },
   "outputs": [
    {
     "data": {
      "text/plain": [
       "['I like my cat',\n",
       " 'My cat is the most perfect cat',\n",
       " 'is this cat or is this bread']"
      ]
     },
     "execution_count": 64,
     "metadata": {},
     "output_type": "execute_result"
    }
   ],
   "source": [
    "texts_tokenized = [\n",
    "    \" \".join([w for w in word_tokenize(t) if w.isalpha()]) for t in texts\n",
    "]\n",
    "texts_tokenized"
   ]
  },
  {
   "cell_type": "code",
   "execution_count": 65,
   "metadata": {
    "ExecuteTime": {
     "end_time": "2023-04-18T16:50:58.104770Z",
     "start_time": "2023-04-18T16:50:58.046474Z"
    },
    "id": "NVomQglIvTY8"
   },
   "outputs": [],
   "source": [
    "from sklearn.feature_extraction.text import CountVectorizer\n",
    "\n",
    "cnt_vec = CountVectorizer()\n",
    "X = cnt_vec.fit_transform(texts_tokenized)"
   ]
  },
  {
   "cell_type": "code",
   "execution_count": 66,
   "metadata": {
    "ExecuteTime": {
     "end_time": "2023-04-18T16:50:58.104925Z",
     "start_time": "2023-04-18T16:50:58.049174Z"
    },
    "colab": {
     "base_uri": "https://localhost:8080/"
    },
    "id": "kwAKWt_4vTY9",
    "outputId": "1c8f8dad-89a9-4402-adae-916f76ae1631"
   },
   "outputs": [
    {
     "data": {
      "text/plain": [
       "dict_keys(['like', 'my', 'cat', 'is', 'the', 'most', 'perfect', 'this', 'or', 'bread'])"
      ]
     },
     "execution_count": 66,
     "metadata": {},
     "output_type": "execute_result"
    }
   ],
   "source": [
    "cnt_vec.vocabulary_.keys()"
   ]
  },
  {
   "cell_type": "code",
   "execution_count": 67,
   "metadata": {
    "ExecuteTime": {
     "end_time": "2023-04-18T16:50:58.105067Z",
     "start_time": "2023-04-18T16:50:58.051691Z"
    },
    "colab": {
     "base_uri": "https://localhost:8080/"
    },
    "id": "Ye63VKazvTY-",
    "outputId": "4dede0ed-ac68-4bad-ef3e-bb5be72f4dbc"
   },
   "outputs": [
    {
     "data": {
      "text/plain": [
       "<Compressed Sparse Row sparse matrix of dtype 'int64'\n",
       "\twith 14 stored elements and shape (3, 10)>"
      ]
     },
     "execution_count": 67,
     "metadata": {},
     "output_type": "execute_result"
    }
   ],
   "source": [
    "X"
   ]
  },
  {
   "cell_type": "code",
   "execution_count": 68,
   "metadata": {
    "ExecuteTime": {
     "end_time": "2023-04-18T16:50:58.105194Z",
     "start_time": "2023-04-18T16:50:58.054Z"
    },
    "colab": {
     "base_uri": "https://localhost:8080/"
    },
    "id": "PvYOzpALvTY-",
    "outputId": "0b3192e7-2546-4040-cac8-55b208b30071"
   },
   "outputs": [
    {
     "data": {
      "text/plain": [
       "array([[0, 1, 0, 1, 0, 1, 0, 0, 0, 0],\n",
       "       [0, 2, 1, 0, 1, 1, 0, 1, 1, 0],\n",
       "       [1, 1, 2, 0, 0, 0, 1, 0, 0, 2]])"
      ]
     },
     "execution_count": 68,
     "metadata": {},
     "output_type": "execute_result"
    }
   ],
   "source": [
    "X.toarray()"
   ]
  },
  {
   "cell_type": "code",
   "execution_count": 69,
   "metadata": {
    "ExecuteTime": {
     "end_time": "2023-04-18T16:50:58.105450Z",
     "start_time": "2023-04-18T16:50:58.056639Z"
    },
    "colab": {
     "base_uri": "https://localhost:8080/",
     "height": 142
    },
    "id": "z40jdf5-vTY-",
    "outputId": "80b68939-a2b0-4ea1-909e-409e9b1b6310"
   },
   "outputs": [
    {
     "data": {
      "text/html": [
       "<div>\n",
       "<style scoped>\n",
       "    .dataframe tbody tr th:only-of-type {\n",
       "        vertical-align: middle;\n",
       "    }\n",
       "\n",
       "    .dataframe tbody tr th {\n",
       "        vertical-align: top;\n",
       "    }\n",
       "\n",
       "    .dataframe thead th {\n",
       "        text-align: right;\n",
       "    }\n",
       "</style>\n",
       "<table border=\"1\" class=\"dataframe\">\n",
       "  <thead>\n",
       "    <tr style=\"text-align: right;\">\n",
       "      <th></th>\n",
       "      <th>bread</th>\n",
       "      <th>cat</th>\n",
       "      <th>is</th>\n",
       "      <th>like</th>\n",
       "      <th>most</th>\n",
       "      <th>my</th>\n",
       "      <th>or</th>\n",
       "      <th>perfect</th>\n",
       "      <th>the</th>\n",
       "      <th>this</th>\n",
       "    </tr>\n",
       "  </thead>\n",
       "  <tbody>\n",
       "    <tr>\n",
       "      <th>0</th>\n",
       "      <td>0</td>\n",
       "      <td>1</td>\n",
       "      <td>0</td>\n",
       "      <td>1</td>\n",
       "      <td>0</td>\n",
       "      <td>1</td>\n",
       "      <td>0</td>\n",
       "      <td>0</td>\n",
       "      <td>0</td>\n",
       "      <td>0</td>\n",
       "    </tr>\n",
       "    <tr>\n",
       "      <th>1</th>\n",
       "      <td>0</td>\n",
       "      <td>2</td>\n",
       "      <td>1</td>\n",
       "      <td>0</td>\n",
       "      <td>1</td>\n",
       "      <td>1</td>\n",
       "      <td>0</td>\n",
       "      <td>1</td>\n",
       "      <td>1</td>\n",
       "      <td>0</td>\n",
       "    </tr>\n",
       "    <tr>\n",
       "      <th>2</th>\n",
       "      <td>1</td>\n",
       "      <td>1</td>\n",
       "      <td>2</td>\n",
       "      <td>0</td>\n",
       "      <td>0</td>\n",
       "      <td>0</td>\n",
       "      <td>1</td>\n",
       "      <td>0</td>\n",
       "      <td>0</td>\n",
       "      <td>2</td>\n",
       "    </tr>\n",
       "  </tbody>\n",
       "</table>\n",
       "</div>"
      ],
      "text/plain": [
       "   bread  cat  is  like  most  my  or  perfect  the  this\n",
       "0      0    1   0     1     0   1   0        0    0     0\n",
       "1      0    2   1     0     1   1   0        1    1     0\n",
       "2      1    1   2     0     0   0   1        0    0     2"
      ]
     },
     "execution_count": 69,
     "metadata": {},
     "output_type": "execute_result"
    }
   ],
   "source": [
    "pd.DataFrame(X.toarray(), columns=cnt_vec.get_feature_names_out())"
   ]
  },
  {
   "cell_type": "markdown",
   "metadata": {
    "id": "4tZsL30hvTY-"
   },
   "source": [
    "### 4.2 TF-IDF\n",
    "\n",
    "Заметим, что если слово часто встречается в одном тексте, но почти не встречается в других, то оно получает для данного текста большой вес, ровно так же, как и слова, которые часто встречаются в каждом тексте. Для того чтобы разделять эти такие слова, можно использовать статистическую меру TF-IDF, характеризующую важность слова для конкретного текста. Для каждого слова из текста $d$ рассчитаем относительную частоту встречаемости в нем (Term Frequency):\n",
    "$$\n",
    "\\text{TF}(t, d) = \\frac{C(t | d)}{\\sum\\limits_{k \\in d}C(k | d)},\n",
    "$$\n",
    "где $C(t | d)$ - число вхождений слова $t$ в текст $d$.\n",
    "\n",
    "Также для каждого слова из текста $d$ рассчитаем обратную частоту встречаемости в корпусе текстов $D$ (Inverse Document Frequency):\n",
    "$$\n",
    "\\text{IDF}(t, D) = \\log\\left(\\frac{|D|}{|\\{d_i \\in D \\mid t \\in d_i\\}|}\\right)\n",
    "$$\n",
    "Логарифмирование здесь проводится с целью уменьшить масштаб весов, ибо зачастую в корпусах присутствует очень много текстов.\n",
    "\n",
    "В итоге каждому слову $t$ из текста $d$ теперь можно присвоить вес\n",
    "$$\n",
    "\\text{TF-IDF}(t, d, D) = \\text{TF}(t, d) \\times \\text{IDF}(t, D)\n",
    "$$\n",
    "Интерпретировать формулу выше несложно: действительно, чем чаще данное слово встречается в данном тексте и чем реже в остальных, тем важнее оно для этого текста.\n",
    "\n",
    "Отметим, что в качестве TF и IDF можно использовать другие [определения](https://en.wikipedia.org/wiki/Tf%E2%80%93idf#Definition)."
   ]
  },
  {
   "cell_type": "code",
   "execution_count": 70,
   "metadata": {
    "ExecuteTime": {
     "end_time": "2023-04-18T16:50:58.105509Z",
     "start_time": "2023-04-18T16:50:58.061637Z"
    },
    "id": "F0YcEWeqvTY_"
   },
   "outputs": [],
   "source": [
    "from sklearn.feature_extraction.text import TfidfVectorizer\n",
    "\n",
    "tfidf_vec = TfidfVectorizer()\n",
    "X = tfidf_vec.fit_transform(texts_tokenized)"
   ]
  },
  {
   "cell_type": "code",
   "execution_count": 71,
   "metadata": {
    "ExecuteTime": {
     "end_time": "2023-04-18T16:50:58.105598Z",
     "start_time": "2023-04-18T16:50:58.064598Z"
    },
    "colab": {
     "base_uri": "https://localhost:8080/"
    },
    "id": "fpCVQJG8vTY_",
    "outputId": "f8290c90-e00b-4cef-cff8-538702ff4ba7"
   },
   "outputs": [
    {
     "data": {
      "text/plain": [
       "dict_keys(['like', 'my', 'cat', 'is', 'the', 'most', 'perfect', 'this', 'or', 'bread'])"
      ]
     },
     "execution_count": 71,
     "metadata": {},
     "output_type": "execute_result"
    }
   ],
   "source": [
    "tfidf_vec.vocabulary_.keys()"
   ]
  },
  {
   "cell_type": "code",
   "execution_count": 72,
   "metadata": {
    "ExecuteTime": {
     "end_time": "2023-04-18T16:50:58.105710Z",
     "start_time": "2023-04-18T16:50:58.066937Z"
    },
    "colab": {
     "base_uri": "https://localhost:8080/"
    },
    "id": "saJG0dWyvTZA",
    "outputId": "de21ac1d-4ae3-4cb3-86ed-d1a9dac5fe9a"
   },
   "outputs": [
    {
     "data": {
      "text/plain": [
       "<Compressed Sparse Row sparse matrix of dtype 'float64'\n",
       "\twith 14 stored elements and shape (3, 10)>"
      ]
     },
     "execution_count": 72,
     "metadata": {},
     "output_type": "execute_result"
    }
   ],
   "source": [
    "X"
   ]
  },
  {
   "cell_type": "code",
   "execution_count": 73,
   "metadata": {
    "ExecuteTime": {
     "end_time": "2023-04-18T16:50:58.105840Z",
     "start_time": "2023-04-18T16:50:58.073856Z"
    },
    "colab": {
     "base_uri": "https://localhost:8080/"
    },
    "id": "t43byRVIvTZA",
    "outputId": "ad00d857-ded7-4f95-f58f-f41765ece04b"
   },
   "outputs": [
    {
     "data": {
      "text/plain": [
       "array([[0.        , 0.42544054, 0.        , 0.72033345, 0.        ,\n",
       "        0.54783215, 0.        , 0.        , 0.        , 0.        ],\n",
       "       [0.        , 0.50130994, 0.32276391, 0.        , 0.42439575,\n",
       "        0.32276391, 0.        , 0.42439575, 0.42439575, 0.        ],\n",
       "       [0.33976626, 0.20067143, 0.516802  , 0.        , 0.        ,\n",
       "        0.        , 0.33976626, 0.        , 0.        , 0.67953252]])"
      ]
     },
     "execution_count": 73,
     "metadata": {},
     "output_type": "execute_result"
    }
   ],
   "source": [
    "X.toarray()"
   ]
  },
  {
   "cell_type": "code",
   "execution_count": 74,
   "metadata": {
    "ExecuteTime": {
     "end_time": "2023-04-18T16:50:58.106645Z",
     "start_time": "2023-04-18T16:50:58.078284Z"
    },
    "colab": {
     "base_uri": "https://localhost:8080/",
     "height": 142
    },
    "id": "YGpSpl4KvTZA",
    "outputId": "266e8fdd-a1ae-4c1c-a4b8-2a950abd0e03"
   },
   "outputs": [
    {
     "data": {
      "text/html": [
       "<div>\n",
       "<style scoped>\n",
       "    .dataframe tbody tr th:only-of-type {\n",
       "        vertical-align: middle;\n",
       "    }\n",
       "\n",
       "    .dataframe tbody tr th {\n",
       "        vertical-align: top;\n",
       "    }\n",
       "\n",
       "    .dataframe thead th {\n",
       "        text-align: right;\n",
       "    }\n",
       "</style>\n",
       "<table border=\"1\" class=\"dataframe\">\n",
       "  <thead>\n",
       "    <tr style=\"text-align: right;\">\n",
       "      <th></th>\n",
       "      <th>bread</th>\n",
       "      <th>cat</th>\n",
       "      <th>is</th>\n",
       "      <th>like</th>\n",
       "      <th>most</th>\n",
       "      <th>my</th>\n",
       "      <th>or</th>\n",
       "      <th>perfect</th>\n",
       "      <th>the</th>\n",
       "      <th>this</th>\n",
       "    </tr>\n",
       "  </thead>\n",
       "  <tbody>\n",
       "    <tr>\n",
       "      <th>0</th>\n",
       "      <td>0.000000</td>\n",
       "      <td>0.425441</td>\n",
       "      <td>0.000000</td>\n",
       "      <td>0.720333</td>\n",
       "      <td>0.000000</td>\n",
       "      <td>0.547832</td>\n",
       "      <td>0.000000</td>\n",
       "      <td>0.000000</td>\n",
       "      <td>0.000000</td>\n",
       "      <td>0.000000</td>\n",
       "    </tr>\n",
       "    <tr>\n",
       "      <th>1</th>\n",
       "      <td>0.000000</td>\n",
       "      <td>0.501310</td>\n",
       "      <td>0.322764</td>\n",
       "      <td>0.000000</td>\n",
       "      <td>0.424396</td>\n",
       "      <td>0.322764</td>\n",
       "      <td>0.000000</td>\n",
       "      <td>0.424396</td>\n",
       "      <td>0.424396</td>\n",
       "      <td>0.000000</td>\n",
       "    </tr>\n",
       "    <tr>\n",
       "      <th>2</th>\n",
       "      <td>0.339766</td>\n",
       "      <td>0.200671</td>\n",
       "      <td>0.516802</td>\n",
       "      <td>0.000000</td>\n",
       "      <td>0.000000</td>\n",
       "      <td>0.000000</td>\n",
       "      <td>0.339766</td>\n",
       "      <td>0.000000</td>\n",
       "      <td>0.000000</td>\n",
       "      <td>0.679533</td>\n",
       "    </tr>\n",
       "  </tbody>\n",
       "</table>\n",
       "</div>"
      ],
      "text/plain": [
       "      bread       cat        is      like      most        my        or  \\\n",
       "0  0.000000  0.425441  0.000000  0.720333  0.000000  0.547832  0.000000   \n",
       "1  0.000000  0.501310  0.322764  0.000000  0.424396  0.322764  0.000000   \n",
       "2  0.339766  0.200671  0.516802  0.000000  0.000000  0.000000  0.339766   \n",
       "\n",
       "    perfect       the      this  \n",
       "0  0.000000  0.000000  0.000000  \n",
       "1  0.424396  0.424396  0.000000  \n",
       "2  0.000000  0.000000  0.679533  "
      ]
     },
     "execution_count": 74,
     "metadata": {},
     "output_type": "execute_result"
    }
   ],
   "source": [
    "pd.DataFrame(X.toarray(), columns=cnt_vec.get_feature_names_out())"
   ]
  },
  {
   "cell_type": "markdown",
   "metadata": {
    "id": "Iwcgx05UvTZA"
   },
   "source": [
    "**Вопросик:** что изменилось по сравнению с использованием метода `CountVectorizer`?"
   ]
  },
  {
   "cell_type": "markdown",
   "metadata": {
    "id": "hrP93rWwvTZB"
   },
   "source": [
    "## 5. Решение задачи с текстовыми данными\n",
    "\n",
    "Будем решать задачу классификации твитов по тональности. Возьмём датасет из твитов, в котором про каждый твит известно, как он эмоционально окрашен: положительно или отрицательно. Задача: предсказывать эмоциональную окраску. Классификацию по тональности используют, например, в рекомендательных системах, чтобы понять, понравилось ли людям кафе, кино, etc.\n",
    "\n",
    "Скачиваем куски датасета ([источник](http://study.mokoron.com/)): [положительные](https://www.dropbox.com/s/fnpq3z4bcnoktiv/positive.csv?dl=0), [отрицательные](https://www.dropbox.com/s/r6u59ljhhjdg6j0/negative.csv)."
   ]
  },
  {
   "cell_type": "code",
   "execution_count": 43,
   "metadata": {
    "ExecuteTime": {
     "end_time": "2023-04-18T16:50:58.106702Z",
     "start_time": "2023-04-18T16:50:58.080790Z"
    }
   },
   "outputs": [],
   "source": [
    "# если у вас линукс / мак / collab или ещё какая-то среда, в которой работает wget, можно так:\n",
    "# !wget https://www.dropbox.com/s/fnpq3z4bcnoktiv/positive.csv\n",
    "# !wget https://www.dropbox.com/s/r6u59ljhhjdg6j0/negative.csv"
   ]
  },
  {
   "cell_type": "code",
   "execution_count": 75,
   "metadata": {
    "ExecuteTime": {
     "end_time": "2023-04-18T16:50:58.106741Z",
     "start_time": "2023-04-18T16:50:58.082275Z"
    }
   },
   "outputs": [],
   "source": [
    "import numpy as np\n",
    "import pandas as pd\n",
    "from sklearn.linear_model import LogisticRegression\n",
    "from sklearn.metrics import classification_report, roc_auc_score\n",
    "from sklearn.model_selection import train_test_split\n",
    "from sklearn.preprocessing import MaxAbsScaler"
   ]
  },
  {
   "cell_type": "code",
   "execution_count": null,
   "metadata": {},
   "outputs": [],
   "source": [
    "# считываем данные и заполняем общий датасет\n",
    "positive = pd.read_csv(\"positive.csv\", sep=\";\", usecols=[3], names=[\"text\"])\n",
    "positive[\"label\"] = \"positive\"\n",
    "negative = pd.read_csv(\"negative.csv\", sep=\";\", usecols=[3], names=[\"text\"])\n",
    "negative[\"label\"] = \"negative\"\n",
    "df = pd.concat([positive, negative])"
   ]
  },
  {
   "cell_type": "code",
   "execution_count": 46,
   "metadata": {
    "ExecuteTime": {
     "end_time": "2023-04-18T16:50:58.498928Z",
     "start_time": "2023-04-18T16:50:58.495906Z"
    }
   },
   "outputs": [
    {
     "data": {
      "text/html": [
       "<div>\n",
       "<style scoped>\n",
       "    .dataframe tbody tr th:only-of-type {\n",
       "        vertical-align: middle;\n",
       "    }\n",
       "\n",
       "    .dataframe tbody tr th {\n",
       "        vertical-align: top;\n",
       "    }\n",
       "\n",
       "    .dataframe thead th {\n",
       "        text-align: right;\n",
       "    }\n",
       "</style>\n",
       "<table border=\"1\" class=\"dataframe\">\n",
       "  <thead>\n",
       "    <tr style=\"text-align: right;\">\n",
       "      <th></th>\n",
       "      <th>text</th>\n",
       "      <th>label</th>\n",
       "    </tr>\n",
       "  </thead>\n",
       "  <tbody>\n",
       "    <tr>\n",
       "      <th>111918</th>\n",
       "      <td>Но не каждый хочет что то исправлять:( http://...</td>\n",
       "      <td>negative</td>\n",
       "    </tr>\n",
       "    <tr>\n",
       "      <th>111919</th>\n",
       "      <td>скучаю так :-( только @taaannyaaa вправляет мо...</td>\n",
       "      <td>negative</td>\n",
       "    </tr>\n",
       "    <tr>\n",
       "      <th>111920</th>\n",
       "      <td>Вот и в школу, в говно это идти уже надо(</td>\n",
       "      <td>negative</td>\n",
       "    </tr>\n",
       "    <tr>\n",
       "      <th>111921</th>\n",
       "      <td>RT @_Them__: @LisaBeroud Тауриэль, не грусти :...</td>\n",
       "      <td>negative</td>\n",
       "    </tr>\n",
       "    <tr>\n",
       "      <th>111922</th>\n",
       "      <td>Такси везет меня на работу. Раздумываю приплат...</td>\n",
       "      <td>negative</td>\n",
       "    </tr>\n",
       "  </tbody>\n",
       "</table>\n",
       "</div>"
      ],
      "text/plain": [
       "                                                     text     label\n",
       "111918  Но не каждый хочет что то исправлять:( http://...  negative\n",
       "111919  скучаю так :-( только @taaannyaaa вправляет мо...  negative\n",
       "111920          Вот и в школу, в говно это идти уже надо(  negative\n",
       "111921  RT @_Them__: @LisaBeroud Тауриэль, не грусти :...  negative\n",
       "111922  Такси везет меня на работу. Раздумываю приплат...  negative"
      ]
     },
     "execution_count": 46,
     "metadata": {},
     "output_type": "execute_result"
    }
   ],
   "source": [
    "df.tail()"
   ]
  },
  {
   "cell_type": "code",
   "execution_count": 47,
   "metadata": {
    "ExecuteTime": {
     "end_time": "2023-04-18T16:50:58.501134Z",
     "start_time": "2023-04-18T16:50:58.498598Z"
    }
   },
   "outputs": [
    {
     "data": {
      "text/plain": [
       "(226834, 2)"
      ]
     },
     "execution_count": 47,
     "metadata": {},
     "output_type": "execute_result"
    }
   ],
   "source": [
    "df.shape"
   ]
  },
  {
   "cell_type": "code",
   "execution_count": 48,
   "metadata": {
    "ExecuteTime": {
     "end_time": "2023-04-18T16:50:58.534375Z",
     "start_time": "2023-04-18T16:50:58.501394Z"
    }
   },
   "outputs": [],
   "source": [
    "x_train, x_test, y_train, y_test = train_test_split(df.text, df.label, random_state=13)"
   ]
  },
  {
   "cell_type": "markdown",
   "metadata": {},
   "source": [
    "#### n-граммы\n",
    "\n",
    "n-граммы — это последовательности n токенов из исходного текста. В простейшем случае это могут быть последовательности из букв или последовательности из слов. Давайте посмотрим подробнее на примере."
   ]
  },
  {
   "cell_type": "code",
   "execution_count": 49,
   "metadata": {
    "ExecuteTime": {
     "end_time": "2023-04-18T16:50:58.535017Z",
     "start_time": "2023-04-18T16:50:58.516459Z"
    },
    "id": "mMoCnsi5vTZB"
   },
   "outputs": [],
   "source": [
    "from nltk import ngrams"
   ]
  },
  {
   "cell_type": "code",
   "execution_count": 50,
   "metadata": {
    "ExecuteTime": {
     "end_time": "2023-04-18T16:50:58.555122Z",
     "start_time": "2023-04-18T16:50:58.518609Z"
    },
    "colab": {
     "base_uri": "https://localhost:8080/"
    },
    "id": "lIf_da6RvTZD",
    "outputId": "9e811e97-bc9b-4bc4-a980-b164d1a5a575"
   },
   "outputs": [
    {
     "data": {
      "text/plain": [
       "[('Если',), ('б',), ('мне',), ('платили',), ('каждый',), ('раз',)]"
      ]
     },
     "execution_count": 50,
     "metadata": {},
     "output_type": "execute_result"
    }
   ],
   "source": [
    "sent = \"Если б мне платили каждый раз\".split()\n",
    "list(ngrams(sent, 1))  # униграммы"
   ]
  },
  {
   "cell_type": "code",
   "execution_count": 51,
   "metadata": {
    "ExecuteTime": {
     "end_time": "2023-04-18T16:50:58.555317Z",
     "start_time": "2023-04-18T16:50:58.521205Z"
    },
    "colab": {
     "base_uri": "https://localhost:8080/"
    },
    "id": "YhaYTVyuvTZD",
    "outputId": "dbd0ae5c-d5eb-4e1f-e501-7e54476014b7"
   },
   "outputs": [
    {
     "data": {
      "text/plain": [
       "[('Если', 'б'),\n",
       " ('б', 'мне'),\n",
       " ('мне', 'платили'),\n",
       " ('платили', 'каждый'),\n",
       " ('каждый', 'раз')]"
      ]
     },
     "execution_count": 51,
     "metadata": {},
     "output_type": "execute_result"
    }
   ],
   "source": [
    "list(ngrams(sent, 2))  # биграммы"
   ]
  },
  {
   "cell_type": "code",
   "execution_count": 52,
   "metadata": {
    "ExecuteTime": {
     "end_time": "2023-04-18T16:50:58.555416Z",
     "start_time": "2023-04-18T16:50:58.523529Z"
    },
    "colab": {
     "base_uri": "https://localhost:8080/"
    },
    "id": "3fpat_ZGvTZD",
    "outputId": "a49249bd-6199-41ff-85cd-fe108b2a684a"
   },
   "outputs": [
    {
     "data": {
      "text/plain": [
       "[('Если', 'б', 'мне'),\n",
       " ('б', 'мне', 'платили'),\n",
       " ('мне', 'платили', 'каждый'),\n",
       " ('платили', 'каждый', 'раз')]"
      ]
     },
     "execution_count": 52,
     "metadata": {},
     "output_type": "execute_result"
    }
   ],
   "source": [
    "list(ngrams(sent, 3))  # триграммы"
   ]
  },
  {
   "cell_type": "code",
   "execution_count": 53,
   "metadata": {
    "ExecuteTime": {
     "end_time": "2023-04-18T16:50:58.555533Z",
     "start_time": "2023-04-18T16:50:58.525914Z"
    },
    "colab": {
     "base_uri": "https://localhost:8080/"
    },
    "id": "wK2QdeycvTZE",
    "outputId": "c8dc6ac6-1ee8-4cc1-8526-47cd8dbfaa40"
   },
   "outputs": [
    {
     "data": {
      "text/plain": [
       "[('Если', 'б', 'мне', 'платили', 'каждый'),\n",
       " ('б', 'мне', 'платили', 'каждый', 'раз')]"
      ]
     },
     "execution_count": 53,
     "metadata": {},
     "output_type": "execute_result"
    }
   ],
   "source": [
    "list(ngrams(sent, 5))  # ... пентаграммы?"
   ]
  },
  {
   "cell_type": "markdown",
   "metadata": {},
   "source": [
    "В качестве альтернативы можно пользоваться `CountVectorizer`, который работает так:\n",
    "* строит для каждого документа (каждой пришедшей ему строки) вектор размерности количества токенов в нашем словаре\n",
    "* заполняет каждый i-тый элемент количеством вхождений токена в данный документ\n",
    "\n",
    "Параметр `ngram_range` отвечает за то, какие n-граммы мы используем в качестве фичей:\n",
    "- `ngram_range=(1, 1)` — униграммы\n",
    "- `ngram_range=(3, 3)` — триграммы\n",
    "- `ngram_range=(1, 3)` — униграммы, биграммы и триграммы"
   ]
  },
  {
   "cell_type": "markdown",
   "metadata": {},
   "source": [
    "### 5.1 Обучение моделей\n",
    "\n",
    "Давайте обучим наш первый бейзлайн — логрег на униграммах!"
   ]
  },
  {
   "cell_type": "code",
   "execution_count": 54,
   "metadata": {
    "ExecuteTime": {
     "end_time": "2023-04-18T16:51:05.699896Z",
     "start_time": "2023-04-18T16:50:58.589759Z"
    }
   },
   "outputs": [
    {
     "name": "stdout",
     "output_type": "stream",
     "text": [
      "              precision    recall  f1-score   support\n",
      "\n",
      "    negative       0.76      0.77      0.76     27957\n",
      "    positive       0.77      0.76      0.77     28752\n",
      "\n",
      "    accuracy                           0.76     56709\n",
      "   macro avg       0.76      0.76      0.76     56709\n",
      "weighted avg       0.76      0.76      0.76     56709\n",
      "\n"
     ]
    }
   ],
   "source": [
    "vec = CountVectorizer(ngram_range=(1, 1))\n",
    "bow = vec.fit_transform(x_train)  # bow — bag of words (мешок слов)\n",
    "bow_test = vec.transform(x_test)\n",
    "\n",
    "scaler = MaxAbsScaler()\n",
    "bow = scaler.fit_transform(bow)\n",
    "bow_test = scaler.transform(bow_test)\n",
    "\n",
    "clf = LogisticRegression(max_iter=200, random_state=42)\n",
    "clf.fit(bow, y_train)\n",
    "pred = clf.predict(bow_test)\n",
    "print(classification_report(y_test, pred))"
   ]
  },
  {
   "cell_type": "markdown",
   "metadata": {
    "id": "3a56F0vivTZL"
   },
   "source": [
    "Попробуем сделать то же самое для триграмм."
   ]
  },
  {
   "cell_type": "code",
   "execution_count": 55,
   "metadata": {
    "ExecuteTime": {
     "end_time": "2023-04-18T16:51:32.529458Z",
     "start_time": "2023-04-18T16:51:05.755811Z"
    }
   },
   "outputs": [
    {
     "name": "stdout",
     "output_type": "stream",
     "text": [
      "              precision    recall  f1-score   support\n",
      "\n",
      "    negative       0.72      0.47      0.57     27957\n",
      "    positive       0.61      0.82      0.70     28752\n",
      "\n",
      "    accuracy                           0.65     56709\n",
      "   macro avg       0.67      0.65      0.64     56709\n",
      "weighted avg       0.67      0.65      0.64     56709\n",
      "\n"
     ]
    }
   ],
   "source": [
    "vec = CountVectorizer(ngram_range=(3, 3))\n",
    "bow = vec.fit_transform(x_train)\n",
    "bow_test = vec.transform(x_test)\n",
    "\n",
    "scaler = MaxAbsScaler()\n",
    "bow = scaler.fit_transform(bow)\n",
    "bow_test = scaler.transform(bow_test)\n",
    "\n",
    "clf = LogisticRegression(max_iter=200, random_state=42)\n",
    "clf.fit(bow, y_train)\n",
    "pred_thrgramm = clf.predict(bow_test)\n",
    "print(classification_report(y_test, pred_thrgramm))"
   ]
  },
  {
   "cell_type": "markdown",
   "metadata": {},
   "source": [
    "В нашем случае стало хуже :)"
   ]
  },
  {
   "cell_type": "markdown",
   "metadata": {
    "id": "EyW9lA_6vTZL"
   },
   "source": [
    "А теперь повторим процедуру для TF-IDF."
   ]
  },
  {
   "cell_type": "code",
   "execution_count": null,
   "metadata": {
    "ExecuteTime": {
     "end_time": "2023-04-18T16:51:40.397191Z",
     "start_time": "2023-04-18T16:51:32.587689Z"
    }
   },
   "outputs": [],
   "source": [
    "vec = TfidfVectorizer(ngram_range=(1, 1))\n",
    "vec_train = vec.fit_transform(x_train)\n",
    "vec_test = vec.transform(x_test)\n",
    "\n",
    "scaler = MaxAbsScaler()\n",
    "vec_train = scaler.fit_transform(vec_train)\n",
    "vec_test = scaler.transform(vec_test)\n",
    "\n",
    "clf = LogisticRegression(max_iter=300, random_state=42)\n",
    "clf.fit(vec_train, y_train)\n",
    "pred_tfidf = clf.predict(vec_test)\n",
    "print(classification_report(y_test, pred_tfidf))"
   ]
  },
  {
   "cell_type": "markdown",
   "metadata": {
    "id": "Ixapx51FvTZM"
   },
   "source": [
    "### 5.2 О важности эксплоративного анализа\n",
    "\n",
    "Но иногда пунктуация бывает и не шумом. Главное — отталкиваться от задачи. Что будет если вообще не убирать пунктуацию?"
   ]
  },
  {
   "cell_type": "code",
   "execution_count": null,
   "metadata": {
    "ExecuteTime": {
     "end_time": "2023-04-18T16:52:00.862268Z",
     "start_time": "2023-04-18T16:51:40.411317Z"
    }
   },
   "outputs": [],
   "source": [
    "vec = CountVectorizer(ngram_range=(1, 1), tokenizer=word_tokenize)\n",
    "bow = vec.fit_transform(x_train)\n",
    "bow_test = vec.transform(x_test)\n",
    "\n",
    "scaler = MaxAbsScaler()\n",
    "bow = scaler.fit_transform(bow)\n",
    "bow_test = scaler.transform(bow_test)\n",
    "\n",
    "clf = LogisticRegression(max_iter=200, random_state=42)\n",
    "clf.fit(bow, y_train)\n",
    "pred = clf.predict(bow_test)\n",
    "print(classification_report(y_test, pred))"
   ]
  },
  {
   "cell_type": "markdown",
   "metadata": {
    "id": "7_8uz4TevTZM"
   },
   "source": [
    "Стоило оставить пунктуацию, и внезапно все метрики устремились к 1. Как это получилось? Среди неё были очень значимые токены (как вы думаете, какие?). Найдём признак с самыми большим коэффициентом:"
   ]
  },
  {
   "cell_type": "code",
   "execution_count": null,
   "metadata": {},
   "outputs": [],
   "source": [
    "vec.get_feature_names_out()[np.argmax(clf.coef_)]"
   ]
  },
  {
   "cell_type": "markdown",
   "metadata": {
    "id": "4ZC8Mb6bvTZM"
   },
   "source": [
    "Посмотрим, как один из супер-значительных токенов справится с классификацией безо всякого машинного обучения:"
   ]
  },
  {
   "cell_type": "code",
   "execution_count": null,
   "metadata": {
    "ExecuteTime": {
     "end_time": "2023-04-18T16:52:01.743208Z",
     "start_time": "2023-04-18T16:52:00.882081Z"
    },
    "id": "vvWdQbYMvTZN"
   },
   "outputs": [],
   "source": [
    "cool_token = vec.get_feature_names_out()[np.argmax(clf.coef_)]\n",
    "pred = [\"positive\" if cool_token in tweet else \"negative\" for tweet in x_test]\n",
    "print(classification_report(y_test, pred))"
   ]
  },
  {
   "cell_type": "code",
   "execution_count": null,
   "metadata": {
    "ExecuteTime": {
     "end_time": "2023-04-18T16:52:01.799440Z",
     "start_time": "2023-04-18T16:52:01.743612Z"
    },
    "id": "3nD71B-ZvTZO"
   },
   "outputs": [],
   "source": [
    "cool_token = vec.get_feature_names_out()[np.argmax(clf.coef_)]\n",
    "tweets_with_cool_token = [tweet for tweet in x_train if cool_token in tweet]\n",
    "np.random.seed(42)\n",
    "for tweet in np.random.choice(tweets_with_cool_token, size=10, replace=False):\n",
    "    print(tweet)"
   ]
  },
  {
   "cell_type": "markdown",
   "metadata": {
    "id": "Dv6P8ncIvTZO"
   },
   "source": [
    "### 5.3 Символьные n-граммы\n",
    "\n",
    "Теперь в качестве признаков используем, например, униграммы символов:"
   ]
  },
  {
   "cell_type": "code",
   "execution_count": null,
   "metadata": {
    "ExecuteTime": {
     "end_time": "2023-04-18T16:52:07.747526Z",
     "start_time": "2023-04-18T16:52:01.811832Z"
    }
   },
   "outputs": [],
   "source": [
    "vec = CountVectorizer(ngram_range=(1, 1), analyzer=\"char\")\n",
    "bow = vec.fit_transform(x_train)\n",
    "bow_test = vec.transform(x_test)\n",
    "\n",
    "scaler = MaxAbsScaler()\n",
    "bow = scaler.fit_transform(bow)\n",
    "bow_test = scaler.transform(bow_test)\n",
    "\n",
    "clf = LogisticRegression(max_iter=200, random_state=42)\n",
    "clf.fit(bow, y_train)\n",
    "pred = clf.predict(bow_test)\n",
    "print(classification_report(y_test, pred))"
   ]
  },
  {
   "cell_type": "markdown",
   "metadata": {
    "id": "8PK8-_xwvTZO"
   },
   "source": [
    "В общем-то, теперь уже понятно, почему на этих данных здесь 1. Так или иначе, на символах классифицировать тоже можно: для некоторых задач (например, для определения языка) признаки-символьные n-граммы могут внести серьезный вклад в качество модели. Ещё одна замечательная особенность признаков-символов: токенизация и лемматизация не нужна, можно использовать такой подход для языков, у которых нет готовых анализаторов."
   ]
  },
  {
   "cell_type": "markdown",
   "metadata": {
    "id": "islq37BzvTZP"
   },
   "source": [
    "## 6. Регулярные выражения\n",
    "\n",
    "Вообще, часто бывает так, что для конкретного случая нужен особый способ токенизации, и надо самостоятельно написать правило шаблонного типа для определения того, что такое токен. Или, например, перед работой с текстом, надо почистить его от своеобразного мусора: упоминаний пользователей, url и так далее. В таких задачах могут помочь регулярные выражения. Навык полезный, давайте в нём тоже потренируемся."
   ]
  },
  {
   "cell_type": "code",
   "execution_count": 1,
   "metadata": {
    "ExecuteTime": {
     "end_time": "2023-04-18T16:52:07.749061Z",
     "start_time": "2023-04-18T16:52:07.747327Z"
    },
    "id": "ymGN9r6gvTZP"
   },
   "outputs": [],
   "source": [
    "import re"
   ]
  },
  {
   "cell_type": "markdown",
   "metadata": {
    "id": "5qJxZd2pvTZQ"
   },
   "source": [
    "### findall\n",
    "возвращает список всех найденных совпадений\n",
    "\n",
    "- ? : ноль или одно повторение\n",
    "- \\* : ноль или более повторений\n",
    "- \\+ : одно или более повторений\n",
    "- . : любой символ"
   ]
  },
  {
   "cell_type": "code",
   "execution_count": 2,
   "metadata": {
    "ExecuteTime": {
     "end_time": "2023-04-18T16:52:07.751928Z",
     "start_time": "2023-04-18T16:52:07.749921Z"
    },
    "id": "Hn6AnrvtvTZQ"
   },
   "outputs": [
    {
     "name": "stdout",
     "output_type": "stream",
     "text": [
      "['abcd', 'abca']\n"
     ]
    }
   ],
   "source": [
    "result = re.findall(\"ab+c.\", \"abcdefghijkabcabcxabc\")\n",
    "print(result)"
   ]
  },
  {
   "cell_type": "markdown",
   "metadata": {
    "id": "sHOTT9XTvTZQ"
   },
   "source": [
    "Вопрос на внимательность: почему нет abcx?"
   ]
  },
  {
   "cell_type": "code",
   "execution_count": 3,
   "metadata": {
    "ExecuteTime": {
     "end_time": "2023-04-18T16:52:07.754693Z",
     "start_time": "2023-04-18T16:52:07.751977Z"
    },
    "id": "k7gzrPCOvTZR"
   },
   "outputs": [
    {
     "data": {
      "text/plain": [
       "['abbbca']"
      ]
     },
     "execution_count": 3,
     "metadata": {},
     "output_type": "execute_result"
    }
   ],
   "source": [
    "re.findall(\"ab+c.\", \"abbbca\")"
   ]
  },
  {
   "cell_type": "markdown",
   "metadata": {
    "id": "8qxi1znlvTZR"
   },
   "source": [
    "### split\n",
    "разделяет строку по заданному шаблону\n"
   ]
  },
  {
   "cell_type": "code",
   "execution_count": 4,
   "metadata": {
    "ExecuteTime": {
     "end_time": "2023-04-18T16:52:07.756104Z",
     "start_time": "2023-04-18T16:52:07.754642Z"
    },
    "id": "z3Qz-3RSvTZR"
   },
   "outputs": [
    {
     "name": "stdout",
     "output_type": "stream",
     "text": [
      "['itsy', ' bitsy', ' teenie', ' weenie']\n"
     ]
    }
   ],
   "source": [
    "result = re.split(\",\", \"itsy, bitsy, teenie, weenie\")\n",
    "print(result)"
   ]
  },
  {
   "cell_type": "markdown",
   "metadata": {
    "id": "0Ur6WK3GvTZR"
   },
   "source": [
    "можно указать максимальное количество разбиений"
   ]
  },
  {
   "cell_type": "code",
   "execution_count": 5,
   "metadata": {
    "ExecuteTime": {
     "end_time": "2023-04-18T16:52:07.758646Z",
     "start_time": "2023-04-18T16:52:07.756699Z"
    },
    "id": "Pwu8L0LevTZS"
   },
   "outputs": [
    {
     "name": "stdout",
     "output_type": "stream",
     "text": [
      "['itsy', ' bitsy', ' teenie, weenie']\n"
     ]
    }
   ],
   "source": [
    "result = re.split(\",\", \"itsy, bitsy, teenie, weenie\", maxsplit=2)\n",
    "print(result)"
   ]
  },
  {
   "cell_type": "markdown",
   "metadata": {
    "id": "rGFk3MpOvTZS"
   },
   "source": [
    "### sub\n",
    "ищет шаблон в строке и заменяет все совпадения на указанную подстроку\n",
    "\n",
    "параметры: (pattern, repl, string)"
   ]
  },
  {
   "cell_type": "code",
   "execution_count": 6,
   "metadata": {
    "ExecuteTime": {
     "end_time": "2023-04-18T16:52:07.760056Z",
     "start_time": "2023-04-18T16:52:07.758723Z"
    },
    "id": "azeAmGOBvTZS"
   },
   "outputs": [
    {
     "name": "stdout",
     "output_type": "stream",
     "text": [
      "bbcbbc\n"
     ]
    }
   ],
   "source": [
    "result = re.sub(\"a\", \"b\", \"abcabc\")\n",
    "print(result)"
   ]
  },
  {
   "cell_type": "markdown",
   "metadata": {},
   "source": [
    "При этом в качестве repl, можно передавать не только строку, но и функцию, которая принимает на вход [Match](https://docs.python.org/3/library/re.html#match-objects) объект. Можно делать что-то типо этого:"
   ]
  },
  {
   "cell_type": "code",
   "execution_count": 7,
   "metadata": {
    "ExecuteTime": {
     "end_time": "2023-04-18T16:52:07.762722Z",
     "start_time": "2023-04-18T16:52:07.761009Z"
    }
   },
   "outputs": [
    {
     "data": {
      "text/plain": [
       "'(a#1)bc(a#2)bc'"
      ]
     },
     "execution_count": 7,
     "metadata": {},
     "output_type": "execute_result"
    }
   ],
   "source": [
    "counter = 0\n",
    "\n",
    "def count(match):\n",
    "    global counter\n",
    "    counter += 1\n",
    "    return f\"(a#{counter})\"\n",
    "\n",
    "re.sub(\"a\", count, \"abcabc\")"
   ]
  },
  {
   "cell_type": "markdown",
   "metadata": {},
   "source": [
    "Кстати, c объектами типа re.Match работают и многие другие методы re. Например, метод re.finditer в отличии от re.findall будет возвращать те самые re.Match."
   ]
  },
  {
   "cell_type": "code",
   "execution_count": 8,
   "metadata": {
    "ExecuteTime": {
     "end_time": "2023-04-18T16:52:07.765456Z",
     "start_time": "2023-04-18T16:52:07.763298Z"
    }
   },
   "outputs": [
    {
     "name": "stdout",
     "output_type": "stream",
     "text": [
      "<re.Match object; span=(0, 4), match='abcd'>\n",
      "<re.Match object; span=(11, 15), match='abca'>\n"
     ]
    }
   ],
   "source": [
    "for match in re.finditer(\"ab+c.\", \"abcdefghijkabcabcxabc\"):\n",
    "    print(match)"
   ]
  },
  {
   "cell_type": "markdown",
   "metadata": {},
   "source": [
    "Помимо найденных строчек объекты Match также, например, содержат информацию о позиции найденного \"совпадения\" в строке (span)"
   ]
  },
  {
   "cell_type": "markdown",
   "metadata": {
    "id": "HY8kwgOVvTZS"
   },
   "source": [
    "### compile\n",
    "компилирует регулярное выражение в отдельный объект"
   ]
  },
  {
   "cell_type": "code",
   "execution_count": 9,
   "metadata": {
    "ExecuteTime": {
     "end_time": "2023-04-18T16:52:07.859382Z",
     "start_time": "2023-04-18T16:52:07.765680Z"
    },
    "id": "Nudrx7nJvTZS"
   },
   "outputs": [
    {
     "name": "stderr",
     "output_type": "stream",
     "text": [
      "<>:3: SyntaxWarning: invalid escape sequence '\\-'\n",
      "<>:3: SyntaxWarning: invalid escape sequence '\\-'\n",
      "/var/folders/z9/19wy68_x711cm327qjf79_pc0000gn/T/ipykernel_35469/3568185117.py:3: SyntaxWarning: invalid escape sequence '\\-'\n",
      "  prog = re.compile(\"[А-Яа-яё\\-]+\")\n"
     ]
    },
    {
     "data": {
      "text/plain": [
       "['Слова', 'Да', 'больше', 'ещё', 'больше', 'слов', 'Что-то', 'ещё']"
      ]
     },
     "execution_count": 9,
     "metadata": {},
     "output_type": "execute_result"
    }
   ],
   "source": [
    "# Пример: построение списка всех слов строки:\n",
    "\n",
    "prog = re.compile(\"[А-Яа-яё\\-]+\")\n",
    "prog.findall(\"Слова? Да, больше, ещё больше слов! Что-то ещё.\")"
   ]
  },
  {
   "cell_type": "markdown",
   "metadata": {
    "id": "YONOWD3XvTZS"
   },
   "source": [
    "**Задание**: вернуть список доменов (@gmail.com) из списка адресов электронной почты:\n",
    "\n",
    "```\n",
    "abc.test@gmail.com, xyz@test.in, test.first@analyticsvidhya.com, first.test@rest.biz\n",
    "```"
   ]
  },
  {
   "cell_type": "code",
   "execution_count": 10,
   "metadata": {
    "ExecuteTime": {
     "end_time": "2023-04-18T16:52:07.859551Z",
     "start_time": "2023-04-18T16:52:07.768184Z"
    },
    "id": "JLWpguIsvTZT"
   },
   "outputs": [],
   "source": [
    "emails = \"abc.test@gmail.com, xyz@test.in, test.first@analyticsvidhya.com, first.test@rest.biz\""
   ]
  },
  {
   "cell_type": "code",
   "execution_count": 31,
   "metadata": {
    "ExecuteTime": {
     "end_time": "2023-04-18T16:52:07.860119Z",
     "start_time": "2023-04-18T16:52:07.770050Z"
    },
    "id": "ayTzy2lCvTZT"
   },
   "outputs": [
    {
     "name": "stdout",
     "output_type": "stream",
     "text": [
      "@gmail.com\n",
      "@test.in\n",
      "@analyticsvidhya.com\n",
      "@rest.biz\n"
     ]
    }
   ],
   "source": [
    "def find_domain(email):\n",
    "    return re.findall(r'@[\\w\\.-]+', email)[0]\n",
    "\n",
    "for email in emails.split(', '):\n",
    "    print(find_domain(email))"
   ]
  },
  {
   "cell_type": "markdown",
   "metadata": {},
   "source": [
    "## 7. Немножко про категориальные признаки\n",
    "\n",
    "Мы уже говорили, что кодировать категориальные признаки просто в виде чисел — не очень хорошая идея. Это задаёт некоторый порядок, которого на категориальных переменных может и не быть. Существует три основных способа обработки категориальных значений:\n",
    "- Label encoding\n",
    "- One-hot-кодирование\n",
    "- Счётчики (CTR, mean-target кодирование) — каждый категориальный признак заменяется на среднее значение целевой переменной по всем объектам, имеющим одинаковое значение в этом признаке\n",
    "\n",
    "Основная идея счетчиков заключается в том, что нам важны не сами категории, а значения целевой переменной, которые имеют объекты этой категории. Каждый категориальный признак мы заменим средним значением целевой переменной по всем объектам этой же категории. Формально это можно записать так:\n",
    "$$\n",
    "g_j(x, X) = \\frac{\\sum_{i=1}^{l} [f_j(x) = f_j(x_i)][y_i = +1]}{\\sum_{i=1}^{l} [f_j(x) = f_j(x_i)]}\n",
    "$$\n",
    "\n",
    "Сравним два последних метода на нашем любимом Титанике, но на этот раз не будем сильно заморачиваться с обработкой пропусков."
   ]
  },
  {
   "cell_type": "code",
   "execution_count": 32,
   "metadata": {
    "ExecuteTime": {
     "end_time": "2023-04-18T16:52:07.860175Z",
     "start_time": "2023-04-18T16:52:07.772028Z"
    }
   },
   "outputs": [],
   "source": [
    "from sklearn.preprocessing import MinMaxScaler"
   ]
  },
  {
   "cell_type": "code",
   "execution_count": 77,
   "metadata": {
    "ExecuteTime": {
     "end_time": "2023-04-18T16:52:08.143798Z",
     "start_time": "2023-04-18T16:52:07.774360Z"
    }
   },
   "outputs": [],
   "source": [
    "data = pd.read_csv(\n",
    "    \"https://raw.githubusercontent.com/iad34/seminars/master/materials/data_sem1.csv\",\n",
    "    sep=\";\",\n",
    ")\n",
    "\n",
    "data[\"Age\"] = data[\"Age\"].fillna(data.groupby(\"Pclass\")[\"Age\"].transform(\"median\"))\n",
    "data.drop(\"Cabin\", axis=1, inplace=True)\n",
    "data.drop(\"Name\", axis=1, inplace=True)\n",
    "data.drop(\"Ticket\", axis=1, inplace=True)\n",
    "data.dropna(inplace=True)"
   ]
  },
  {
   "cell_type": "markdown",
   "metadata": {},
   "source": [
    "### 7.1 OHE"
   ]
  },
  {
   "cell_type": "code",
   "execution_count": 78,
   "metadata": {
    "ExecuteTime": {
     "end_time": "2023-04-18T16:52:08.155498Z",
     "start_time": "2023-04-18T16:52:08.146353Z"
    }
   },
   "outputs": [
    {
     "data": {
      "text/html": [
       "<div>\n",
       "<style scoped>\n",
       "    .dataframe tbody tr th:only-of-type {\n",
       "        vertical-align: middle;\n",
       "    }\n",
       "\n",
       "    .dataframe tbody tr th {\n",
       "        vertical-align: top;\n",
       "    }\n",
       "\n",
       "    .dataframe thead th {\n",
       "        text-align: right;\n",
       "    }\n",
       "</style>\n",
       "<table border=\"1\" class=\"dataframe\">\n",
       "  <thead>\n",
       "    <tr style=\"text-align: right;\">\n",
       "      <th></th>\n",
       "      <th>PassengerId</th>\n",
       "      <th>Pclass</th>\n",
       "      <th>Age</th>\n",
       "      <th>SibSp</th>\n",
       "      <th>Parch</th>\n",
       "      <th>Fare</th>\n",
       "      <th>Sex_male</th>\n",
       "      <th>Sex_unknown</th>\n",
       "      <th>Embarked_Q</th>\n",
       "      <th>Embarked_S</th>\n",
       "    </tr>\n",
       "  </thead>\n",
       "  <tbody>\n",
       "    <tr>\n",
       "      <th>0</th>\n",
       "      <td>1</td>\n",
       "      <td>3</td>\n",
       "      <td>22.0</td>\n",
       "      <td>1</td>\n",
       "      <td>0</td>\n",
       "      <td>7.2500</td>\n",
       "      <td>True</td>\n",
       "      <td>False</td>\n",
       "      <td>False</td>\n",
       "      <td>True</td>\n",
       "    </tr>\n",
       "    <tr>\n",
       "      <th>1</th>\n",
       "      <td>2</td>\n",
       "      <td>1</td>\n",
       "      <td>38.0</td>\n",
       "      <td>1</td>\n",
       "      <td>0</td>\n",
       "      <td>71.2833</td>\n",
       "      <td>False</td>\n",
       "      <td>False</td>\n",
       "      <td>False</td>\n",
       "      <td>False</td>\n",
       "    </tr>\n",
       "    <tr>\n",
       "      <th>2</th>\n",
       "      <td>3</td>\n",
       "      <td>3</td>\n",
       "      <td>26.0</td>\n",
       "      <td>0</td>\n",
       "      <td>0</td>\n",
       "      <td>7.9250</td>\n",
       "      <td>False</td>\n",
       "      <td>False</td>\n",
       "      <td>False</td>\n",
       "      <td>True</td>\n",
       "    </tr>\n",
       "    <tr>\n",
       "      <th>3</th>\n",
       "      <td>4</td>\n",
       "      <td>1</td>\n",
       "      <td>35.0</td>\n",
       "      <td>1</td>\n",
       "      <td>0</td>\n",
       "      <td>53.1000</td>\n",
       "      <td>False</td>\n",
       "      <td>False</td>\n",
       "      <td>False</td>\n",
       "      <td>True</td>\n",
       "    </tr>\n",
       "    <tr>\n",
       "      <th>4</th>\n",
       "      <td>5</td>\n",
       "      <td>3</td>\n",
       "      <td>35.0</td>\n",
       "      <td>0</td>\n",
       "      <td>0</td>\n",
       "      <td>8.0500</td>\n",
       "      <td>True</td>\n",
       "      <td>False</td>\n",
       "      <td>False</td>\n",
       "      <td>True</td>\n",
       "    </tr>\n",
       "  </tbody>\n",
       "</table>\n",
       "</div>"
      ],
      "text/plain": [
       "   PassengerId  Pclass   Age  SibSp  Parch     Fare  Sex_male  Sex_unknown  \\\n",
       "0            1       3  22.0      1      0   7.2500      True        False   \n",
       "1            2       1  38.0      1      0  71.2833     False        False   \n",
       "2            3       3  26.0      0      0   7.9250     False        False   \n",
       "3            4       1  35.0      1      0  53.1000     False        False   \n",
       "4            5       3  35.0      0      0   8.0500      True        False   \n",
       "\n",
       "   Embarked_Q  Embarked_S  \n",
       "0       False        True  \n",
       "1       False       False  \n",
       "2       False        True  \n",
       "3       False        True  \n",
       "4       False        True  "
      ]
     },
     "execution_count": 78,
     "metadata": {},
     "output_type": "execute_result"
    }
   ],
   "source": [
    "data_ohe = pd.get_dummies(data, drop_first=True)\n",
    "\n",
    "y = data_ohe[\"Survived\"]\n",
    "data_ohe = data_ohe.drop([\"Survived\"], axis=1)\n",
    "data_ohe.head()"
   ]
  },
  {
   "cell_type": "code",
   "execution_count": 79,
   "metadata": {
    "ExecuteTime": {
     "end_time": "2023-04-18T16:52:08.195002Z",
     "start_time": "2023-04-18T16:52:08.156152Z"
    }
   },
   "outputs": [
    {
     "name": "stdout",
     "output_type": "stream",
     "text": [
      "ROC AUC: 0.77\n"
     ]
    }
   ],
   "source": [
    "X_train, X_test, y_train, y_test = train_test_split(\n",
    "    data_ohe, y, test_size=0.2, random_state=42, shuffle=True\n",
    ")\n",
    "\n",
    "scaler = MinMaxScaler()\n",
    "X_train = scaler.fit_transform(X_train)\n",
    "X_test = scaler.transform(X_test)\n",
    "\n",
    "model = LogisticRegression(max_iter=300)\n",
    "model.fit(X_train, y_train)\n",
    "prediction = model.predict(X_test)\n",
    "print(f\"ROC AUC: {roc_auc_score(prediction, y_test):.2f}\")"
   ]
  },
  {
   "cell_type": "markdown",
   "metadata": {},
   "source": [
    "### 7.2 Mean target encoding"
   ]
  },
  {
   "cell_type": "code",
   "execution_count": 80,
   "metadata": {
    "ExecuteTime": {
     "end_time": "2023-04-18T16:52:08.195125Z",
     "start_time": "2023-04-18T16:52:08.167818Z"
    }
   },
   "outputs": [],
   "source": [
    "X_train, X_test, y_train, y_test = train_test_split(\n",
    "    data, y, test_size=0.2, random_state=42, shuffle=True\n",
    ")"
   ]
  },
  {
   "cell_type": "code",
   "execution_count": 81,
   "metadata": {
    "ExecuteTime": {
     "end_time": "2023-04-18T16:52:08.212439Z",
     "start_time": "2023-04-18T16:52:08.172604Z"
    }
   },
   "outputs": [],
   "source": [
    "mean_target = X_train.groupby(\"Sex\")[\"Survived\"].mean()\n",
    "X_train.loc[:, \"Sex\"] = X_train[\"Sex\"].replace(mean_target)\n",
    "X_test.loc[:, \"Sex\"] = X_test[\"Sex\"].replace(mean_target)\n",
    "\n",
    "mean_target_e = X_train.groupby(\"Embarked\")[\"Survived\"].mean()\n",
    "X_train.loc[:, \"Embarked\"] = X_train[\"Embarked\"].replace(mean_target_e)\n",
    "X_test.loc[:, \"Embarked\"] = X_test[\"Embarked\"].replace(mean_target_e)\n",
    "\n",
    "X_train.drop([\"Survived\"], axis=1, inplace=True)\n",
    "X_test.drop([\"Survived\"], axis=1, inplace=True)"
   ]
  },
  {
   "cell_type": "code",
   "execution_count": 82,
   "metadata": {
    "ExecuteTime": {
     "end_time": "2023-04-18T16:52:08.225105Z",
     "start_time": "2023-04-18T16:52:08.178853Z"
    }
   },
   "outputs": [
    {
     "name": "stdout",
     "output_type": "stream",
     "text": [
      "ROC AUC: 0.79\n"
     ]
    }
   ],
   "source": [
    "scaler = MinMaxScaler()\n",
    "X_train = scaler.fit_transform(X_train)\n",
    "X_test = scaler.transform(X_test)\n",
    "\n",
    "model = LogisticRegression(max_iter=300)\n",
    "model.fit(X_train, y_train)\n",
    "prediction = model.predict(X_test)\n",
    "print(f\"ROC AUC: {roc_auc_score(prediction, y_test):.2f}\")"
   ]
  },
  {
   "cell_type": "markdown",
   "metadata": {},
   "source": [
    "Кодирование признаков с помощью счетчиков приведённом выше может приводить к переобучению. Почему?\n",
    "\n",
    "Чтобы бороться с этим, можно экспериментировать с разными модификациями:\n",
    "\n",
    "1. Вычислять значение счётчика по всем объектам расположенным выше в датасете (например, если у нас выборка отсортирована по времени)\n",
    "2. Вычислять по фолдам, то есть делить выборку на некоторое количество частей и подсчитывать значение признаков по всем фолдам кроме текущего (как делается в кросс-валидации)\n",
    "3. Добавлять шум в посчитанные признаки"
   ]
  }
 ],
 "metadata": {
  "colab": {
   "name": "Copy of sem10_texts.ipynb",
   "provenance": []
  },
  "kernelspec": {
   "display_name": "Python 3",
   "language": "python",
   "name": "python3"
  },
  "language_info": {
   "codemirror_mode": {
    "name": "ipython",
    "version": 3
   },
   "file_extension": ".py",
   "mimetype": "text/x-python",
   "name": "python",
   "nbconvert_exporter": "python",
   "pygments_lexer": "ipython3",
   "version": "3.12.5"
  }
 },
 "nbformat": 4,
 "nbformat_minor": 1
}
