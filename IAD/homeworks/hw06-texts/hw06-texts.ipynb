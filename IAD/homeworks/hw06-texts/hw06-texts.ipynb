{
 "cells": [
  {
   "cell_type": "markdown",
   "metadata": {
    "id": "Ffq6A2-ifzAA"
   },
   "source": [
    "# Интеллектуальный анализ данных – весна 2025\n",
    "# Домашнее задание 6: классификация текстов"
   ]
  },
  {
   "cell_type": "markdown",
   "metadata": {
    "id": "EPcxtekTA1Sm"
   },
   "source": [
    "Правила:\n",
    "\n",
    "\n",
    "\n",
    "*   Домашнее задание оценивается в 10 баллов.\n",
    "*   Можно использовать без доказательства любые результаты, встречавшиеся на лекциях или семинарах по курсу, если получение этих результатов не является вопросом задания.\n",
    "*  Можно использовать любые свободные источники с *обязательным* указанием ссылки на них.\n",
    "*  Плагиат не допускается. При обнаружении случаев списывания, 0 за работу выставляется всем участникам нарушения, даже если можно установить, кто у кого списал.\n",
    "*  Старайтесь сделать код как можно более оптимальным. В частности, будет штрафоваться использование циклов в тех случаях, когда операцию можно совершить при помощи инструментов библиотек, о которых рассказывалось в курсе.\n",
    "* Если в задании есть вопрос на рассуждение, то за отсутствие ответа на него балл за задание будет снижен вполовину."
   ]
  },
  {
   "cell_type": "markdown",
   "metadata": {
    "id": "itRtFtrOf0_b"
   },
   "source": [
    "В этом домашнем задании вам предстоит построить классификатор текстов.\n",
    "\n",
    "Будем предсказывать эмоциональную окраску твиттов о коронавирусе.\n",
    "\n"
   ]
  },
  {
   "cell_type": "code",
   "execution_count": 298,
   "metadata": {
    "id": "tNGRVO7_g9mz"
   },
   "outputs": [],
   "source": [
    "import numpy as np\n",
    "import pandas as pd\n",
    "from typing import  List\n",
    "import matplotlib.pyplot as plt\n",
    "import seaborn as sns\n",
    "from string import punctuation"
   ]
  },
  {
   "cell_type": "code",
   "execution_count": 299,
   "metadata": {
    "colab": {
     "base_uri": "https://localhost:8080/",
     "height": 348
    },
    "id": "zOy8iHJQg_Ss",
    "outputId": "6a32c325-1b9a-4895-ab22-5e985016da91"
   },
   "outputs": [
    {
     "data": {
      "text/html": [
       "<div>\n",
       "<style scoped>\n",
       "    .dataframe tbody tr th:only-of-type {\n",
       "        vertical-align: middle;\n",
       "    }\n",
       "\n",
       "    .dataframe tbody tr th {\n",
       "        vertical-align: top;\n",
       "    }\n",
       "\n",
       "    .dataframe thead th {\n",
       "        text-align: right;\n",
       "    }\n",
       "</style>\n",
       "<table border=\"1\" class=\"dataframe\">\n",
       "  <thead>\n",
       "    <tr style=\"text-align: right;\">\n",
       "      <th></th>\n",
       "      <th>UserName</th>\n",
       "      <th>ScreenName</th>\n",
       "      <th>Location</th>\n",
       "      <th>TweetAt</th>\n",
       "      <th>OriginalTweet</th>\n",
       "      <th>Sentiment</th>\n",
       "    </tr>\n",
       "  </thead>\n",
       "  <tbody>\n",
       "    <tr>\n",
       "      <th>19796</th>\n",
       "      <td>27913</td>\n",
       "      <td>72865</td>\n",
       "      <td>@literary.libations on Instagr</td>\n",
       "      <td>26-03-2020</td>\n",
       "      <td>From Reuters March 11th:\\r\\r\\n\\r\\r\\nÃÂU.S. c...</td>\n",
       "      <td>Extremely Negative</td>\n",
       "    </tr>\n",
       "    <tr>\n",
       "      <th>26134</th>\n",
       "      <td>35813</td>\n",
       "      <td>80765</td>\n",
       "      <td>South Tottenham, London, UK</td>\n",
       "      <td>07-04-2020</td>\n",
       "      <td>SHOPPING ONLINE   You can donate items on our ...</td>\n",
       "      <td>Positive</td>\n",
       "    </tr>\n",
       "    <tr>\n",
       "      <th>17655</th>\n",
       "      <td>25271</td>\n",
       "      <td>70223</td>\n",
       "      <td>Providence, RI (Mt. Pleasant)</td>\n",
       "      <td>25-03-2020</td>\n",
       "      <td>COVID-19 should encourage us to pay ALL \"essen...</td>\n",
       "      <td>Positive</td>\n",
       "    </tr>\n",
       "    <tr>\n",
       "      <th>11112</th>\n",
       "      <td>17285</td>\n",
       "      <td>62237</td>\n",
       "      <td>United States</td>\n",
       "      <td>21-03-2020</td>\n",
       "      <td>@senatemajldr No bailouts airlines, hotels, cr...</td>\n",
       "      <td>Positive</td>\n",
       "    </tr>\n",
       "  </tbody>\n",
       "</table>\n",
       "</div>"
      ],
      "text/plain": [
       "       UserName  ScreenName                        Location     TweetAt  \\\n",
       "19796     27913       72865  @literary.libations on Instagr  26-03-2020   \n",
       "26134     35813       80765     South Tottenham, London, UK  07-04-2020   \n",
       "17655     25271       70223   Providence, RI (Mt. Pleasant)  25-03-2020   \n",
       "11112     17285       62237                   United States  21-03-2020   \n",
       "\n",
       "                                           OriginalTweet           Sentiment  \n",
       "19796  From Reuters March 11th:\\r\\r\\n\\r\\r\\nÃÂU.S. c...  Extremely Negative  \n",
       "26134  SHOPPING ONLINE   You can donate items on our ...            Positive  \n",
       "17655  COVID-19 should encourage us to pay ALL \"essen...            Positive  \n",
       "11112  @senatemajldr No bailouts airlines, hotels, cr...            Positive  "
      ]
     },
     "execution_count": 299,
     "metadata": {},
     "output_type": "execute_result"
    }
   ],
   "source": [
    "df = pd.read_csv('tweets_coronavirus.csv', encoding='latin-1')\n",
    "df.sample(4)"
   ]
  },
  {
   "cell_type": "markdown",
   "metadata": {
    "id": "m2OiDog9ZBlS"
   },
   "source": [
    "Для каждого твитта указано:\n",
    "\n",
    "\n",
    "*   UserName - имя пользователя, заменено на целое число для анонимности\n",
    "*   ScreenName - отображающееся имя пользователя, заменено на целое число для анонимности\n",
    "*   Location - местоположение\n",
    "*   TweetAt - дата создания твитта\n",
    "*   OriginalTweet - текст твитта\n",
    "*   Sentiment - эмоциональная окраска твитта (целевая переменная)\n",
    "\n"
   ]
  },
  {
   "cell_type": "markdown",
   "metadata": {
    "id": "pZTMseDkhTC7"
   },
   "source": [
    "## Задание 1 Подготовка (0.5 балла)"
   ]
  },
  {
   "cell_type": "markdown",
   "metadata": {
    "id": "Xx2-odn9hdAW"
   },
   "source": [
    "Целевая переменная находится в колонке `Sentiment`.  Преобразуйте ее таким образом, чтобы она стала бинарной: 1 - если у твитта положительная или очень положительная эмоциональная окраска и 0 - если отрицательная или очень отрицательная."
   ]
  },
  {
   "cell_type": "code",
   "execution_count": 300,
   "metadata": {
    "id": "ZaQKQ1zEjP15"
   },
   "outputs": [
    {
     "data": {
      "text/html": [
       "<div>\n",
       "<style scoped>\n",
       "    .dataframe tbody tr th:only-of-type {\n",
       "        vertical-align: middle;\n",
       "    }\n",
       "\n",
       "    .dataframe tbody tr th {\n",
       "        vertical-align: top;\n",
       "    }\n",
       "\n",
       "    .dataframe thead th {\n",
       "        text-align: right;\n",
       "    }\n",
       "</style>\n",
       "<table border=\"1\" class=\"dataframe\">\n",
       "  <thead>\n",
       "    <tr style=\"text-align: right;\">\n",
       "      <th></th>\n",
       "      <th>UserName</th>\n",
       "      <th>ScreenName</th>\n",
       "      <th>Location</th>\n",
       "      <th>TweetAt</th>\n",
       "      <th>OriginalTweet</th>\n",
       "      <th>Sentiment</th>\n",
       "    </tr>\n",
       "  </thead>\n",
       "  <tbody>\n",
       "    <tr>\n",
       "      <th>0</th>\n",
       "      <td>3800</td>\n",
       "      <td>48752</td>\n",
       "      <td>UK</td>\n",
       "      <td>16-03-2020</td>\n",
       "      <td>advice Talk to your neighbours family to excha...</td>\n",
       "      <td>1</td>\n",
       "    </tr>\n",
       "    <tr>\n",
       "      <th>1</th>\n",
       "      <td>3801</td>\n",
       "      <td>48753</td>\n",
       "      <td>Vagabonds</td>\n",
       "      <td>16-03-2020</td>\n",
       "      <td>Coronavirus Australia: Woolworths to give elde...</td>\n",
       "      <td>1</td>\n",
       "    </tr>\n",
       "    <tr>\n",
       "      <th>2</th>\n",
       "      <td>3802</td>\n",
       "      <td>48754</td>\n",
       "      <td>NaN</td>\n",
       "      <td>16-03-2020</td>\n",
       "      <td>My food stock is not the only one which is emp...</td>\n",
       "      <td>1</td>\n",
       "    </tr>\n",
       "    <tr>\n",
       "      <th>3</th>\n",
       "      <td>3803</td>\n",
       "      <td>48755</td>\n",
       "      <td>NaN</td>\n",
       "      <td>16-03-2020</td>\n",
       "      <td>Me, ready to go at supermarket during the #COV...</td>\n",
       "      <td>0</td>\n",
       "    </tr>\n",
       "    <tr>\n",
       "      <th>4</th>\n",
       "      <td>3804</td>\n",
       "      <td>48756</td>\n",
       "      <td>ÃÂT: 36.319708,-82.363649</td>\n",
       "      <td>16-03-2020</td>\n",
       "      <td>As news of the regionÃÂs first confirmed COV...</td>\n",
       "      <td>1</td>\n",
       "    </tr>\n",
       "  </tbody>\n",
       "</table>\n",
       "</div>"
      ],
      "text/plain": [
       "   UserName  ScreenName                     Location     TweetAt  \\\n",
       "0      3800       48752                           UK  16-03-2020   \n",
       "1      3801       48753                    Vagabonds  16-03-2020   \n",
       "2      3802       48754                          NaN  16-03-2020   \n",
       "3      3803       48755                          NaN  16-03-2020   \n",
       "4      3804       48756  ÃÂT: 36.319708,-82.363649  16-03-2020   \n",
       "\n",
       "                                       OriginalTweet  Sentiment  \n",
       "0  advice Talk to your neighbours family to excha...          1  \n",
       "1  Coronavirus Australia: Woolworths to give elde...          1  \n",
       "2  My food stock is not the only one which is emp...          1  \n",
       "3  Me, ready to go at supermarket during the #COV...          0  \n",
       "4  As news of the regionÃÂs first confirmed COV...          1  "
      ]
     },
     "execution_count": 300,
     "metadata": {},
     "output_type": "execute_result"
    }
   ],
   "source": [
    "positive_labels = ['Positive', 'Extremely Positive']\n",
    "negative_labels = ['Negative', 'Extremely Negative']\n",
    "\n",
    "def sentiment_to_bin(sentiment: str) -> int:\n",
    "    if sentiment in positive_labels:\n",
    "        return 1\n",
    "    elif sentiment in negative_labels:\n",
    "        return 0\n",
    "    else:\n",
    "        return None\n",
    "\n",
    "df['Sentiment'] = df['Sentiment'].apply(sentiment_to_bin)\n",
    "df.head()"
   ]
  },
  {
   "cell_type": "markdown",
   "metadata": {
    "id": "pGq1FxJ-kBo5"
   },
   "source": [
    "Сбалансированы ли классы?"
   ]
  },
  {
   "cell_type": "code",
   "execution_count": 301,
   "metadata": {
    "id": "a7gdNtxckK5V"
   },
   "outputs": [
    {
     "data": {
      "text/plain": [
       "Sentiment\n",
       "1    18046\n",
       "0    15398\n",
       "Name: count, dtype: int64"
      ]
     },
     "execution_count": 301,
     "metadata": {},
     "output_type": "execute_result"
    }
   ],
   "source": [
    "df['Sentiment'].value_counts()"
   ]
  },
  {
   "cell_type": "code",
   "execution_count": 302,
   "metadata": {},
   "outputs": [
    {
     "name": "stdout",
     "output_type": "stream",
     "text": [
      "Процент позитивных твиттов: 53.96\n",
      "Процент негавтивных твиттов: 46.04\n"
     ]
    }
   ],
   "source": [
    "count_positive = df['Sentiment'].value_counts()[1]\n",
    "count_negative = df['Sentiment'].value_counts()[0]\n",
    "\n",
    "count_all = count_positive + count_negative\n",
    "print(f\"Процент позитивных твиттов: {count_positive / count_all * 100:.2f}\")\n",
    "print(f\"Процент негавтивных твиттов: {count_negative / count_all * 100:.2f}\")"
   ]
  },
  {
   "cell_type": "markdown",
   "metadata": {
    "id": "Ng8BCelMkWb0"
   },
   "source": [
    "**Ответ:** Процентная разница совсем небольшая, поэтому будем считать, что классы сбалансированны."
   ]
  },
  {
   "cell_type": "markdown",
   "metadata": {
    "id": "qmSIBSsLk5Zz"
   },
   "source": [
    "Выведете на экран информацию о пропусках в данных. Если пропуски присутствуют заполните их строкой 'Unknown'."
   ]
  },
  {
   "cell_type": "code",
   "execution_count": 303,
   "metadata": {
    "id": "UhUVRkR5kxa7"
   },
   "outputs": [
    {
     "data": {
      "text/plain": [
       "UserName            0\n",
       "ScreenName          0\n",
       "Location         7049\n",
       "TweetAt             0\n",
       "OriginalTweet       0\n",
       "Sentiment           0\n",
       "dtype: int64"
      ]
     },
     "execution_count": 303,
     "metadata": {},
     "output_type": "execute_result"
    }
   ],
   "source": [
    "df.isna().sum()"
   ]
  },
  {
   "cell_type": "markdown",
   "metadata": {},
   "source": [
    "Есть 7049 пропусков в признаке `Location`."
   ]
  },
  {
   "cell_type": "code",
   "execution_count": 304,
   "metadata": {},
   "outputs": [
    {
     "data": {
      "text/plain": [
       "UserName         0\n",
       "ScreenName       0\n",
       "Location         0\n",
       "TweetAt          0\n",
       "OriginalTweet    0\n",
       "Sentiment        0\n",
       "dtype: int64"
      ]
     },
     "execution_count": 304,
     "metadata": {},
     "output_type": "execute_result"
    }
   ],
   "source": [
    "df = df.fillna('Unknown')\n",
    "df.isna().sum()"
   ]
  },
  {
   "cell_type": "markdown",
   "metadata": {
    "id": "1tzt27tfjUpq"
   },
   "source": [
    "Разделите данные на обучающие и тестовые в соотношении 7 : 3 и укажите `random_state=0`"
   ]
  },
  {
   "cell_type": "code",
   "execution_count": 305,
   "metadata": {
    "id": "xSLOA9tIj9Z6"
   },
   "outputs": [],
   "source": [
    "from sklearn.model_selection import train_test_split\n",
    "\n",
    "train, test =  train_test_split(df, test_size=0.3, random_state=0, stratify=df['Sentiment'])"
   ]
  },
  {
   "cell_type": "markdown",
   "metadata": {
    "id": "J9RrPUsJlL60"
   },
   "source": [
    "## Задание 2 Токенизация (3 балла)"
   ]
  },
  {
   "cell_type": "markdown",
   "metadata": {
    "id": "2Dz_b7Xopc_R"
   },
   "source": [
    "Постройте словарь на основе обучающей выборки и посчитайте количество встреч каждого токена с использованием самой простой токенизации - деления текстов по пробельным символам и приведения токенов в нижний регистр."
   ]
  },
  {
   "cell_type": "code",
   "execution_count": 306,
   "metadata": {
    "id": "SFr67WOJphny"
   },
   "outputs": [],
   "source": [
    "tokens = {}\n",
    "\n",
    "for tweet in train['OriginalTweet']:\n",
    "    words = tweet.lower().split()\n",
    "    \n",
    "    for word in words:\n",
    "        if word in tokens:\n",
    "            tokens[word] += 1\n",
    "        else:\n",
    "            tokens[word] = 1"
   ]
  },
  {
   "cell_type": "markdown",
   "metadata": {
    "id": "Pe0h2Jqkpnao"
   },
   "source": [
    "Какой размер словаря получился?"
   ]
  },
  {
   "cell_type": "code",
   "execution_count": 307,
   "metadata": {
    "id": "umyENA7EpokD"
   },
   "outputs": [
    {
     "data": {
      "text/plain": [
       "80027"
      ]
     },
     "execution_count": 307,
     "metadata": {},
     "output_type": "execute_result"
    }
   ],
   "source": [
    "len(tokens)"
   ]
  },
  {
   "cell_type": "markdown",
   "metadata": {
    "id": "0d2G1Z-Qpqkd"
   },
   "source": [
    "Выведите 10 самых популярных токенов с количеством встреч каждого из них. Объясните, почему именно эти токены в топе."
   ]
  },
  {
   "cell_type": "code",
   "execution_count": 308,
   "metadata": {
    "id": "Impi32a_pssg"
   },
   "outputs": [
    {
     "data": {
      "text/html": [
       "<div>\n",
       "<style scoped>\n",
       "    .dataframe tbody tr th:only-of-type {\n",
       "        vertical-align: middle;\n",
       "    }\n",
       "\n",
       "    .dataframe tbody tr th {\n",
       "        vertical-align: top;\n",
       "    }\n",
       "\n",
       "    .dataframe thead th {\n",
       "        text-align: right;\n",
       "    }\n",
       "</style>\n",
       "<table border=\"1\" class=\"dataframe\">\n",
       "  <thead>\n",
       "    <tr style=\"text-align: right;\">\n",
       "      <th></th>\n",
       "      <th>Token</th>\n",
       "      <th>Count</th>\n",
       "    </tr>\n",
       "  </thead>\n",
       "  <tbody>\n",
       "    <tr>\n",
       "      <th>0</th>\n",
       "      <td>the</td>\n",
       "      <td>26708</td>\n",
       "    </tr>\n",
       "    <tr>\n",
       "      <th>1</th>\n",
       "      <td>to</td>\n",
       "      <td>23432</td>\n",
       "    </tr>\n",
       "    <tr>\n",
       "      <th>2</th>\n",
       "      <td>and</td>\n",
       "      <td>14535</td>\n",
       "    </tr>\n",
       "    <tr>\n",
       "      <th>3</th>\n",
       "      <td>of</td>\n",
       "      <td>13123</td>\n",
       "    </tr>\n",
       "    <tr>\n",
       "      <th>4</th>\n",
       "      <td>a</td>\n",
       "      <td>11754</td>\n",
       "    </tr>\n",
       "    <tr>\n",
       "      <th>5</th>\n",
       "      <td>in</td>\n",
       "      <td>11291</td>\n",
       "    </tr>\n",
       "    <tr>\n",
       "      <th>6</th>\n",
       "      <td>for</td>\n",
       "      <td>8571</td>\n",
       "    </tr>\n",
       "    <tr>\n",
       "      <th>7</th>\n",
       "      <td>#coronavirus</td>\n",
       "      <td>8222</td>\n",
       "    </tr>\n",
       "    <tr>\n",
       "      <th>8</th>\n",
       "      <td>is</td>\n",
       "      <td>7411</td>\n",
       "    </tr>\n",
       "    <tr>\n",
       "      <th>9</th>\n",
       "      <td>are</td>\n",
       "      <td>7020</td>\n",
       "    </tr>\n",
       "  </tbody>\n",
       "</table>\n",
       "</div>"
      ],
      "text/plain": [
       "          Token  Count\n",
       "0           the  26708\n",
       "1            to  23432\n",
       "2           and  14535\n",
       "3            of  13123\n",
       "4             a  11754\n",
       "5            in  11291\n",
       "6           for   8571\n",
       "7  #coronavirus   8222\n",
       "8            is   7411\n",
       "9           are   7020"
      ]
     },
     "execution_count": 308,
     "metadata": {},
     "output_type": "execute_result"
    }
   ],
   "source": [
    "top_tokens = pd.DataFrame(list(tokens.items()), columns=['Token', 'Count'])\n",
    "top_tokens = top_tokens.sort_values(by='Count', ascending=False).reset_index(drop=True)\n",
    "\n",
    "top_tokens.head(10)"
   ]
  },
  {
   "cell_type": "markdown",
   "metadata": {
    "id": "ZtuJCD0ApuFd"
   },
   "source": [
    "**Ответ:** Эти слова являются служебными в английском языке, они часто используются как вспомогательные элементы, союзы, артикли и предлоги для составления грамматически правильных предложений. Также токен `#coronavirus` является часто втречаемым, потому что этот хештег является основной темой данных твиттов."
   ]
  },
  {
   "cell_type": "markdown",
   "metadata": {
    "id": "T7DTQDkWsVYp"
   },
   "source": [
    "Удалите стоп-слова из словаря и выведите новый топ-10 токенов (и количество встреч) по популярности.  Что можно сказать  о нем?"
   ]
  },
  {
   "cell_type": "code",
   "execution_count": null,
   "metadata": {
    "id": "8csSAdgTsnFx"
   },
   "outputs": [
    {
     "data": {
      "text/html": [
       "<div>\n",
       "<style scoped>\n",
       "    .dataframe tbody tr th:only-of-type {\n",
       "        vertical-align: middle;\n",
       "    }\n",
       "\n",
       "    .dataframe tbody tr th {\n",
       "        vertical-align: top;\n",
       "    }\n",
       "\n",
       "    .dataframe thead th {\n",
       "        text-align: right;\n",
       "    }\n",
       "</style>\n",
       "<table border=\"1\" class=\"dataframe\">\n",
       "  <thead>\n",
       "    <tr style=\"text-align: right;\">\n",
       "      <th></th>\n",
       "      <th>Token</th>\n",
       "      <th>Count</th>\n",
       "    </tr>\n",
       "  </thead>\n",
       "  <tbody>\n",
       "    <tr>\n",
       "      <th>0</th>\n",
       "      <td>#coronavirus</td>\n",
       "      <td>8222</td>\n",
       "    </tr>\n",
       "    <tr>\n",
       "      <th>1</th>\n",
       "      <td>prices</td>\n",
       "      <td>3906</td>\n",
       "    </tr>\n",
       "    <tr>\n",
       "      <th>2</th>\n",
       "      <td>food</td>\n",
       "      <td>3804</td>\n",
       "    </tr>\n",
       "    <tr>\n",
       "      <th>3</th>\n",
       "      <td>grocery</td>\n",
       "      <td>3442</td>\n",
       "    </tr>\n",
       "    <tr>\n",
       "      <th>4</th>\n",
       "      <td>supermarket</td>\n",
       "      <td>3250</td>\n",
       "    </tr>\n",
       "    <tr>\n",
       "      <th>5</th>\n",
       "      <td>covid-19</td>\n",
       "      <td>3188</td>\n",
       "    </tr>\n",
       "    <tr>\n",
       "      <th>6</th>\n",
       "      <td>store</td>\n",
       "      <td>3142</td>\n",
       "    </tr>\n",
       "    <tr>\n",
       "      <th>7</th>\n",
       "      <td>people</td>\n",
       "      <td>3113</td>\n",
       "    </tr>\n",
       "    <tr>\n",
       "      <th>8</th>\n",
       "      <td>#covid19</td>\n",
       "      <td>2473</td>\n",
       "    </tr>\n",
       "    <tr>\n",
       "      <th>9</th>\n",
       "      <td>consumer</td>\n",
       "      <td>2288</td>\n",
       "    </tr>\n",
       "  </tbody>\n",
       "</table>\n",
       "</div>"
      ],
      "text/plain": [
       "          Token  Count\n",
       "0  #coronavirus   8222\n",
       "1        prices   3906\n",
       "2          food   3804\n",
       "3       grocery   3442\n",
       "4   supermarket   3250\n",
       "5      covid-19   3188\n",
       "6         store   3142\n",
       "7        people   3113\n",
       "8      #covid19   2473\n",
       "9      consumer   2288"
      ]
     },
     "execution_count": 309,
     "metadata": {},
     "output_type": "execute_result"
    }
   ],
   "source": [
    "import ssl\n",
    "import certifi\n",
    "import nltk\n",
    "from nltk.corpus import stopwords\n",
    "\n",
    "ssl._create_default_https_context = ssl.create_default_context(cafile=certifi.where())\n",
    "\n",
    "# Были страдания с загрузкой этих стоп-слов...\n",
    "nltk.data.path.append(\"/Users/alexvasyukov/nltk_data/corpora/stopwords\")\n",
    "\n",
    "tokens_without_stopwords = tokens.copy()\n",
    "\n",
    "for token in tokens:\n",
    "    if str.lower(token) in stopwords.words('english'):\n",
    "        tokens_without_stopwords.pop(token)\n",
    "\n",
    "top_tokens_without_stopwords = pd.DataFrame(list(tokens_without_stopwords.items()), columns=['Token', 'Count'])\n",
    "top_tokens_without_stopwords = top_tokens_without_stopwords.sort_values(by='Count', ascending=False).reset_index(drop=True)\n",
    "\n",
    "top_tokens_without_stopwords.head(10)"
   ]
  },
  {
   "cell_type": "markdown",
   "metadata": {
    "id": "LZH0x2Lzs-Dh"
   },
   "source": [
    "**Ответ:**  Теперь наиболее часто встречаемые слова - это слова, которые сильно связаны с темой твиттов, с коронавирусом. Пандемия повлияла на многие повседневные отросли, в том числе на магазины, продукты, поэтому среди популярных слов такие, как `prices`, `food`, `grocery`, `supermarket`, `store`. Также часто встречаются сами названия вируса в разных формах: `#coronavirus`, `covid-19`, `#covid19`. "
   ]
  },
  {
   "cell_type": "markdown",
   "metadata": {
    "id": "TKSGRyI-uor0"
   },
   "source": [
    "Также выведите 20 самых непопулярных слов (если самых непопулярных слов больше, выведите любые 20 из них) Почему эти токены непопулярны, требуется ли как-то дополнительно работать с ними?"
   ]
  },
  {
   "cell_type": "code",
   "execution_count": 310,
   "metadata": {
    "id": "moArbwfvun9t"
   },
   "outputs": [
    {
     "data": {
      "text/html": [
       "<div>\n",
       "<style scoped>\n",
       "    .dataframe tbody tr th:only-of-type {\n",
       "        vertical-align: middle;\n",
       "    }\n",
       "\n",
       "    .dataframe tbody tr th {\n",
       "        vertical-align: top;\n",
       "    }\n",
       "\n",
       "    .dataframe thead th {\n",
       "        text-align: right;\n",
       "    }\n",
       "</style>\n",
       "<table border=\"1\" class=\"dataframe\">\n",
       "  <thead>\n",
       "    <tr style=\"text-align: right;\">\n",
       "      <th></th>\n",
       "      <th>Token</th>\n",
       "      <th>Count</th>\n",
       "    </tr>\n",
       "  </thead>\n",
       "  <tbody>\n",
       "    <tr>\n",
       "      <th>0</th>\n",
       "      <td>https://t.co/4xnxwr3kq7</td>\n",
       "      <td>1</td>\n",
       "    </tr>\n",
       "    <tr>\n",
       "      <th>1</th>\n",
       "      <td>#michiganross</td>\n",
       "      <td>1</td>\n",
       "    </tr>\n",
       "    <tr>\n",
       "      <th>2</th>\n",
       "      <td>radio,</td>\n",
       "      <td>1</td>\n",
       "    </tr>\n",
       "    <tr>\n",
       "      <th>3</th>\n",
       "      <td>https://t.co/lgaipdg44f</td>\n",
       "      <td>1</td>\n",
       "    </tr>\n",
       "    <tr>\n",
       "      <th>4</th>\n",
       "      <td>loon.</td>\n",
       "      <td>1</td>\n",
       "    </tr>\n",
       "    <tr>\n",
       "      <th>5</th>\n",
       "      <td>bible</td>\n",
       "      <td>1</td>\n",
       "    </tr>\n",
       "    <tr>\n",
       "      <th>6</th>\n",
       "      <td>mocked</td>\n",
       "      <td>1</td>\n",
       "    </tr>\n",
       "    <tr>\n",
       "      <th>7</th>\n",
       "      <td>prof.</td>\n",
       "      <td>1</td>\n",
       "    </tr>\n",
       "    <tr>\n",
       "      <th>8</th>\n",
       "      <td>https://t.co/82enerilrt</td>\n",
       "      <td>1</td>\n",
       "    </tr>\n",
       "    <tr>\n",
       "      <th>9</th>\n",
       "      <td>purchasing,</td>\n",
       "      <td>1</td>\n",
       "    </tr>\n",
       "    <tr>\n",
       "      <th>10</th>\n",
       "      <td>lesson,</td>\n",
       "      <td>1</td>\n",
       "    </tr>\n",
       "    <tr>\n",
       "      <th>11</th>\n",
       "      <td>https://t.co/tmsboy1t5g</td>\n",
       "      <td>1</td>\n",
       "    </tr>\n",
       "    <tr>\n",
       "      <th>12</th>\n",
       "      <td>https://t.co/6snlxoccyj</td>\n",
       "      <td>1</td>\n",
       "    </tr>\n",
       "    <tr>\n",
       "      <th>13</th>\n",
       "      <td>https://t.co/51k9zil8yp</td>\n",
       "      <td>1</td>\n",
       "    </tr>\n",
       "    <tr>\n",
       "      <th>14</th>\n",
       "      <td>#consumerelectronics</td>\n",
       "      <td>1</td>\n",
       "    </tr>\n",
       "    <tr>\n",
       "      <th>15</th>\n",
       "      <td>:-))..</td>\n",
       "      <td>1</td>\n",
       "    </tr>\n",
       "    <tr>\n",
       "      <th>16</th>\n",
       "      <td>https://t.co/gtoyneknps</td>\n",
       "      <td>1</td>\n",
       "    </tr>\n",
       "    <tr>\n",
       "      <th>17</th>\n",
       "      <td>aradhna</td>\n",
       "      <td>1</td>\n",
       "    </tr>\n",
       "    <tr>\n",
       "      <th>18</th>\n",
       "      <td>shortages:</td>\n",
       "      <td>1</td>\n",
       "    </tr>\n",
       "    <tr>\n",
       "      <th>19</th>\n",
       "      <td>1-hour</td>\n",
       "      <td>1</td>\n",
       "    </tr>\n",
       "  </tbody>\n",
       "</table>\n",
       "</div>"
      ],
      "text/plain": [
       "                      Token  Count\n",
       "0   https://t.co/4xnxwr3kq7      1\n",
       "1             #michiganross      1\n",
       "2                    radio,      1\n",
       "3   https://t.co/lgaipdg44f      1\n",
       "4                     loon.      1\n",
       "5                     bible      1\n",
       "6                    mocked      1\n",
       "7                     prof.      1\n",
       "8   https://t.co/82enerilrt      1\n",
       "9               purchasing,      1\n",
       "10                  lesson,      1\n",
       "11  https://t.co/tmsboy1t5g      1\n",
       "12  https://t.co/6snlxoccyj      1\n",
       "13  https://t.co/51k9zil8yp      1\n",
       "14     #consumerelectronics      1\n",
       "15                   :-))..      1\n",
       "16  https://t.co/gtoyneknps      1\n",
       "17                  aradhna      1\n",
       "18               shortages:      1\n",
       "19                   1-hour      1"
      ]
     },
     "execution_count": 310,
     "metadata": {},
     "output_type": "execute_result"
    }
   ],
   "source": [
    "antitop_tokens_without_stopwords = pd.DataFrame(list(tokens_without_stopwords.items()), columns=['Token', 'Count'])\n",
    "antitop_tokens_without_stopwords = antitop_tokens_without_stopwords.sort_values(by='Count', ascending=True).reset_index(drop=True)\n",
    "\n",
    "antitop_tokens_without_stopwords.head(20)"
   ]
  },
  {
   "cell_type": "markdown",
   "metadata": {
    "id": "uRp3J1gQunlR"
   },
   "source": [
    "**Ответ:** Здесь токены, которые встречались лишь раз среди всех твиттов. Они непопулярны, так как в некоторые включена пунктуация, но комбинация какого-то слова и знака препинания часто уникальна и используется редко. Ещё есть слова с опечатками. Также тут есть ссылки на сайты, которые цитируются довольно редко.\n",
    "\n",
    "Возможно, их можно просто удалить, они сильного смыслового значения не несут, и тогда результат всё равно не должен сильно измениться. Но стоит учесть, что иногда скобочки могут показать окрас сообщения."
   ]
  },
  {
   "cell_type": "markdown",
   "metadata": {
    "id": "wx9LQOSPzvjV"
   },
   "source": [
    "Теперь воспользуемся токенайзером получше - TweetTokenizer из библиотеки nltk. Примените его и посмотрите на топ-10 популярных слов. Чем он отличается от топа, который получался раньше? Почему?"
   ]
  },
  {
   "cell_type": "code",
   "execution_count": 311,
   "metadata": {
    "id": "2G1UkyVxzvFY"
   },
   "outputs": [
    {
     "data": {
      "text/html": [
       "<div>\n",
       "<style scoped>\n",
       "    .dataframe tbody tr th:only-of-type {\n",
       "        vertical-align: middle;\n",
       "    }\n",
       "\n",
       "    .dataframe tbody tr th {\n",
       "        vertical-align: top;\n",
       "    }\n",
       "\n",
       "    .dataframe thead th {\n",
       "        text-align: right;\n",
       "    }\n",
       "</style>\n",
       "<table border=\"1\" class=\"dataframe\">\n",
       "  <thead>\n",
       "    <tr style=\"text-align: right;\">\n",
       "      <th></th>\n",
       "      <th>Token</th>\n",
       "      <th>Count</th>\n",
       "    </tr>\n",
       "  </thead>\n",
       "  <tbody>\n",
       "    <tr>\n",
       "      <th>0</th>\n",
       "      <td>the</td>\n",
       "      <td>26882</td>\n",
       "    </tr>\n",
       "    <tr>\n",
       "      <th>1</th>\n",
       "      <td>.</td>\n",
       "      <td>23953</td>\n",
       "    </tr>\n",
       "    <tr>\n",
       "      <th>2</th>\n",
       "      <td>to</td>\n",
       "      <td>23526</td>\n",
       "    </tr>\n",
       "    <tr>\n",
       "      <th>3</th>\n",
       "      <td>,</td>\n",
       "      <td>17620</td>\n",
       "    </tr>\n",
       "    <tr>\n",
       "      <th>4</th>\n",
       "      <td>and</td>\n",
       "      <td>14674</td>\n",
       "    </tr>\n",
       "    <tr>\n",
       "      <th>5</th>\n",
       "      <td>of</td>\n",
       "      <td>13147</td>\n",
       "    </tr>\n",
       "    <tr>\n",
       "      <th>6</th>\n",
       "      <td>a</td>\n",
       "      <td>11896</td>\n",
       "    </tr>\n",
       "    <tr>\n",
       "      <th>7</th>\n",
       "      <td>in</td>\n",
       "      <td>11426</td>\n",
       "    </tr>\n",
       "    <tr>\n",
       "      <th>8</th>\n",
       "      <td>?</td>\n",
       "      <td>9525</td>\n",
       "    </tr>\n",
       "    <tr>\n",
       "      <th>9</th>\n",
       "      <td>#coronavirus</td>\n",
       "      <td>8795</td>\n",
       "    </tr>\n",
       "  </tbody>\n",
       "</table>\n",
       "</div>"
      ],
      "text/plain": [
       "          Token  Count\n",
       "0           the  26882\n",
       "1             .  23953\n",
       "2            to  23526\n",
       "3             ,  17620\n",
       "4           and  14674\n",
       "5            of  13147\n",
       "6             a  11896\n",
       "7            in  11426\n",
       "8             ?   9525\n",
       "9  #coronavirus   8795"
      ]
     },
     "execution_count": 311,
     "metadata": {},
     "output_type": "execute_result"
    }
   ],
   "source": [
    "from nltk.tokenize import TweetTokenizer\n",
    "\n",
    "nltk.data.path.append(\"/Users/alexvasyukov/nltk_data/punkt\")\n",
    "\n",
    "tw = TweetTokenizer()\n",
    "tokens = {}\n",
    "\n",
    "for tweet in train['OriginalTweet']:\n",
    "    words = tw.tokenize(tweet.lower())\n",
    "\n",
    "    for word in words:\n",
    "        if word in tokens:\n",
    "            tokens[word] += 1\n",
    "        else:\n",
    "            tokens[word] = 1\n",
    "\n",
    "top_tokens = pd.DataFrame(list(tokens.items()), columns=['Token', 'Count'])\n",
    "top_tokens = top_tokens.sort_values(by='Count', ascending=False).reset_index(drop=True)\n",
    "\n",
    "top_tokens.head(10)"
   ]
  },
  {
   "cell_type": "markdown",
   "metadata": {
    "id": "50eVUnJN1Zxl"
   },
   "source": [
    "**Ответ:** Здесь так же есть служебные слова, такие как `the`, `to`, `and` и другие. Но к этому добавились знаки препинания `.`, `,`, `?`, которых не было ранее. Это получается из-за того, что TweetTokenizer учитывает различные комбинации символов (эомдзи, знаки препинания) как отдельные токены, а до этого мы просто делили слова по пробелам. И пунктуация должна иметь большое значение на нашу модель, так как она может передавать эмоции."
   ]
  },
  {
   "cell_type": "markdown",
   "metadata": {
    "id": "1gqQgiMs11bs"
   },
   "source": [
    "Удалите из словаря стоп-слова и пунктуацию, посмотрите на новый топ-10 слов с количеством встреч, есть ли теперь в нем что-то не похожее на слова?"
   ]
  },
  {
   "cell_type": "code",
   "execution_count": 312,
   "metadata": {
    "id": "0yHWdFrp0Mup"
   },
   "outputs": [
    {
     "data": {
      "text/html": [
       "<div>\n",
       "<style scoped>\n",
       "    .dataframe tbody tr th:only-of-type {\n",
       "        vertical-align: middle;\n",
       "    }\n",
       "\n",
       "    .dataframe tbody tr th {\n",
       "        vertical-align: top;\n",
       "    }\n",
       "\n",
       "    .dataframe thead th {\n",
       "        text-align: right;\n",
       "    }\n",
       "</style>\n",
       "<table border=\"1\" class=\"dataframe\">\n",
       "  <thead>\n",
       "    <tr style=\"text-align: right;\">\n",
       "      <th></th>\n",
       "      <th>Token</th>\n",
       "      <th>Count</th>\n",
       "    </tr>\n",
       "  </thead>\n",
       "  <tbody>\n",
       "    <tr>\n",
       "      <th>0</th>\n",
       "      <td>#coronavirus</td>\n",
       "      <td>8795</td>\n",
       "    </tr>\n",
       "    <tr>\n",
       "      <th>1</th>\n",
       "      <td>â</td>\n",
       "      <td>7319</td>\n",
       "    </tr>\n",
       "    <tr>\n",
       "      <th>2</th>\n",
       "      <td></td>\n",
       "      <td>7222</td>\n",
       "    </tr>\n",
       "    <tr>\n",
       "      <th>3</th>\n",
       "      <td>19</td>\n",
       "      <td>7180</td>\n",
       "    </tr>\n",
       "    <tr>\n",
       "      <th>4</th>\n",
       "      <td>covid</td>\n",
       "      <td>6237</td>\n",
       "    </tr>\n",
       "    <tr>\n",
       "      <th>5</th>\n",
       "      <td>prices</td>\n",
       "      <td>4599</td>\n",
       "    </tr>\n",
       "    <tr>\n",
       "      <th>6</th>\n",
       "      <td>food</td>\n",
       "      <td>4362</td>\n",
       "    </tr>\n",
       "    <tr>\n",
       "      <th>7</th>\n",
       "      <td></td>\n",
       "      <td>4315</td>\n",
       "    </tr>\n",
       "    <tr>\n",
       "      <th>8</th>\n",
       "      <td>store</td>\n",
       "      <td>3868</td>\n",
       "    </tr>\n",
       "    <tr>\n",
       "      <th>9</th>\n",
       "      <td>supermarket</td>\n",
       "      <td>3797</td>\n",
       "    </tr>\n",
       "  </tbody>\n",
       "</table>\n",
       "</div>"
      ],
      "text/plain": [
       "          Token  Count\n",
       "0  #coronavirus   8795\n",
       "1             â   7319\n",
       "2                7222\n",
       "3            19   7180\n",
       "4         covid   6237\n",
       "5        prices   4599\n",
       "6          food   4362\n",
       "7                4315\n",
       "8         store   3868\n",
       "9   supermarket   3797"
      ]
     },
     "execution_count": 312,
     "metadata": {},
     "output_type": "execute_result"
    }
   ],
   "source": [
    "from string import punctuation\n",
    "\n",
    "noise = stopwords.words('english') + list(punctuation)\n",
    "tokens_without_noise = tokens.copy()\n",
    "\n",
    "for token in tokens:\n",
    "    if token in noise:\n",
    "        tokens_without_noise.pop(token)\n",
    "\n",
    "top_tokens_without_stopwords = pd.DataFrame(list(tokens_without_noise.items()), columns=['Token', 'Count'])\n",
    "top_tokens_without_stopwords = top_tokens_without_stopwords.sort_values(by='Count', ascending=False).reset_index(drop=True)\n",
    "\n",
    "top_tokens_without_stopwords.head(10)"
   ]
  },
  {
   "cell_type": "markdown",
   "metadata": {
    "id": "8ZJqXELP_Yxy"
   },
   "source": [
    "**Ответ:** Результаты содержат одинаковые слова, которые были ранее, связанные с магазинами `prices`, `food`, `store` и с вирусом `#coronavirus`, `#covid19`. К тому же доавбились невидимые символы и символы выходящие из кодировки - их TweetTokenizer выделил как отдельные токены, в отличие от прошлого раза. Также 19 отделилось от ковида, что сделало интерпретацию немного хуже."
   ]
  },
  {
   "cell_type": "markdown",
   "metadata": {
    "id": "rzXjMsSB_kXB"
   },
   "source": [
    "Скорее всего в некоторых топах были неотображаемые символы или отдельные буквы не латинского алфавита. Уберем их: удалите из словаря токены из одного символа, позиция которого в таблице Unicode 128 и более (`ord(x) >= 128`)\n",
    "\n",
    "Выведите топ-10 самых популярных и топ-20 непопулярных слов. Чем полученные топы отличаются от итоговых топов, полученных при использовании токенизации по пробелам? Что теперь лучше, а что хуже?"
   ]
  },
  {
   "cell_type": "code",
   "execution_count": 313,
   "metadata": {
    "id": "1695hlkS_1-J"
   },
   "outputs": [],
   "source": [
    "final_tokens = tokens_without_noise.copy()\n",
    "\n",
    "for token in tokens_without_noise:\n",
    "    if len(token) == 1 and ord(token) >= 128:\n",
    "        final_tokens.pop(token)"
   ]
  },
  {
   "cell_type": "code",
   "execution_count": 314,
   "metadata": {},
   "outputs": [
    {
     "data": {
      "text/html": [
       "<div>\n",
       "<style scoped>\n",
       "    .dataframe tbody tr th:only-of-type {\n",
       "        vertical-align: middle;\n",
       "    }\n",
       "\n",
       "    .dataframe tbody tr th {\n",
       "        vertical-align: top;\n",
       "    }\n",
       "\n",
       "    .dataframe thead th {\n",
       "        text-align: right;\n",
       "    }\n",
       "</style>\n",
       "<table border=\"1\" class=\"dataframe\">\n",
       "  <thead>\n",
       "    <tr style=\"text-align: right;\">\n",
       "      <th></th>\n",
       "      <th>Token</th>\n",
       "      <th>Count</th>\n",
       "    </tr>\n",
       "  </thead>\n",
       "  <tbody>\n",
       "    <tr>\n",
       "      <th>0</th>\n",
       "      <td>#coronavirus</td>\n",
       "      <td>8795</td>\n",
       "    </tr>\n",
       "    <tr>\n",
       "      <th>1</th>\n",
       "      <td>19</td>\n",
       "      <td>7180</td>\n",
       "    </tr>\n",
       "    <tr>\n",
       "      <th>2</th>\n",
       "      <td>covid</td>\n",
       "      <td>6237</td>\n",
       "    </tr>\n",
       "    <tr>\n",
       "      <th>3</th>\n",
       "      <td>prices</td>\n",
       "      <td>4599</td>\n",
       "    </tr>\n",
       "    <tr>\n",
       "      <th>4</th>\n",
       "      <td>food</td>\n",
       "      <td>4362</td>\n",
       "    </tr>\n",
       "    <tr>\n",
       "      <th>5</th>\n",
       "      <td>store</td>\n",
       "      <td>3868</td>\n",
       "    </tr>\n",
       "    <tr>\n",
       "      <th>6</th>\n",
       "      <td>supermarket</td>\n",
       "      <td>3797</td>\n",
       "    </tr>\n",
       "    <tr>\n",
       "      <th>7</th>\n",
       "      <td>grocery</td>\n",
       "      <td>3501</td>\n",
       "    </tr>\n",
       "    <tr>\n",
       "      <th>8</th>\n",
       "      <td>people</td>\n",
       "      <td>3396</td>\n",
       "    </tr>\n",
       "    <tr>\n",
       "      <th>9</th>\n",
       "      <td>#covid19</td>\n",
       "      <td>2582</td>\n",
       "    </tr>\n",
       "  </tbody>\n",
       "</table>\n",
       "</div>"
      ],
      "text/plain": [
       "          Token  Count\n",
       "0  #coronavirus   8795\n",
       "1            19   7180\n",
       "2         covid   6237\n",
       "3        prices   4599\n",
       "4          food   4362\n",
       "5         store   3868\n",
       "6   supermarket   3797\n",
       "7       grocery   3501\n",
       "8        people   3396\n",
       "9      #covid19   2582"
      ]
     },
     "execution_count": 314,
     "metadata": {},
     "output_type": "execute_result"
    }
   ],
   "source": [
    "top_final_tokens = pd.DataFrame(list(final_tokens.items()), columns=['Token', 'Count'])\n",
    "top_final_tokens = top_final_tokens.sort_values(by='Count', ascending=False).reset_index(drop=True)\n",
    "\n",
    "top_final_tokens.head(10)"
   ]
  },
  {
   "cell_type": "code",
   "execution_count": 315,
   "metadata": {},
   "outputs": [
    {
     "data": {
      "text/html": [
       "<div>\n",
       "<style scoped>\n",
       "    .dataframe tbody tr th:only-of-type {\n",
       "        vertical-align: middle;\n",
       "    }\n",
       "\n",
       "    .dataframe tbody tr th {\n",
       "        vertical-align: top;\n",
       "    }\n",
       "\n",
       "    .dataframe thead th {\n",
       "        text-align: right;\n",
       "    }\n",
       "</style>\n",
       "<table border=\"1\" class=\"dataframe\">\n",
       "  <thead>\n",
       "    <tr style=\"text-align: right;\">\n",
       "      <th></th>\n",
       "      <th>Token</th>\n",
       "      <th>Count</th>\n",
       "    </tr>\n",
       "  </thead>\n",
       "  <tbody>\n",
       "    <tr>\n",
       "      <th>0</th>\n",
       "      <td>tantamount</td>\n",
       "      <td>1</td>\n",
       "    </tr>\n",
       "    <tr>\n",
       "      <th>1</th>\n",
       "      <td>https://t.co/apk6k9aqsi</td>\n",
       "      <td>1</td>\n",
       "    </tr>\n",
       "    <tr>\n",
       "      <th>2</th>\n",
       "      <td>https://t.co/nr0nlnnnhi</td>\n",
       "      <td>1</td>\n",
       "    </tr>\n",
       "    <tr>\n",
       "      <th>3</th>\n",
       "      <td>700m</td>\n",
       "      <td>1</td>\n",
       "    </tr>\n",
       "    <tr>\n",
       "      <th>4</th>\n",
       "      <td>https://t.co/b14xuhqkfl</td>\n",
       "      <td>1</td>\n",
       "    </tr>\n",
       "    <tr>\n",
       "      <th>5</th>\n",
       "      <td>qasem</td>\n",
       "      <td>1</td>\n",
       "    </tr>\n",
       "    <tr>\n",
       "      <th>6</th>\n",
       "      <td>soleimani</td>\n",
       "      <td>1</td>\n",
       "    </tr>\n",
       "    <tr>\n",
       "      <th>7</th>\n",
       "      <td>us-iran</td>\n",
       "      <td>1</td>\n",
       "    </tr>\n",
       "    <tr>\n",
       "      <th>8</th>\n",
       "      <td>176</td>\n",
       "      <td>1</td>\n",
       "    </tr>\n",
       "    <tr>\n",
       "      <th>9</th>\n",
       "      <td>bryant</td>\n",
       "      <td>1</td>\n",
       "    </tr>\n",
       "    <tr>\n",
       "      <th>10</th>\n",
       "      <td>@inzyrashid</td>\n",
       "      <td>1</td>\n",
       "    </tr>\n",
       "    <tr>\n",
       "      <th>11</th>\n",
       "      <td>https://t.co/bsiutaq2a9</td>\n",
       "      <td>1</td>\n",
       "    </tr>\n",
       "    <tr>\n",
       "      <th>12</th>\n",
       "      <td>alerted</td>\n",
       "      <td>1</td>\n",
       "    </tr>\n",
       "    <tr>\n",
       "      <th>13</th>\n",
       "      <td>#beatcorona</td>\n",
       "      <td>1</td>\n",
       "    </tr>\n",
       "    <tr>\n",
       "      <th>14</th>\n",
       "      <td>#austintx</td>\n",
       "      <td>1</td>\n",
       "    </tr>\n",
       "    <tr>\n",
       "      <th>15</th>\n",
       "      <td>case-by-case</td>\n",
       "      <td>1</td>\n",
       "    </tr>\n",
       "    <tr>\n",
       "      <th>16</th>\n",
       "      <td>#tenant</td>\n",
       "      <td>1</td>\n",
       "    </tr>\n",
       "    <tr>\n",
       "      <th>17</th>\n",
       "      <td>#landlord</td>\n",
       "      <td>1</td>\n",
       "    </tr>\n",
       "    <tr>\n",
       "      <th>18</th>\n",
       "      <td>https://t.co/m9irxzeghg</td>\n",
       "      <td>1</td>\n",
       "    </tr>\n",
       "    <tr>\n",
       "      <th>19</th>\n",
       "      <td>https://t.co/idnyot1thv</td>\n",
       "      <td>1</td>\n",
       "    </tr>\n",
       "  </tbody>\n",
       "</table>\n",
       "</div>"
      ],
      "text/plain": [
       "                      Token  Count\n",
       "0                tantamount      1\n",
       "1   https://t.co/apk6k9aqsi      1\n",
       "2   https://t.co/nr0nlnnnhi      1\n",
       "3                      700m      1\n",
       "4   https://t.co/b14xuhqkfl      1\n",
       "5                     qasem      1\n",
       "6                 soleimani      1\n",
       "7                   us-iran      1\n",
       "8                       176      1\n",
       "9                    bryant      1\n",
       "10              @inzyrashid      1\n",
       "11  https://t.co/bsiutaq2a9      1\n",
       "12                  alerted      1\n",
       "13              #beatcorona      1\n",
       "14                #austintx      1\n",
       "15             case-by-case      1\n",
       "16                  #tenant      1\n",
       "17                #landlord      1\n",
       "18  https://t.co/m9irxzeghg      1\n",
       "19  https://t.co/idnyot1thv      1"
      ]
     },
     "execution_count": 315,
     "metadata": {},
     "output_type": "execute_result"
    }
   ],
   "source": [
    "antitop_final_tokens = pd.DataFrame(list(final_tokens.items()), columns=['Token', 'Count'])\n",
    "antitop_final_tokens = antitop_final_tokens.sort_values(by='Count', ascending=True).reset_index(drop=True)\n",
    "\n",
    "antitop_final_tokens.head(20)"
   ]
  },
  {
   "cell_type": "markdown",
   "metadata": {
    "id": "KzjHAKIlDvc6"
   },
   "source": [
    "**Ответ:** Топы получились практически одинаковыми - слова о магазинах и вирусе. В популярных токенах появилось число $19$, которое отделилось от слов связанных с `covid`, что стало менее интерпретируемо. Более полезно в данном случае \"$19$\" и \"ковид\" держать вместе. В непопулярных словах также есть ссылки, слова с ошибками, теги и хештеги, которые встречаются по одному разу. Оба варианта дали похожие варианты, но TweetTokenizer сделал это чётче, некоторые слова стали более осмысленные."
   ]
  },
  {
   "cell_type": "markdown",
   "metadata": {
    "id": "EcDf9_6HB2zm"
   },
   "source": [
    "Выведите топ-10 популярных хештегов (токены, первые символы которых - #) с количеством встреч. Что можно сказать о них?"
   ]
  },
  {
   "cell_type": "code",
   "execution_count": 316,
   "metadata": {
    "id": "zk4fygCUBw3l"
   },
   "outputs": [
    {
     "data": {
      "text/html": [
       "<div>\n",
       "<style scoped>\n",
       "    .dataframe tbody tr th:only-of-type {\n",
       "        vertical-align: middle;\n",
       "    }\n",
       "\n",
       "    .dataframe tbody tr th {\n",
       "        vertical-align: top;\n",
       "    }\n",
       "\n",
       "    .dataframe thead th {\n",
       "        text-align: right;\n",
       "    }\n",
       "</style>\n",
       "<table border=\"1\" class=\"dataframe\">\n",
       "  <thead>\n",
       "    <tr style=\"text-align: right;\">\n",
       "      <th></th>\n",
       "      <th>Token</th>\n",
       "      <th>Count</th>\n",
       "    </tr>\n",
       "  </thead>\n",
       "  <tbody>\n",
       "    <tr>\n",
       "      <th>0</th>\n",
       "      <td>#coronavirus</td>\n",
       "      <td>8795</td>\n",
       "    </tr>\n",
       "    <tr>\n",
       "      <th>1</th>\n",
       "      <td>#covid19</td>\n",
       "      <td>2582</td>\n",
       "    </tr>\n",
       "    <tr>\n",
       "      <th>2</th>\n",
       "      <td>#covid_19</td>\n",
       "      <td>1768</td>\n",
       "    </tr>\n",
       "    <tr>\n",
       "      <th>3</th>\n",
       "      <td>#covid2019</td>\n",
       "      <td>950</td>\n",
       "    </tr>\n",
       "    <tr>\n",
       "      <th>4</th>\n",
       "      <td>#toiletpaper</td>\n",
       "      <td>765</td>\n",
       "    </tr>\n",
       "    <tr>\n",
       "      <th>5</th>\n",
       "      <td>#covid</td>\n",
       "      <td>658</td>\n",
       "    </tr>\n",
       "    <tr>\n",
       "      <th>6</th>\n",
       "      <td>#socialdistancing</td>\n",
       "      <td>484</td>\n",
       "    </tr>\n",
       "    <tr>\n",
       "      <th>7</th>\n",
       "      <td>#coronacrisis</td>\n",
       "      <td>431</td>\n",
       "    </tr>\n",
       "    <tr>\n",
       "      <th>8</th>\n",
       "      <td>#coronaviruspandemic</td>\n",
       "      <td>249</td>\n",
       "    </tr>\n",
       "    <tr>\n",
       "      <th>9</th>\n",
       "      <td>#pandemic</td>\n",
       "      <td>239</td>\n",
       "    </tr>\n",
       "  </tbody>\n",
       "</table>\n",
       "</div>"
      ],
      "text/plain": [
       "                  Token  Count\n",
       "0          #coronavirus   8795\n",
       "1              #covid19   2582\n",
       "2             #covid_19   1768\n",
       "3            #covid2019    950\n",
       "4          #toiletpaper    765\n",
       "5                #covid    658\n",
       "6     #socialdistancing    484\n",
       "7         #coronacrisis    431\n",
       "8  #coronaviruspandemic    249\n",
       "9             #pandemic    239"
      ]
     },
     "execution_count": 316,
     "metadata": {},
     "output_type": "execute_result"
    }
   ],
   "source": [
    "top_hashtag = pd.DataFrame(list(el for el in final_tokens.items() if el[0][0] == '#'), columns=['Token', 'Count'])\n",
    "top_hashtag = top_hashtag.sort_values(by='Count', ascending=False).reset_index(drop=True)\n",
    "\n",
    "top_hashtag.head(10)"
   ]
  },
  {
   "cell_type": "markdown",
   "metadata": {
    "id": "-6NeNWBkDxM7"
   },
   "source": [
    "**Ответ:** Почти все хештеги означают коронавирус, разные виды его написания. Есть хештег связанный с туалетной бумагой, который также отсылает к теме пандемии, когда люди скупали всё в магазинах. "
   ]
  },
  {
   "cell_type": "markdown",
   "metadata": {
    "id": "LLYBg7caD5GA"
   },
   "source": [
    "То же самое проделайте для ссылок на сайт https://t.co Сравнима ли популярность ссылок с популярностью хештегов? Будет ли информация о ссылке на конкретную страницу полезна?"
   ]
  },
  {
   "cell_type": "code",
   "execution_count": 317,
   "metadata": {
    "id": "MXbm1oeaCK9S"
   },
   "outputs": [
    {
     "data": {
      "text/html": [
       "<div>\n",
       "<style scoped>\n",
       "    .dataframe tbody tr th:only-of-type {\n",
       "        vertical-align: middle;\n",
       "    }\n",
       "\n",
       "    .dataframe tbody tr th {\n",
       "        vertical-align: top;\n",
       "    }\n",
       "\n",
       "    .dataframe thead th {\n",
       "        text-align: right;\n",
       "    }\n",
       "</style>\n",
       "<table border=\"1\" class=\"dataframe\">\n",
       "  <thead>\n",
       "    <tr style=\"text-align: right;\">\n",
       "      <th></th>\n",
       "      <th>Token</th>\n",
       "      <th>Count</th>\n",
       "    </tr>\n",
       "  </thead>\n",
       "  <tbody>\n",
       "    <tr>\n",
       "      <th>0</th>\n",
       "      <td>https://t.co/oxa7swtond</td>\n",
       "      <td>6</td>\n",
       "    </tr>\n",
       "    <tr>\n",
       "      <th>1</th>\n",
       "      <td>https://t.co/wrlhyzizaa</td>\n",
       "      <td>4</td>\n",
       "    </tr>\n",
       "    <tr>\n",
       "      <th>2</th>\n",
       "      <td>https://t.co/ymsemlvttd</td>\n",
       "      <td>4</td>\n",
       "    </tr>\n",
       "    <tr>\n",
       "      <th>3</th>\n",
       "      <td>https://t.co/3kfuiojxep</td>\n",
       "      <td>4</td>\n",
       "    </tr>\n",
       "    <tr>\n",
       "      <th>4</th>\n",
       "      <td>https://t.co/r7sagojsjg</td>\n",
       "      <td>4</td>\n",
       "    </tr>\n",
       "    <tr>\n",
       "      <th>5</th>\n",
       "      <td>https://t.co/catkegayoy</td>\n",
       "      <td>3</td>\n",
       "    </tr>\n",
       "    <tr>\n",
       "      <th>6</th>\n",
       "      <td>https://t.co/6yvykiab2c</td>\n",
       "      <td>3</td>\n",
       "    </tr>\n",
       "    <tr>\n",
       "      <th>7</th>\n",
       "      <td>https://t.co/xpcm2xkj4o</td>\n",
       "      <td>3</td>\n",
       "    </tr>\n",
       "    <tr>\n",
       "      <th>8</th>\n",
       "      <td>https://t.co/mlw1gfkzna</td>\n",
       "      <td>3</td>\n",
       "    </tr>\n",
       "    <tr>\n",
       "      <th>9</th>\n",
       "      <td>https://t.co/jpgmr5hcsc</td>\n",
       "      <td>3</td>\n",
       "    </tr>\n",
       "  </tbody>\n",
       "</table>\n",
       "</div>"
      ],
      "text/plain": [
       "                     Token  Count\n",
       "0  https://t.co/oxa7swtond      6\n",
       "1  https://t.co/wrlhyzizaa      4\n",
       "2  https://t.co/ymsemlvttd      4\n",
       "3  https://t.co/3kfuiojxep      4\n",
       "4  https://t.co/r7sagojsjg      4\n",
       "5  https://t.co/catkegayoy      3\n",
       "6  https://t.co/6yvykiab2c      3\n",
       "7  https://t.co/xpcm2xkj4o      3\n",
       "8  https://t.co/mlw1gfkzna      3\n",
       "9  https://t.co/jpgmr5hcsc      3"
      ]
     },
     "execution_count": 317,
     "metadata": {},
     "output_type": "execute_result"
    }
   ],
   "source": [
    "top_links = pd.DataFrame(list(token for token in final_tokens.items() if 'https://t.co' in token[0]), columns=['Token', 'Count'])\n",
    "top_links = top_links.sort_values(by='Count', ascending=False).reset_index(drop=True)\n",
    "\n",
    "top_links.head(10)"
   ]
  },
  {
   "cell_type": "markdown",
   "metadata": {
    "id": "at6lRYZ8A07N"
   },
   "source": [
    "**Ответ:** Хештеги сильно популярнее, чем ссылки. Использование первых может доходить до тысяч, а вторые - максимум 6 раз. Можно распарсить текст сайта и добавить его в твитт, в котором была ссылка. Это даст более подробную информацию о твитте. Но стоит также учесть контекст ссылок в тивтте."
   ]
  },
  {
   "cell_type": "markdown",
   "metadata": {
    "id": "IOGdUU1kBU1D"
   },
   "source": [
    "Используем опыт предыдущих экспериментов и напишем собственный токенайзер, улучшив TweetTokenizer. Функция tokenize должна:\n",
    "\n",
    "\n",
    "\n",
    "*   Привести текст в нижний регистр\n",
    "*   Применить TweetTokenizer для  выделения токенов\n",
    "*   Удалить стоп-слова, пунктуацию, токены из одного символа с позицией в таблице Unicode 128 и более,  ссылки на t.co\n",
    "\n"
   ]
  },
  {
   "cell_type": "code",
   "execution_count": 318,
   "metadata": {},
   "outputs": [],
   "source": [
    "def custom_tokenizer(text):\n",
    "  \n",
    "  lower_text = text.lower()\n",
    "\n",
    "  tw = TweetTokenizer()\n",
    "  all_tokens = tw.tokenize(lower_text)\n",
    "\n",
    "  noise = stopwords.words('english') + list(punctuation)\n",
    "\n",
    "  tokens = []\n",
    "  for token in all_tokens:\n",
    "    if token in noise or len(token) == 1 and ord(token) >= 128 or 'https://t.co' in token:\n",
    "      continue\n",
    "    tokens.append(token)\n",
    "\n",
    "  return tokens\n"
   ]
  },
  {
   "cell_type": "code",
   "execution_count": 319,
   "metadata": {},
   "outputs": [
    {
     "data": {
      "text/plain": [
       "['sample', 'text', '@sample_text', '#sampletext']"
      ]
     },
     "execution_count": 319,
     "metadata": {},
     "output_type": "execute_result"
    }
   ],
   "source": [
    "custom_tokenizer('This is sample text!!!! @Sample_text I, \\x92\\x92 https://t.co/sample  #sampletext')"
   ]
  },
  {
   "cell_type": "markdown",
   "metadata": {},
   "source": [
    "## Задание 3 Векторизация текстов (2 балла)"
   ]
  },
  {
   "cell_type": "markdown",
   "metadata": {},
   "source": [
    "Обучите CountVectorizer с использованием custom_tokenizer в качестве токенайзера. Как размер полученного словаря соотносится с размером изначального словаря из начала задания 2?"
   ]
  },
  {
   "cell_type": "code",
   "execution_count": 320,
   "metadata": {},
   "outputs": [
    {
     "name": "stdout",
     "output_type": "stream",
     "text": [
      "45627\n"
     ]
    }
   ],
   "source": [
    "from sklearn.feature_extraction.text import CountVectorizer\n",
    "\n",
    "cv = CountVectorizer(tokenizer=custom_tokenizer, token_pattern=None).fit(train['OriginalTweet'])\n",
    "print(len(cv.vocabulary_))"
   ]
  },
  {
   "cell_type": "markdown",
   "metadata": {},
   "source": [
    "**Ответ:** Размер данного словаря в 2 раза меньше, чем изначальный. То есть благодаря токенизатора мы сильно уменьшили количество токенов."
   ]
  },
  {
   "cell_type": "markdown",
   "metadata": {},
   "source": [
    "Посмотрим на какой-нибудь конкретный твитт:"
   ]
  },
  {
   "cell_type": "code",
   "execution_count": 321,
   "metadata": {},
   "outputs": [
    {
     "data": {
      "text/plain": [
       "('Products that are shelf-stable &amp; long-lived are in demand as consumers are stockpiling staples in anticipation of state- or self-imposed quarantines. Interest in fresh &amp; artisanal foods is being tested as consumers turn to preserved, shelf-stable products https://t.co/MdDEFzqI39',\n",
       " np.int64(1))"
      ]
     },
     "execution_count": 321,
     "metadata": {},
     "output_type": "execute_result"
    }
   ],
   "source": [
    "ind = 9023\n",
    "train.iloc[ind]['OriginalTweet'], train.iloc[ind]['Sentiment']"
   ]
  },
  {
   "cell_type": "markdown",
   "metadata": {},
   "source": [
    "Автор твитта не доволен ситуацией с едой во Франции и текст имеет резко негативную окраску. (А мне еда во Франции понравилась)\n",
    "\n",
    "![france_food](https://raw.githubusercontent.com/vasyukov1/HSE-FCS-SE-2-year/refs/heads/main/IAD/homeworks/hw06-texts/france_food.jpg)"
   ]
  },
  {
   "cell_type": "markdown",
   "metadata": {},
   "source": [
    "Примените обученный CountVectorizer для векторизации данного текста, и попытайтесь определить самый важный токен и самый неважный токен (токен, компонента которого в векторе максимальна/минимальна, без учета 0). Хорошо ли они определились, почему?"
   ]
  },
  {
   "cell_type": "code",
   "execution_count": 322,
   "metadata": {},
   "outputs": [
    {
     "data": {
      "text/html": [
       "<div>\n",
       "<style scoped>\n",
       "    .dataframe tbody tr th:only-of-type {\n",
       "        vertical-align: middle;\n",
       "    }\n",
       "\n",
       "    .dataframe tbody tr th {\n",
       "        vertical-align: top;\n",
       "    }\n",
       "\n",
       "    .dataframe thead th {\n",
       "        text-align: right;\n",
       "    }\n",
       "</style>\n",
       "<table border=\"1\" class=\"dataframe\">\n",
       "  <thead>\n",
       "    <tr style=\"text-align: right;\">\n",
       "      <th></th>\n",
       "      <th>Token</th>\n",
       "      <th>Count</th>\n",
       "    </tr>\n",
       "  </thead>\n",
       "  <tbody>\n",
       "    <tr>\n",
       "      <th>37046</th>\n",
       "      <td>products</td>\n",
       "      <td>2</td>\n",
       "    </tr>\n",
       "    <tr>\n",
       "      <th>22983</th>\n",
       "      <td>consumers</td>\n",
       "      <td>2</td>\n",
       "    </tr>\n",
       "    <tr>\n",
       "      <th>40009</th>\n",
       "      <td>shelf-stable</td>\n",
       "      <td>2</td>\n",
       "    </tr>\n",
       "    <tr>\n",
       "      <th>37483</th>\n",
       "      <td>quarantines</td>\n",
       "      <td>1</td>\n",
       "    </tr>\n",
       "    <tr>\n",
       "      <th>42512</th>\n",
       "      <td>tested</td>\n",
       "      <td>1</td>\n",
       "    </tr>\n",
       "    <tr>\n",
       "      <th>41441</th>\n",
       "      <td>stockpiling</td>\n",
       "      <td>1</td>\n",
       "    </tr>\n",
       "    <tr>\n",
       "      <th>41261</th>\n",
       "      <td>state</td>\n",
       "      <td>1</td>\n",
       "    </tr>\n",
       "    <tr>\n",
       "      <th>41227</th>\n",
       "      <td>staples</td>\n",
       "      <td>1</td>\n",
       "    </tr>\n",
       "    <tr>\n",
       "      <th>39710</th>\n",
       "      <td>self-imposed</td>\n",
       "      <td>1</td>\n",
       "    </tr>\n",
       "    <tr>\n",
       "      <th>19013</th>\n",
       "      <td>anticipation</td>\n",
       "      <td>1</td>\n",
       "    </tr>\n",
       "    <tr>\n",
       "      <th>19301</th>\n",
       "      <td>artisanal</td>\n",
       "      <td>1</td>\n",
       "    </tr>\n",
       "    <tr>\n",
       "      <th>36855</th>\n",
       "      <td>preserved</td>\n",
       "      <td>1</td>\n",
       "    </tr>\n",
       "    <tr>\n",
       "      <th>32242</th>\n",
       "      <td>long-lived</td>\n",
       "      <td>1</td>\n",
       "    </tr>\n",
       "    <tr>\n",
       "      <th>30492</th>\n",
       "      <td>interest</td>\n",
       "      <td>1</td>\n",
       "    </tr>\n",
       "    <tr>\n",
       "      <th>27543</th>\n",
       "      <td>fresh</td>\n",
       "      <td>1</td>\n",
       "    </tr>\n",
       "    <tr>\n",
       "      <th>27290</th>\n",
       "      <td>foods</td>\n",
       "      <td>1</td>\n",
       "    </tr>\n",
       "    <tr>\n",
       "      <th>24229</th>\n",
       "      <td>demand</td>\n",
       "      <td>1</td>\n",
       "    </tr>\n",
       "    <tr>\n",
       "      <th>43413</th>\n",
       "      <td>turn</td>\n",
       "      <td>1</td>\n",
       "    </tr>\n",
       "  </tbody>\n",
       "</table>\n",
       "</div>"
      ],
      "text/plain": [
       "              Token  Count\n",
       "37046      products      2\n",
       "22983     consumers      2\n",
       "40009  shelf-stable      2\n",
       "37483   quarantines      1\n",
       "42512        tested      1\n",
       "41441   stockpiling      1\n",
       "41261         state      1\n",
       "41227       staples      1\n",
       "39710  self-imposed      1\n",
       "19013  anticipation      1\n",
       "19301     artisanal      1\n",
       "36855     preserved      1\n",
       "32242    long-lived      1\n",
       "30492      interest      1\n",
       "27543         fresh      1\n",
       "27290         foods      1\n",
       "24229        demand      1\n",
       "43413          turn      1"
      ]
     },
     "execution_count": 322,
     "metadata": {},
     "output_type": "execute_result"
    }
   ],
   "source": [
    "tweet_9023 = train.iloc[ind]['OriginalTweet']\n",
    "\n",
    "feature_names = cv.get_feature_names_out()\n",
    "tweet_9023_array = cv.transform([tweet_9023]).toarray()[0]\n",
    "\n",
    "tweet_9023_df = pd.DataFrame({\n",
    "    'Token': feature_names,\n",
    "    'Count': tweet_9023_array\n",
    "})\n",
    "\n",
    "tweet_9023_not_null = tweet_9023_df[tweet_9023_df['Count'] > 0].sort_values(by='Count', ascending=False)\n",
    "\n",
    "tweet_9023_not_null"
   ]
  },
  {
   "cell_type": "markdown",
   "metadata": {},
   "source": [
    "**Ответ:** Наиболее часто встречаемые (2 раза) оказались токены о продуктах, покупателях и сроке хранения. Все остальные токены встречаются по 1 разу. По этим данным почти невозможно ничего сказать, просто перечислили количество вхождений."
   ]
  },
  {
   "cell_type": "markdown",
   "metadata": {},
   "source": [
    "Теперь примените TfidfVectorizer и  определите самый важный/неважный токены. Хорошо ли определились, почему?"
   ]
  },
  {
   "cell_type": "code",
   "execution_count": 323,
   "metadata": {},
   "outputs": [
    {
     "name": "stdout",
     "output_type": "stream",
     "text": [
      "45627\n"
     ]
    }
   ],
   "source": [
    "from sklearn.feature_extraction.text import TfidfVectorizer\n",
    "\n",
    "tfidf_vec = TfidfVectorizer(tokenizer=custom_tokenizer, token_pattern=None).fit(train['OriginalTweet'])\n",
    "print(len(tfidf_vec.vocabulary_))"
   ]
  },
  {
   "cell_type": "code",
   "execution_count": 324,
   "metadata": {},
   "outputs": [
    {
     "data": {
      "text/html": [
       "<div>\n",
       "<style scoped>\n",
       "    .dataframe tbody tr th:only-of-type {\n",
       "        vertical-align: middle;\n",
       "    }\n",
       "\n",
       "    .dataframe tbody tr th {\n",
       "        vertical-align: top;\n",
       "    }\n",
       "\n",
       "    .dataframe thead th {\n",
       "        text-align: right;\n",
       "    }\n",
       "</style>\n",
       "<table border=\"1\" class=\"dataframe\">\n",
       "  <thead>\n",
       "    <tr style=\"text-align: right;\">\n",
       "      <th></th>\n",
       "      <th>Token</th>\n",
       "      <th>TF-IDF</th>\n",
       "    </tr>\n",
       "  </thead>\n",
       "  <tbody>\n",
       "    <tr>\n",
       "      <th>40009</th>\n",
       "      <td>shelf-stable</td>\n",
       "      <td>0.496000</td>\n",
       "    </tr>\n",
       "    <tr>\n",
       "      <th>22983</th>\n",
       "      <td>consumers</td>\n",
       "      <td>0.273649</td>\n",
       "    </tr>\n",
       "    <tr>\n",
       "      <th>39710</th>\n",
       "      <td>self-imposed</td>\n",
       "      <td>0.272043</td>\n",
       "    </tr>\n",
       "    <tr>\n",
       "      <th>32242</th>\n",
       "      <td>long-lived</td>\n",
       "      <td>0.261404</td>\n",
       "    </tr>\n",
       "    <tr>\n",
       "      <th>36855</th>\n",
       "      <td>preserved</td>\n",
       "      <td>0.253855</td>\n",
       "    </tr>\n",
       "    <tr>\n",
       "      <th>37046</th>\n",
       "      <td>products</td>\n",
       "      <td>0.252069</td>\n",
       "    </tr>\n",
       "    <tr>\n",
       "      <th>19301</th>\n",
       "      <td>artisanal</td>\n",
       "      <td>0.248000</td>\n",
       "    </tr>\n",
       "    <tr>\n",
       "      <th>37483</th>\n",
       "      <td>quarantines</td>\n",
       "      <td>0.232577</td>\n",
       "    </tr>\n",
       "    <tr>\n",
       "      <th>19013</th>\n",
       "      <td>anticipation</td>\n",
       "      <td>0.229813</td>\n",
       "    </tr>\n",
       "    <tr>\n",
       "      <th>41227</th>\n",
       "      <td>staples</td>\n",
       "      <td>0.187582</td>\n",
       "    </tr>\n",
       "    <tr>\n",
       "      <th>43413</th>\n",
       "      <td>turn</td>\n",
       "      <td>0.179903</td>\n",
       "    </tr>\n",
       "    <tr>\n",
       "      <th>30492</th>\n",
       "      <td>interest</td>\n",
       "      <td>0.179514</td>\n",
       "    </tr>\n",
       "    <tr>\n",
       "      <th>41441</th>\n",
       "      <td>stockpiling</td>\n",
       "      <td>0.174924</td>\n",
       "    </tr>\n",
       "    <tr>\n",
       "      <th>27290</th>\n",
       "      <td>foods</td>\n",
       "      <td>0.171582</td>\n",
       "    </tr>\n",
       "    <tr>\n",
       "      <th>42512</th>\n",
       "      <td>tested</td>\n",
       "      <td>0.159827</td>\n",
       "    </tr>\n",
       "    <tr>\n",
       "      <th>27543</th>\n",
       "      <td>fresh</td>\n",
       "      <td>0.156575</td>\n",
       "    </tr>\n",
       "    <tr>\n",
       "      <th>41261</th>\n",
       "      <td>state</td>\n",
       "      <td>0.144525</td>\n",
       "    </tr>\n",
       "    <tr>\n",
       "      <th>24229</th>\n",
       "      <td>demand</td>\n",
       "      <td>0.098007</td>\n",
       "    </tr>\n",
       "  </tbody>\n",
       "</table>\n",
       "</div>"
      ],
      "text/plain": [
       "              Token    TF-IDF\n",
       "40009  shelf-stable  0.496000\n",
       "22983     consumers  0.273649\n",
       "39710  self-imposed  0.272043\n",
       "32242    long-lived  0.261404\n",
       "36855     preserved  0.253855\n",
       "37046      products  0.252069\n",
       "19301     artisanal  0.248000\n",
       "37483   quarantines  0.232577\n",
       "19013  anticipation  0.229813\n",
       "41227       staples  0.187582\n",
       "43413          turn  0.179903\n",
       "30492      interest  0.179514\n",
       "41441   stockpiling  0.174924\n",
       "27290         foods  0.171582\n",
       "42512        tested  0.159827\n",
       "27543         fresh  0.156575\n",
       "41261         state  0.144525\n",
       "24229        demand  0.098007"
      ]
     },
     "execution_count": 324,
     "metadata": {},
     "output_type": "execute_result"
    }
   ],
   "source": [
    "tweet_9023_array = tfidf_vec.transform([tweet_9023]).toarray()[0]\n",
    "\n",
    "tweet_9023_df = pd.DataFrame({\n",
    "    'Token': feature_names,\n",
    "    'TF-IDF': tweet_9023_array\n",
    "})\n",
    "\n",
    "tweet_9023_not_null = tweet_9023_df[tweet_9023_df['TF-IDF'] > 0].sort_values(by='TF-IDF', ascending=False)\n",
    "\n",
    "tweet_9023_not_null"
   ]
  },
  {
   "cell_type": "markdown",
   "metadata": {},
   "source": [
    "**Ответ:** Теперь гораздо лучше. Можно определить важность. \n",
    "\n",
    "Наименее важный токен `demand` (требовать), который не несёт в себе смысла для нашей задачи, скорее всего, это слово более нейтральное, можно использовать это слово как в положительном окрасе, так и в отрицательном. А вот самым важным токеном стало слово `shelf-stable` (стабильный срок хранения), который явно положительно окрашен, то есть по нему можно понять, что, скорее всего, твит о чём-то положительном."
   ]
  },
  {
   "cell_type": "markdown",
   "metadata": {},
   "source": [
    "Найдите какой-нибудь положительно окрашенный твитт, где TfidfVectorizer хорошо (полезно для определения окраски) выделяет важный токен, поясните пример.\n",
    "\n",
    "*Подсказка:* явно положительные твитты можно искать при помощи положительных слов (good, great, amazing и т. д.)"
   ]
  },
  {
   "cell_type": "code",
   "execution_count": 325,
   "metadata": {},
   "outputs": [
    {
     "data": {
      "text/html": [
       "<div>\n",
       "<style scoped>\n",
       "    .dataframe tbody tr th:only-of-type {\n",
       "        vertical-align: middle;\n",
       "    }\n",
       "\n",
       "    .dataframe tbody tr th {\n",
       "        vertical-align: top;\n",
       "    }\n",
       "\n",
       "    .dataframe thead th {\n",
       "        text-align: right;\n",
       "    }\n",
       "</style>\n",
       "<table border=\"1\" class=\"dataframe\">\n",
       "  <thead>\n",
       "    <tr style=\"text-align: right;\">\n",
       "      <th></th>\n",
       "      <th>UserName</th>\n",
       "      <th>ScreenName</th>\n",
       "      <th>Location</th>\n",
       "      <th>TweetAt</th>\n",
       "      <th>OriginalTweet</th>\n",
       "      <th>Sentiment</th>\n",
       "    </tr>\n",
       "  </thead>\n",
       "  <tbody>\n",
       "    <tr>\n",
       "      <th>17122</th>\n",
       "      <td>24639</td>\n",
       "      <td>69591</td>\n",
       "      <td>London, England</td>\n",
       "      <td>25-03-2020</td>\n",
       "      <td>Coronavirus Hackney Foodbank  up against it  a...</td>\n",
       "      <td>1</td>\n",
       "    </tr>\n",
       "    <tr>\n",
       "      <th>10851</th>\n",
       "      <td>16963</td>\n",
       "      <td>61915</td>\n",
       "      <td>Battersea, London</td>\n",
       "      <td>21-03-2020</td>\n",
       "      <td>Wow Edging up to  500 on first day of raising ...</td>\n",
       "      <td>1</td>\n",
       "    </tr>\n",
       "    <tr>\n",
       "      <th>25779</th>\n",
       "      <td>35377</td>\n",
       "      <td>80329</td>\n",
       "      <td>Based @1871Chicago</td>\n",
       "      <td>07-04-2020</td>\n",
       "      <td>With people hunkering down it's that more impo...</td>\n",
       "      <td>1</td>\n",
       "    </tr>\n",
       "    <tr>\n",
       "      <th>9066</th>\n",
       "      <td>14803</td>\n",
       "      <td>59755</td>\n",
       "      <td>Denver, CO</td>\n",
       "      <td>20-03-2020</td>\n",
       "      <td>@GovofCO Is this something we can do for our a...</td>\n",
       "      <td>1</td>\n",
       "    </tr>\n",
       "    <tr>\n",
       "      <th>11878</th>\n",
       "      <td>18213</td>\n",
       "      <td>63165</td>\n",
       "      <td>Sydney, New South Wales</td>\n",
       "      <td>21-03-2020</td>\n",
       "      <td>Wow who would've ever thought supermarket shel...</td>\n",
       "      <td>1</td>\n",
       "    </tr>\n",
       "  </tbody>\n",
       "</table>\n",
       "</div>"
      ],
      "text/plain": [
       "       UserName  ScreenName                 Location     TweetAt  \\\n",
       "17122     24639       69591          London, England  25-03-2020   \n",
       "10851     16963       61915        Battersea, London  21-03-2020   \n",
       "25779     35377       80329       Based @1871Chicago  07-04-2020   \n",
       "9066      14803       59755               Denver, CO  20-03-2020   \n",
       "11878     18213       63165  Sydney, New South Wales  21-03-2020   \n",
       "\n",
       "                                           OriginalTweet  Sentiment  \n",
       "17122  Coronavirus Hackney Foodbank  up against it  a...          1  \n",
       "10851  Wow Edging up to  500 on first day of raising ...          1  \n",
       "25779  With people hunkering down it's that more impo...          1  \n",
       "9066   @GovofCO Is this something we can do for our a...          1  \n",
       "11878  Wow who would've ever thought supermarket shel...          1  "
      ]
     },
     "execution_count": 325,
     "metadata": {},
     "output_type": "execute_result"
    }
   ],
   "source": [
    "positive_amazing = train[train['OriginalTweet'].apply(lambda x: 'amazing' in x) & (train['Sentiment'] == 1)]\n",
    "\n",
    "positive_amazing.head(5)"
   ]
  },
  {
   "cell_type": "markdown",
   "metadata": {},
   "source": [
    "Возьмём для анализа твитт $9066$."
   ]
  },
  {
   "cell_type": "code",
   "execution_count": 365,
   "metadata": {},
   "outputs": [
    {
     "data": {
      "text/plain": [
       "'@GovofCO Is this something we can do for our amazing grocery workers here at home? #coronavirus https://t.co/CrXgiASfi5'"
      ]
     },
     "execution_count": 365,
     "metadata": {},
     "output_type": "execute_result"
    }
   ],
   "source": [
    "ind = positive_amazing.index[3]\n",
    "train.loc[ind]['OriginalTweet']"
   ]
  },
  {
   "cell_type": "code",
   "execution_count": 366,
   "metadata": {},
   "outputs": [
    {
     "data": {
      "text/html": [
       "<div>\n",
       "<style scoped>\n",
       "    .dataframe tbody tr th:only-of-type {\n",
       "        vertical-align: middle;\n",
       "    }\n",
       "\n",
       "    .dataframe tbody tr th {\n",
       "        vertical-align: top;\n",
       "    }\n",
       "\n",
       "    .dataframe thead th {\n",
       "        text-align: right;\n",
       "    }\n",
       "</style>\n",
       "<table border=\"1\" class=\"dataframe\">\n",
       "  <thead>\n",
       "    <tr style=\"text-align: right;\">\n",
       "      <th></th>\n",
       "      <th>Token</th>\n",
       "      <th>TF-IDF</th>\n",
       "    </tr>\n",
       "  </thead>\n",
       "  <tbody>\n",
       "    <tr>\n",
       "      <th>13937</th>\n",
       "      <td>@govofco</td>\n",
       "      <td>0.676949</td>\n",
       "    </tr>\n",
       "    <tr>\n",
       "      <th>18766</th>\n",
       "      <td>amazing</td>\n",
       "      <td>0.438000</td>\n",
       "    </tr>\n",
       "    <tr>\n",
       "      <th>40793</th>\n",
       "      <td>something</td>\n",
       "      <td>0.385409</td>\n",
       "    </tr>\n",
       "    <tr>\n",
       "      <th>29344</th>\n",
       "      <td>home</td>\n",
       "      <td>0.270165</td>\n",
       "    </tr>\n",
       "    <tr>\n",
       "      <th>45218</th>\n",
       "      <td>workers</td>\n",
       "      <td>0.264910</td>\n",
       "    </tr>\n",
       "    <tr>\n",
       "      <th>28476</th>\n",
       "      <td>grocery</td>\n",
       "      <td>0.199983</td>\n",
       "    </tr>\n",
       "    <tr>\n",
       "      <th>1839</th>\n",
       "      <td>#coronavirus</td>\n",
       "      <td>0.134895</td>\n",
       "    </tr>\n",
       "  </tbody>\n",
       "</table>\n",
       "</div>"
      ],
      "text/plain": [
       "              Token    TF-IDF\n",
       "13937      @govofco  0.676949\n",
       "18766       amazing  0.438000\n",
       "40793     something  0.385409\n",
       "29344          home  0.270165\n",
       "45218       workers  0.264910\n",
       "28476       grocery  0.199983\n",
       "1839   #coronavirus  0.134895"
      ]
     },
     "execution_count": 366,
     "metadata": {},
     "output_type": "execute_result"
    }
   ],
   "source": [
    "tweet = train.loc[ind]['OriginalTweet']\n",
    "\n",
    "tweet_array = tfidf_vec.transform([tweet]).toarray()[0]\n",
    "\n",
    "tweet_df = pd.DataFrame({\n",
    "    'Token': feature_names,\n",
    "    'TF-IDF': tweet_array\n",
    "})\n",
    "\n",
    "tweet_not_null = tweet_df[tweet_df['TF-IDF'] > 0].sort_values(by='TF-IDF', ascending=False)\n",
    "\n",
    "tweet_not_null"
   ]
  },
  {
   "cell_type": "markdown",
   "metadata": {},
   "source": [
    "**Ответ:** В этом примере TF-IDF выделяет слова `@govofco`, `amazing`. Первое - упоминание аккаунта, а второе - как раз слово \"amazing\", которое вносит большой вклад в положительный окрас твитта."
   ]
  },
  {
   "cell_type": "markdown",
   "metadata": {},
   "source": [
    "## Задание 4 Обучение первых моделей (1 балл)"
   ]
  },
  {
   "cell_type": "markdown",
   "metadata": {},
   "source": [
    "Примените оба векторайзера для получения матриц с признаками текстов.  Выделите целевую переменную."
   ]
  },
  {
   "cell_type": "code",
   "execution_count": 328,
   "metadata": {},
   "outputs": [
    {
     "data": {
      "text/html": [
       "<div>\n",
       "<style scoped>\n",
       "    .dataframe tbody tr th:only-of-type {\n",
       "        vertical-align: middle;\n",
       "    }\n",
       "\n",
       "    .dataframe tbody tr th {\n",
       "        vertical-align: top;\n",
       "    }\n",
       "\n",
       "    .dataframe thead th {\n",
       "        text-align: right;\n",
       "    }\n",
       "</style>\n",
       "<table border=\"1\" class=\"dataframe\">\n",
       "  <thead>\n",
       "    <tr style=\"text-align: right;\">\n",
       "      <th></th>\n",
       "      <th>UserName</th>\n",
       "      <th>ScreenName</th>\n",
       "      <th>Location</th>\n",
       "      <th>TweetAt</th>\n",
       "      <th>OriginalTweet</th>\n",
       "    </tr>\n",
       "  </thead>\n",
       "  <tbody>\n",
       "    <tr>\n",
       "      <th>20012</th>\n",
       "      <td>28197</td>\n",
       "      <td>73149</td>\n",
       "      <td>Unknown</td>\n",
       "      <td>26-03-2020</td>\n",
       "      <td>? New Podcast! \"Businesses Answering the COVID...</td>\n",
       "    </tr>\n",
       "    <tr>\n",
       "      <th>28328</th>\n",
       "      <td>38537</td>\n",
       "      <td>83489</td>\n",
       "      <td>Whangarei, New Zealand</td>\n",
       "      <td>08-04-2020</td>\n",
       "      <td>Covid 19 coronavirus: Hundreds request virus c...</td>\n",
       "    </tr>\n",
       "    <tr>\n",
       "      <th>16192</th>\n",
       "      <td>23512</td>\n",
       "      <td>68464</td>\n",
       "      <td>Unknown</td>\n",
       "      <td>24-03-2020</td>\n",
       "      <td>@Crohnoid @ChachyOwen @IBDPassport @J9JSM @vik...</td>\n",
       "    </tr>\n",
       "    <tr>\n",
       "      <th>31977</th>\n",
       "      <td>43130</td>\n",
       "      <td>88082</td>\n",
       "      <td>Canada ????? Edmonton</td>\n",
       "      <td>12-04-2020</td>\n",
       "      <td>@irSkullBeard @aseip1 Are social determinants ...</td>\n",
       "    </tr>\n",
       "    <tr>\n",
       "      <th>11431</th>\n",
       "      <td>17656</td>\n",
       "      <td>62608</td>\n",
       "      <td>Butte, Montana</td>\n",
       "      <td>21-03-2020</td>\n",
       "      <td>As factories are stilled around the globe beca...</td>\n",
       "    </tr>\n",
       "  </tbody>\n",
       "</table>\n",
       "</div>"
      ],
      "text/plain": [
       "       UserName  ScreenName                Location     TweetAt  \\\n",
       "20012     28197       73149                 Unknown  26-03-2020   \n",
       "28328     38537       83489  Whangarei, New Zealand  08-04-2020   \n",
       "16192     23512       68464                 Unknown  24-03-2020   \n",
       "31977     43130       88082   Canada ????? Edmonton  12-04-2020   \n",
       "11431     17656       62608          Butte, Montana  21-03-2020   \n",
       "\n",
       "                                           OriginalTweet  \n",
       "20012  ? New Podcast! \"Businesses Answering the COVID...  \n",
       "28328  Covid 19 coronavirus: Hundreds request virus c...  \n",
       "16192  @Crohnoid @ChachyOwen @IBDPassport @J9JSM @vik...  \n",
       "31977  @irSkullBeard @aseip1 Are social determinants ...  \n",
       "11431  As factories are stilled around the globe beca...  "
      ]
     },
     "execution_count": 328,
     "metadata": {},
     "output_type": "execute_result"
    }
   ],
   "source": [
    "y_train = train['Sentiment']\n",
    "y_test = test['Sentiment']\n",
    "\n",
    "X_train = train.drop(columns='Sentiment', axis=1)\n",
    "X_test = test.drop(columns='Sentiment', axis=1)\n",
    "\n",
    "X_train.head(5)"
   ]
  },
  {
   "cell_type": "code",
   "execution_count": 329,
   "metadata": {},
   "outputs": [],
   "source": [
    "X_train_texts = train['OriginalTweet']\n",
    "X_test_texts = test['OriginalTweet']\n",
    "\n",
    "cv = CountVectorizer(tokenizer=custom_tokenizer, token_pattern=None)\n",
    "X_train_cv = cv.fit_transform(X_train_texts)\n",
    "X_test_cv = cv.transform(X_test_texts)\n",
    "\n",
    "tv = TfidfVectorizer(tokenizer=custom_tokenizer, token_pattern=None)\n",
    "X_train_tv = tv.fit_transform(X_train_texts)\n",
    "X_test_tv = tv.transform(X_test_texts)"
   ]
  },
  {
   "cell_type": "markdown",
   "metadata": {},
   "source": [
    "Обучите логистическую регрессию на векторах из обоих векторайзеров. Посчитайте долю правильных ответов на обучающих и тестовых данных. Какой векторайзер показал лучший результат? Что можно сказать о моделях?\n",
    "\n",
    "Используйте `sparse` матрицы (после векторизации), не превращайте их в `numpy.ndarray` или `pd.DataFrame` - может не хватить памяти."
   ]
  },
  {
   "cell_type": "code",
   "execution_count": 330,
   "metadata": {},
   "outputs": [
    {
     "name": "stdout",
     "output_type": "stream",
     "text": [
      "CountVectorizer:\n",
      "Accuracy Train: 0.9842\n",
      "Accuracy Test: 0.8714\n",
      "\n",
      "TfidfVectorizer:\n",
      "Accuracy Train: 0.9260\n",
      "Accuracy Test: 0.8520\n"
     ]
    }
   ],
   "source": [
    "from sklearn.linear_model import LogisticRegression\n",
    "from sklearn.metrics import accuracy_score\n",
    "\n",
    "lr_cv = LogisticRegression(max_iter=300)\n",
    "lr_cv.fit(X_train_cv, y_train)\n",
    "\n",
    "lr_tv = LogisticRegression(max_iter=300)\n",
    "lr_tv.fit(X_train_tv, y_train)\n",
    "\n",
    "y_train_pred_cv = lr_cv.predict(X_train_cv)\n",
    "y_test_pred_cv = lr_cv.predict(X_test_cv)\n",
    "print('CountVectorizer:')\n",
    "print(f'Accuracy Train: {accuracy_score(y_train, y_train_pred_cv):.4f}')\n",
    "print(f'Accuracy Test: {accuracy_score(y_test, y_test_pred_cv):.4f}')\n",
    "\n",
    "y_pred_train_tv = lr_tv.predict(X_train_tv)\n",
    "y_pred_test_tv = lr_tv.predict(X_test_tv)\n",
    "print('\\nTfidfVectorizer:')\n",
    "print(f'Accuracy Train: {accuracy_score(y_train, y_pred_train_tv):.4f}')\n",
    "print(f'Accuracy Test: {accuracy_score(y_test, y_pred_test_tv):.4f}')"
   ]
  },
  {
   "cell_type": "markdown",
   "metadata": {},
   "source": [
    "**Ответ:** Оба варианта хорошо сработали - точность превышает 85%. Но CountVectorizer справился немного лучше. При этом модели немного переобучились, особенно CountVectorizer.\n",
    "\n",
    "На данной выборке, возможно, частота слов достаточно информативна, а TF-IDF занижает веса часто встречающихся слов, которые оказываются важны.\n",
    "\n",
    "Поэтому, если важна точность, то лучше использовать CounteVectorizer, а TF-IDF более устойчива к переобучению и интерпретируемости. "
   ]
  },
  {
   "cell_type": "markdown",
   "metadata": {},
   "source": [
    "## Задание 5 Стемминг (0.5 балла)"
   ]
  },
  {
   "cell_type": "markdown",
   "metadata": {},
   "source": [
    "Для уменьшения словаря можно использовать стемминг.\n",
    "\n",
    "Модифицируйте написанный токенайзер, добавив в него стемминг с использованием SnowballStemmer. Обучите Count- и Tfidf- векторайзеры. Как изменился размер словаря?"
   ]
  },
  {
   "cell_type": "code",
   "execution_count": 331,
   "metadata": {},
   "outputs": [],
   "source": [
    "from nltk.stem.snowball import SnowballStemmer\n",
    "\n",
    "def custom_stem_tokenizer(text):\n",
    "  tw = TweetTokenizer()\n",
    "  all_tokens = tw.tokenize(text.lower())\n",
    "\n",
    "  noise = stopwords.words('english') + list(punctuation)\n",
    "  tokens = []\n",
    "  for token in all_tokens:\n",
    "    if token in noise or len(token) == 1 and ord(token) >= 128 or 'https://t.co' in token:\n",
    "      continue\n",
    "    tokens.append(token)\n",
    "  \n",
    "  stemmer = SnowballStemmer('english')\n",
    "  tokens = [stemmer.stem(token) for token in tokens]\n",
    "  return tokens"
   ]
  },
  {
   "cell_type": "code",
   "execution_count": 332,
   "metadata": {},
   "outputs": [
    {
     "data": {
      "text/plain": [
       "['sampl', 'text', '@sample_text', '#sampletext', 'ad', 'word', 'check', 'stem']"
      ]
     },
     "execution_count": 332,
     "metadata": {},
     "output_type": "execute_result"
    }
   ],
   "source": [
    "custom_stem_tokenizer('This is sample text!!!! @Sample_text I, \\x92\\x92 https://t.co/sample  #sampletext adding more words to check stemming')"
   ]
  },
  {
   "cell_type": "code",
   "execution_count": 333,
   "metadata": {},
   "outputs": [
    {
     "name": "stdout",
     "output_type": "stream",
     "text": [
      "Count Vectorizer: 36913\n",
      "TF-IDF Vectorizer: 36913\n"
     ]
    }
   ],
   "source": [
    "cv = CountVectorizer(tokenizer=custom_stem_tokenizer, token_pattern=None)\n",
    "cv.fit(train['OriginalTweet'])\n",
    "\n",
    "tv = TfidfVectorizer(tokenizer=custom_stem_tokenizer, token_pattern=None)\n",
    "tv.fit(train['OriginalTweet'])\n",
    "\n",
    "print(f'Count Vectorizer: {len(cv.vocabulary_)}')\n",
    "print(f'TF-IDF Vectorizer: {len(cv.vocabulary_)}')"
   ]
  },
  {
   "cell_type": "markdown",
   "metadata": {},
   "source": [
    "**Ответ** Размер словаря стал более, чем в 2 раза меньше от изначального, и меньше, чем после обычного токенайзера. Это произошло, потому что стемминг убирает слова с одинаковой основой, оставляя только саму основу."
   ]
  },
  {
   "cell_type": "markdown",
   "metadata": {},
   "source": [
    "Обучите логистическую регрессию с использованием обоих векторайзеров. Изменилось ли качество? Есть ли смысл применять стемминг?"
   ]
  },
  {
   "cell_type": "code",
   "execution_count": 334,
   "metadata": {},
   "outputs": [
    {
     "name": "stdout",
     "output_type": "stream",
     "text": [
      "CountVectorizer:\n",
      "Accuracy Train: 0.9711\n",
      "Accuracy Test: 0.8708\n",
      "\n",
      "TfidfVectorizer:\n",
      "Accuracy Train: 0.9174\n",
      "Accuracy Test: 0.8599\n"
     ]
    }
   ],
   "source": [
    "X_train_cv = cv.fit_transform(X_train_texts)\n",
    "X_test_cv = cv.transform(X_test_texts)\n",
    "\n",
    "X_train_tv = tv.fit_transform(X_train_texts)\n",
    "X_test_tv = tv.transform(X_test_texts)\n",
    "\n",
    "lr_cv = LogisticRegression(max_iter=300)\n",
    "lr_cv.fit(X_train_cv, y_train)\n",
    "\n",
    "lr_tv = LogisticRegression(max_iter=300)\n",
    "lr_tv.fit(X_train_tv, y_train)\n",
    "\n",
    "y_train_pred_cv = lr_cv.predict(X_train_cv)\n",
    "y_test_pred_cv = lr_cv.predict(X_test_cv)\n",
    "print('CountVectorizer:')\n",
    "print(f'Accuracy Train: {accuracy_score(y_train, y_train_pred_cv):.4f}')\n",
    "print(f'Accuracy Test: {accuracy_score(y_test, y_test_pred_cv):.4f}')\n",
    "\n",
    "y_pred_train_tv = lr_tv.predict(X_train_tv)\n",
    "y_pred_test_tv = lr_tv.predict(X_test_tv)\n",
    "print('\\nTfidfVectorizer:')\n",
    "print(f'Accuracy Train: {accuracy_score(y_train, y_pred_train_tv):.4f}')\n",
    "print(f'Accuracy Test: {accuracy_score(y_test, y_pred_test_tv):.4f}')"
   ]
  },
  {
   "cell_type": "markdown",
   "metadata": {},
   "source": [
    "**Ответ:** Результаты также хорошие - более 85%, но на совсем крохотные проценты меньше, чем у модели без стемминга. Переобучение при этом чуть меньше, но и сами результаты меньше. \n",
    "\n",
    "Мне кажется, использовать стемминг бессмысленно, особенно для данной выборки. Возможно, его стоит использовать на более объёмных датасетах или выборках с большим количеством различных слов с одинаковой основой, как например в книгах.\n",
    "\n",
    "Если честно, как будто он работает немного глупо и может терять контекст, обрезая слова. Зато ему требуется меньше памяти."
   ]
  },
  {
   "cell_type": "markdown",
   "metadata": {},
   "source": [
    "## Задание  6 Работа с частотами (1.5 балла)"
   ]
  },
  {
   "cell_type": "markdown",
   "metadata": {},
   "source": [
    "Еще один способ уменьшить количество признаков - это использовать параметры min_df и max_df при построении векторайзера  эти параметры помогают ограничить требуемую частоту встречаемости токена в документах.\n",
    "\n",
    "По умолчанию берутся все токены, которые встретились хотя бы один раз.\n",
    "\n"
   ]
  },
  {
   "cell_type": "markdown",
   "metadata": {},
   "source": [
    "Подберите max_df такой, что размер словаря будет 36631 (на 1 меньше, чем было). Почему параметр получился такой большой/маленький?"
   ]
  },
  {
   "cell_type": "code",
   "execution_count": 335,
   "metadata": {},
   "outputs": [
    {
     "name": "stdout",
     "output_type": "stream",
     "text": [
      "max_df 0.1:\t36901\n",
      "max_df 0.3:\t36912\n",
      "max_df 0.5:\t36913\n",
      "max_df 0.7:\t36913\n"
     ]
    }
   ],
   "source": [
    "for df in [0.1, 0.3, 0.5, 0.7]:\n",
    "    cv_df = CountVectorizer(tokenizer=custom_stem_tokenizer,\n",
    "                            token_pattern=None,\n",
    "                            max_df=df\n",
    "                            ).fit(\n",
    "                                train['OriginalTweet']\n",
    "                                )\n",
    "    print(f'max_df {df}:\\t{len(cv_df.vocabulary_)}')"
   ]
  },
  {
   "cell_type": "code",
   "execution_count": 336,
   "metadata": {},
   "outputs": [
    {
     "name": "stdout",
     "output_type": "stream",
     "text": [
      "36912\n"
     ]
    }
   ],
   "source": [
    "max_df_good = 0.3\n",
    "cv_df = CountVectorizer(tokenizer=custom_stem_tokenizer,\n",
    "                        token_pattern=None,\n",
    "                        max_df=max_df_good\n",
    "                        ).fit(\n",
    "                            train['OriginalTweet']\n",
    "                            )\n",
    "print(len(cv_df.vocabulary_))"
   ]
  },
  {
   "cell_type": "markdown",
   "metadata": {},
   "source": [
    "**Ответ:** Получилось, что `max_df` равен $0.3$. Так как в токенайзере мы удаляли шум, в который входили часто употребляемые слова, то они уже были удалены. После этого остались те, токены, которые несут в себе смысл для определения окрашенности текста.\n",
    "\n",
    "Подобрав параметр, поняли, что слов, которые встречаются более 30%, всего 1 штука. То есть в выборке нет токенов, которые очень часто встречаются в текстах, слова в выборке умеренно встречаются.\n",
    "\n",
    "Скорее всего, удалённый токен связан с коронавирусом, так как это основная тема твиттов."
   ]
  },
  {
   "cell_type": "code",
   "execution_count": 337,
   "metadata": {},
   "outputs": [
    {
     "name": "stdout",
     "output_type": "stream",
     "text": [
      "Удалённые токены: {'#coronavirus'}\n"
     ]
    }
   ],
   "source": [
    "# Без фильтрации\n",
    "cv_full = CountVectorizer(tokenizer=custom_tokenizer, token_pattern=None, max_df=1.0)\n",
    "cv_full.fit(train['OriginalTweet'])\n",
    "full_vocabulary = set(cv_full.get_feature_names_out())\n",
    "\n",
    "# С фильтрацией\n",
    "cv_filtered = CountVectorizer(tokenizer=custom_tokenizer, token_pattern=None, max_df=0.3)\n",
    "cv_filtered.fit(train['OriginalTweet'])\n",
    "filtered_vocabulary = set(cv_filtered.get_feature_names_out())\n",
    "\n",
    "removed_tokens = full_vocabulary - filtered_vocabulary\n",
    "print(f'Удалённые токены: {removed_tokens}')"
   ]
  },
  {
   "cell_type": "markdown",
   "metadata": {},
   "source": [
    "Действительно, был удалён хештег `#coronavirus`."
   ]
  },
  {
   "cell_type": "markdown",
   "metadata": {},
   "source": [
    "Подберите min_df (используйте дефолтное значение max_df) в CountVectorizer таким образом, чтобы размер словаря был 3700 токенов (при использовании токенайзера со стеммингом), а качество осталось таким же, как и было. Что можно сказать о результатах?"
   ]
  },
  {
   "cell_type": "code",
   "execution_count": 338,
   "metadata": {},
   "outputs": [
    {
     "name": "stdout",
     "output_type": "stream",
     "text": [
      "min_df 100:\t765\n",
      "min_df 15:\t3012\n",
      "min_df 12:\t3465\n",
      "min_df 11:\t3674\n",
      "min_df 10:\t3914\n",
      "min_df 5:\t6243\n"
     ]
    }
   ],
   "source": [
    "# for df in [0.000425, 0.00043, 0.00044]:\n",
    "for df in [100, 15, 12, 11, 10, 5]:\n",
    "    cv_df = CountVectorizer(tokenizer=custom_stem_tokenizer,\n",
    "                            token_pattern=None,\n",
    "                            min_df=df\n",
    "                            ).fit(\n",
    "                                train['OriginalTweet']\n",
    "                                )\n",
    "    print(f'min_df {df}:\\t{len(cv_df.vocabulary_)}')"
   ]
  },
  {
   "cell_type": "code",
   "execution_count": 339,
   "metadata": {},
   "outputs": [
    {
     "name": "stdout",
     "output_type": "stream",
     "text": [
      "min_df 0.00043:\t3674\n",
      "Accuracy Test: 0.8663\n"
     ]
    }
   ],
   "source": [
    "min_df_good = 11\n",
    "cv_df = CountVectorizer(tokenizer=custom_stem_tokenizer,\n",
    "                        token_pattern=None,\n",
    "                        min_df=min_df_good\n",
    "                        ).fit(\n",
    "                            train['OriginalTweet']\n",
    "                            )\n",
    "print(f'min_df 0.00043:\\t{len(cv_df.vocabulary_)}')\n",
    "\n",
    "X_train_cv_df = cv_df.transform(X_train_texts)\n",
    "X_test_cv_df = cv_df.transform(X_test_texts)\n",
    "\n",
    "lr_cv_df = LogisticRegression(max_iter=300)\n",
    "lr_cv_df.fit(X_train_cv_df, y_train)\n",
    "\n",
    "y_pred_test_cv_df = lr_cv_df.predict(X_test_cv_df)\n",
    "print(f'Accuracy Test: {accuracy_score(y_test, y_pred_test_cv_df):.4f}')"
   ]
  },
  {
   "cell_type": "markdown",
   "metadata": {},
   "source": [
    "**Ответ:** Подобрали параметр `min_df` равный $11$, такой что количество токенов в словаре был около 3700 и качество осталось прежним.\n",
    "\n",
    "Мы уменьшили размер словаря в 10 раз, а качество осталось таким же, то есть 90% токенов не имеют огромного значения для классификации. Слова хоть и редкие, но они хорошо помогают определить окрас твитта."
   ]
  },
  {
   "cell_type": "markdown",
   "metadata": {},
   "source": [
    "В предыдущих заданиях признаки не скалировались. Отскалируйте данные (при словаре размера 3.7 тысяч, векторизованные CountVectorizer), обучите логистическую регрессию, посмотрите качество и выведите `barplot`, содержащий по 10 токенов, с наибольшим по модулю положительными/отрицательными весами. Что можно сказать об этих токенах?"
   ]
  },
  {
   "cell_type": "code",
   "execution_count": 340,
   "metadata": {},
   "outputs": [],
   "source": [
    "from sklearn.preprocessing import StandardScaler\n",
    "\n",
    "scaler = StandardScaler()\n",
    "scaler.fit(X_train_cv_df.toarray())\n",
    "\n",
    "X_train_cv_df_scaled = scaler.transform(X_train_cv_df.toarray())\n",
    "X_test_cv_df_scaled = scaler.transform(X_test_cv_df.toarray())"
   ]
  },
  {
   "cell_type": "code",
   "execution_count": 341,
   "metadata": {},
   "outputs": [
    {
     "name": "stdout",
     "output_type": "stream",
     "text": [
      "Accuracy Train: 0.9414\n",
      "Accuracy Test: 0.8413\n"
     ]
    }
   ],
   "source": [
    "lr_cv_df = LogisticRegression(max_iter=300)\n",
    "lr_cv_df.fit(X_train_cv_df_scaled, y_train)\n",
    "\n",
    "y_pred_train_cv_df_scaled = lr_cv_df.predict(X_train_cv_df_scaled)\n",
    "y_pred_test_cv_df_scaled = lr_cv_df.predict(X_test_cv_df_scaled)\n",
    "print(f'Accuracy Train: {accuracy_score(y_train, y_pred_train_cv_df_scaled):.4f}')\n",
    "print(f'Accuracy Test: {accuracy_score(y_test, y_pred_test_cv_df_scaled):.4f}')\n"
   ]
  },
  {
   "cell_type": "code",
   "execution_count": 342,
   "metadata": {},
   "outputs": [
    {
     "data": {
      "text/html": [
       "<div>\n",
       "<style scoped>\n",
       "    .dataframe tbody tr th:only-of-type {\n",
       "        vertical-align: middle;\n",
       "    }\n",
       "\n",
       "    .dataframe tbody tr th {\n",
       "        vertical-align: top;\n",
       "    }\n",
       "\n",
       "    .dataframe thead th {\n",
       "        text-align: right;\n",
       "    }\n",
       "</style>\n",
       "<table border=\"1\" class=\"dataframe\">\n",
       "  <thead>\n",
       "    <tr style=\"text-align: right;\">\n",
       "      <th></th>\n",
       "      <th>token</th>\n",
       "      <th>coef</th>\n",
       "    </tr>\n",
       "  </thead>\n",
       "  <tbody>\n",
       "    <tr>\n",
       "      <th>1779</th>\n",
       "      <td>hand</td>\n",
       "      <td>1.205773</td>\n",
       "    </tr>\n",
       "    <tr>\n",
       "      <th>1816</th>\n",
       "      <td>help</td>\n",
       "      <td>1.045134</td>\n",
       "    </tr>\n",
       "    <tr>\n",
       "      <th>3303</th>\n",
       "      <td>thank</td>\n",
       "      <td>0.960704</td>\n",
       "    </tr>\n",
       "    <tr>\n",
       "      <th>1644</th>\n",
       "      <td>free</td>\n",
       "      <td>0.951836</td>\n",
       "    </tr>\n",
       "    <tr>\n",
       "      <th>2119</th>\n",
       "      <td>like</td>\n",
       "      <td>0.902112</td>\n",
       "    </tr>\n",
       "    <tr>\n",
       "      <th>771</th>\n",
       "      <td>best</td>\n",
       "      <td>0.872576</td>\n",
       "    </tr>\n",
       "    <tr>\n",
       "      <th>3232</th>\n",
       "      <td>support</td>\n",
       "      <td>0.854006</td>\n",
       "    </tr>\n",
       "    <tr>\n",
       "      <th>2894</th>\n",
       "      <td>safe</td>\n",
       "      <td>0.838790</td>\n",
       "    </tr>\n",
       "    <tr>\n",
       "      <th>2564</th>\n",
       "      <td>pleas</td>\n",
       "      <td>0.784962</td>\n",
       "    </tr>\n",
       "    <tr>\n",
       "      <th>1744</th>\n",
       "      <td>great</td>\n",
       "      <td>0.700715</td>\n",
       "    </tr>\n",
       "  </tbody>\n",
       "</table>\n",
       "</div>"
      ],
      "text/plain": [
       "        token      coef\n",
       "1779     hand  1.205773\n",
       "1816     help  1.045134\n",
       "3303    thank  0.960704\n",
       "1644     free  0.951836\n",
       "2119     like  0.902112\n",
       "771      best  0.872576\n",
       "3232  support  0.854006\n",
       "2894     safe  0.838790\n",
       "2564    pleas  0.784962\n",
       "1744    great  0.700715"
      ]
     },
     "execution_count": 342,
     "metadata": {},
     "output_type": "execute_result"
    }
   ],
   "source": [
    "coef = lr_cv_df.coef_[0]\n",
    "tokens = np.array(cv_df.get_feature_names_out())\n",
    "\n",
    "df = pd.DataFrame(\n",
    "    {\n",
    "        'token': tokens, \n",
    "        'coef': coef,\n",
    "        }\n",
    "    )\n",
    "\n",
    "df.nlargest(10, 'coef')"
   ]
  },
  {
   "cell_type": "code",
   "execution_count": 343,
   "metadata": {},
   "outputs": [
    {
     "data": {
      "text/html": [
       "<div>\n",
       "<style scoped>\n",
       "    .dataframe tbody tr th:only-of-type {\n",
       "        vertical-align: middle;\n",
       "    }\n",
       "\n",
       "    .dataframe tbody tr th {\n",
       "        vertical-align: top;\n",
       "    }\n",
       "\n",
       "    .dataframe thead th {\n",
       "        text-align: right;\n",
       "    }\n",
       "</style>\n",
       "<table border=\"1\" class=\"dataframe\">\n",
       "  <thead>\n",
       "    <tr style=\"text-align: right;\">\n",
       "      <th></th>\n",
       "      <th>token</th>\n",
       "      <th>coef</th>\n",
       "    </tr>\n",
       "  </thead>\n",
       "  <tbody>\n",
       "    <tr>\n",
       "      <th>1152</th>\n",
       "      <td>crisi</td>\n",
       "      <td>-1.718807</td>\n",
       "    </tr>\n",
       "    <tr>\n",
       "      <th>2472</th>\n",
       "      <td>panic</td>\n",
       "      <td>-1.221060</td>\n",
       "    </tr>\n",
       "    <tr>\n",
       "      <th>2921</th>\n",
       "      <td>scam</td>\n",
       "      <td>-1.127110</td>\n",
       "    </tr>\n",
       "    <tr>\n",
       "      <th>2038</th>\n",
       "      <td>kill</td>\n",
       "      <td>-0.718106</td>\n",
       "    </tr>\n",
       "    <tr>\n",
       "      <th>1159</th>\n",
       "      <td>crude</td>\n",
       "      <td>-0.674840</td>\n",
       "    </tr>\n",
       "    <tr>\n",
       "      <th>3201</th>\n",
       "      <td>struggl</td>\n",
       "      <td>-0.589588</td>\n",
       "    </tr>\n",
       "    <tr>\n",
       "      <th>1553</th>\n",
       "      <td>fear</td>\n",
       "      <td>-0.578180</td>\n",
       "    </tr>\n",
       "    <tr>\n",
       "      <th>1814</th>\n",
       "      <td>hell</td>\n",
       "      <td>-0.570389</td>\n",
       "    </tr>\n",
       "    <tr>\n",
       "      <th>3176</th>\n",
       "      <td>stop</td>\n",
       "      <td>-0.539601</td>\n",
       "    </tr>\n",
       "    <tr>\n",
       "      <th>1400</th>\n",
       "      <td>emerg</td>\n",
       "      <td>-0.509375</td>\n",
       "    </tr>\n",
       "  </tbody>\n",
       "</table>\n",
       "</div>"
      ],
      "text/plain": [
       "        token      coef\n",
       "1152    crisi -1.718807\n",
       "2472    panic -1.221060\n",
       "2921     scam -1.127110\n",
       "2038     kill -0.718106\n",
       "1159    crude -0.674840\n",
       "3201  struggl -0.589588\n",
       "1553     fear -0.578180\n",
       "1814     hell -0.570389\n",
       "3176     stop -0.539601\n",
       "1400    emerg -0.509375"
      ]
     },
     "execution_count": 343,
     "metadata": {},
     "output_type": "execute_result"
    }
   ],
   "source": [
    "df.nsmallest(10, 'coef')"
   ]
  },
  {
   "cell_type": "code",
   "execution_count": 344,
   "metadata": {},
   "outputs": [
    {
     "data": {
      "image/png": "[encoded data removed]",
      "text/plain": [
       "<Figure size 1000x500 with 1 Axes>"
      ]
     },
     "metadata": {},
     "output_type": "display_data"
    }
   ],
   "source": [
    "plt.figure(figsize=(10, 5))\n",
    "plt.bar(df.nlargest(10, 'coef')['token'], df.nlargest(10, 'coef')['coef'], color='green')\n",
    "plt.title('Top 10 positive tokens')\n",
    "plt.xlabel('Token')\n",
    "plt.ylabel('Coef')\n",
    "plt.grid(axis='y', linestyle='--', alpha=0.6)\n",
    "plt.show()"
   ]
  },
  {
   "cell_type": "code",
   "execution_count": 345,
   "metadata": {},
   "outputs": [
    {
     "data": {
      "image/png": "[encoded data removed]",
      "text/plain": [
       "<Figure size 1000x500 with 1 Axes>"
      ]
     },
     "metadata": {},
     "output_type": "display_data"
    }
   ],
   "source": [
    "plt.figure(figsize=(10, 5))\n",
    "plt.bar(df.nsmallest(10, 'coef')['token'], df.nsmallest(10, 'coef')['coef'], color='red')\n",
    "plt.title('Top 10 negative tokens')\n",
    "plt.xlabel('Token')\n",
    "plt.ylabel('Coef')\n",
    "plt.grid(axis='y', linestyle='--', alpha=0.6)\n",
    "plt.show()"
   ]
  },
  {
   "cell_type": "markdown",
   "metadata": {},
   "source": [
    "**Ответ:** Позитивные токены - это благодарности, слова связанные с поддержкой, помощью. То есть твитты, где люди благодарят кого-то будут положительно окрашены. Наиболее большой вес имеет токен, связанный с `hand` (скорее всего, твитты, где люди рекомендуют мыть руки, имеют положительный окрас), `free` - люди любят всё бесплатное, `help` - твитты с сообщением о помощи. И все эти токены имеют вес 0.8, что говорит о довольне хорошем вкладе в классификацию.\n",
    "\n",
    "Негативные токены - это кризис, паника, страх, убиства, больной, то есть как раз-таки все слова с негативной окраской. Главные из них - `crisi`, `panic`, `scam` имеют наибольший коэффициент, больше $1$ по модулю. Остальные из топа имеют вес около $-0.5$.\n",
    "\n",
    "При этом у негавтивных токенов есть три слова, которые явно выделяются, тогда как у положительных все имеют более плавную разницу коэффициентов."
   ]
  },
  {
   "cell_type": "markdown",
   "metadata": {},
   "source": [
    "## Задание 7 Другие признаки (1.5 балла)"
   ]
  },
  {
   "cell_type": "markdown",
   "metadata": {},
   "source": [
    "Мы были сконцентрированы на работе с текстами твиттов и не использовали другие признаки - имена пользователя, дату и местоположение"
   ]
  },
  {
   "cell_type": "markdown",
   "metadata": {},
   "source": [
    "Изучите признаки UserName и ScreenName. полезны ли они? Если полезны, то закодируйте их, добавьте к матрице с отскалированными признаками, обучите логистическую регрессию, замерьте качество."
   ]
  },
  {
   "cell_type": "code",
   "execution_count": 346,
   "metadata": {},
   "outputs": [
    {
     "data": {
      "text/plain": [
       "array([28197, 38537, 23512, ..., 23451, 30284, 24178], shape=(23410,))"
      ]
     },
     "execution_count": 346,
     "metadata": {},
     "output_type": "execute_result"
    }
   ],
   "source": [
    "train['UserName'].values"
   ]
  },
  {
   "cell_type": "code",
   "execution_count": 347,
   "metadata": {},
   "outputs": [
    {
     "data": {
      "text/plain": [
       "array([73149, 83489, 68464, ..., 68403, 75236, 69130], shape=(23410,))"
      ]
     },
     "execution_count": 347,
     "metadata": {},
     "output_type": "execute_result"
    }
   ],
   "source": [
    "train['ScreenName'].values"
   ]
  },
  {
   "cell_type": "markdown",
   "metadata": {},
   "source": [
    "**Ответ:** Признаки `UserName` и `ScreenName` просто набор чисел, которые не несут никакой информации, кроме номера пользователя. Они практически не будут влиять на окрас твитта в данной задаче, поэтому они бессмысленны, их можно отбросить."
   ]
  },
  {
   "cell_type": "markdown",
   "metadata": {},
   "source": [
    "Изучите признак TweetAt в обучающей выборке: преобразуйте его к типу datetime и нарисуйте его гистограмму с разделением по цвету на основе целевой переменной. Полезен ли он? Если полезен, то закодируйте его, добавьте к матрице с отскалированными признаками, обучите логистическую регрессию, замерьте качество."
   ]
  },
  {
   "cell_type": "code",
   "execution_count": 348,
   "metadata": {},
   "outputs": [
    {
     "data": {
      "text/plain": [
       "array(['26-03-2020', '08-04-2020', '24-03-2020', ..., '24-03-2020',\n",
       "       '02-04-2020', '25-03-2020'], shape=(23410,), dtype=object)"
      ]
     },
     "execution_count": 348,
     "metadata": {},
     "output_type": "execute_result"
    }
   ],
   "source": [
    "train['TweetAt'].values"
   ]
  },
  {
   "cell_type": "code",
   "execution_count": 349,
   "metadata": {},
   "outputs": [
    {
     "data": {
      "text/plain": [
       "20012   2020-03-26\n",
       "28328   2020-04-08\n",
       "16192   2020-03-24\n",
       "31977   2020-04-12\n",
       "11431   2020-03-21\n",
       "Name: TweetAt, dtype: datetime64[ns]"
      ]
     },
     "execution_count": 349,
     "metadata": {},
     "output_type": "execute_result"
    }
   ],
   "source": [
    "train['TweetAt'] = pd.to_datetime(train['TweetAt'], format='%d-%m-%Y')\n",
    "test['TweetAt'] = pd.to_datetime(test['TweetAt'], format='%d-%m-%Y')\n",
    "train['TweetAt'].head(5)"
   ]
  },
  {
   "cell_type": "code",
   "execution_count": 350,
   "metadata": {},
   "outputs": [
    {
     "data": {
      "image/png": "[encoded data removed]",
      "text/plain": [
       "<Figure size 1500x500 with 1 Axes>"
      ]
     },
     "metadata": {},
     "output_type": "display_data"
    }
   ],
   "source": [
    "plt.figure(figsize=(15, 5))\n",
    "sns.histplot(\n",
    "    data=train, \n",
    "    x='TweetAt', \n",
    "    hue='Sentiment',\n",
    "    palette=['red', 'green'],\n",
    "    bins=20\n",
    ")\n",
    "plt.title('Sentiment distribution by date')\n",
    "plt.xlabel('Date')\n",
    "plt.ylabel('Count')\n",
    "plt.grid(axis='y', linestyle='--', alpha=0.6)\n",
    "plt.show()"
   ]
  },
  {
   "cell_type": "markdown",
   "metadata": {},
   "source": [
    "**Ответ:** В каждую дату количество положительных и негативных примерно одинаково, поэтому огромного смысла учитывать этот признак нет."
   ]
  },
  {
   "cell_type": "markdown",
   "metadata": {},
   "source": [
    "Поработайте с признаком Location в обучающей выборке. Сколько уникальных значений?"
   ]
  },
  {
   "cell_type": "code",
   "execution_count": 351,
   "metadata": {},
   "outputs": [
    {
     "data": {
      "text/plain": [
       "7887"
      ]
     },
     "execution_count": 351,
     "metadata": {},
     "output_type": "execute_result"
    }
   ],
   "source": [
    "len(train['Location'].unique())"
   ]
  },
  {
   "cell_type": "markdown",
   "metadata": {},
   "source": [
    "Постройте гистограмму топ-10 по популярности местоположений (исключая Unknown)"
   ]
  },
  {
   "cell_type": "code",
   "execution_count": 352,
   "metadata": {},
   "outputs": [
    {
     "data": {
      "image/png": "[encoded data removed]",
      "text/plain": [
       "<Figure size 1200x500 with 1 Axes>"
      ]
     },
     "metadata": {},
     "output_type": "display_data"
    }
   ],
   "source": [
    "plt.figure(figsize=(12, 5))\n",
    "\n",
    "location_counts = train['Location'].value_counts()\n",
    "location_counts = location_counts.drop('Unknown')\n",
    "top_locations = location_counts.head(10)\n",
    "sns.barplot(\n",
    "    hue=top_locations.index, \n",
    "    x=top_locations.index,\n",
    "    y=top_locations.values, \n",
    "    palette='viridis',\n",
    "    legend=False,\n",
    ")\n",
    "\n",
    "plt.title('Top 10 locations')\n",
    "plt.xlabel('Location')\n",
    "plt.ylabel('Count')\n",
    "plt.xticks(rotation=45)\n",
    "plt.grid(axis='y', linestyle='--', alpha=0.6)\n",
    "plt.show()"
   ]
  },
  {
   "cell_type": "markdown",
   "metadata": {},
   "source": [
    "Видно, что многие местоположения включают в себя более точное название места, чем другие (Например, у некоторых стоит London, UK; а у некоторых просто UK или United Kingdom).\n",
    "\n",
    "Создайте новый признак WiderLocation, который содержит самое широкое местоположение (например, из London, UK должно получиться UK). Сколько уникальных категорий теперь? Постройте аналогичную гистограмму."
   ]
  },
  {
   "cell_type": "code",
   "execution_count": 353,
   "metadata": {},
   "outputs": [
    {
     "data": {
      "text/plain": [
       "5137"
      ]
     },
     "execution_count": 353,
     "metadata": {},
     "output_type": "execute_result"
    }
   ],
   "source": [
    "train['WiderLocation'] = train['Location'].apply(lambda x: x.split(',')[-1])\n",
    "test['WiderLocation'] = test['Location'].apply(lambda x: x.split(',')[-1])\n",
    "len(train['WiderLocation'].unique())"
   ]
  },
  {
   "cell_type": "code",
   "execution_count": 354,
   "metadata": {},
   "outputs": [
    {
     "data": {
      "image/png": "[encoded data removed]",
      "text/plain": [
       "<Figure size 1200x500 with 1 Axes>"
      ]
     },
     "metadata": {},
     "output_type": "display_data"
    }
   ],
   "source": [
    "plt.figure(figsize=(12, 5))\n",
    "\n",
    "wider_location_counts = train['WiderLocation'].value_counts()\n",
    "wider_location_counts = wider_location_counts.drop('Unknown')\n",
    "top_wider_locations = wider_location_counts.head(10)\n",
    "sns.barplot(\n",
    "    hue=top_wider_locations.index, \n",
    "    x=top_wider_locations.index,\n",
    "    y=top_wider_locations.values, \n",
    "    palette='viridis',\n",
    "    legend=False,\n",
    ")\n",
    "\n",
    "plt.title('Top 10 wider locations')\n",
    "plt.xlabel('Location')\n",
    "plt.ylabel('Count')\n",
    "plt.xticks(rotation=45)\n",
    "plt.grid(axis='y', linestyle='--', alpha=0.6)\n",
    "plt.show()"
   ]
  },
  {
   "cell_type": "markdown",
   "metadata": {},
   "source": [
    "Закодируйте признак WiderLocation с помощью OHE таким образом, чтобы создались только столбцы для местоположений, которые встречаются более одного раза. Сколько таких значений?\n"
   ]
  },
  {
   "cell_type": "code",
   "execution_count": 355,
   "metadata": {},
   "outputs": [
    {
     "data": {
      "text/plain": [
       "1151"
      ]
     },
     "execution_count": 355,
     "metadata": {},
     "output_type": "execute_result"
    }
   ],
   "source": [
    "valid_wider_lovations = wider_location_counts[wider_location_counts > 1].index.tolist()\n",
    "len(valid_wider_lovations)"
   ]
  },
  {
   "cell_type": "code",
   "execution_count": 356,
   "metadata": {},
   "outputs": [
    {
     "data": {
      "text/plain": [
       "1151"
      ]
     },
     "execution_count": 356,
     "metadata": {},
     "output_type": "execute_result"
    }
   ],
   "source": [
    "from sklearn.preprocessing import OneHotEncoder\n",
    "\n",
    "train_filtered = train[train['WiderLocation'].isin(valid_wider_lovations)].copy()\n",
    "\n",
    "ohe = OneHotEncoder(handle_unknown='ignore', categories='auto')\n",
    "ohe.fit(train_filtered[['WiderLocation']])\n",
    "\n",
    "ohe_feature_names = ohe.get_feature_names_out(['WiderLocation'])\n",
    "\n",
    "X_train_ohe = pd.DataFrame(\n",
    "    ohe.transform(train_filtered[['WiderLocation']]).toarray(),\n",
    "    columns=ohe_feature_names,\n",
    "    index=train_filtered.index\n",
    ")\n",
    "X_test_ohe = pd.DataFrame(\n",
    "    ohe.transform(test[['WiderLocation']]).toarray(),\n",
    "    columns=ohe_feature_names,\n",
    "    index=X_test.index\n",
    ")\n",
    "\n",
    "len(ohe.categories_[0])"
   ]
  },
  {
   "cell_type": "code",
   "execution_count": 357,
   "metadata": {},
   "outputs": [
    {
     "data": {
      "text/html": [
       "<div>\n",
       "<style scoped>\n",
       "    .dataframe tbody tr th:only-of-type {\n",
       "        vertical-align: middle;\n",
       "    }\n",
       "\n",
       "    .dataframe tbody tr th {\n",
       "        vertical-align: top;\n",
       "    }\n",
       "\n",
       "    .dataframe thead th {\n",
       "        text-align: right;\n",
       "    }\n",
       "</style>\n",
       "<table border=\"1\" class=\"dataframe\">\n",
       "  <thead>\n",
       "    <tr style=\"text-align: right;\">\n",
       "      <th></th>\n",
       "      <th>WiderLocation_</th>\n",
       "      <th>WiderLocation_</th>\n",
       "      <th>WiderLocation_  MN</th>\n",
       "      <th>WiderLocation_ 15401</th>\n",
       "      <th>WiderLocation_ 53719</th>\n",
       "      <th>WiderLocation_ ?</th>\n",
       "      <th>WiderLocation_ ??</th>\n",
       "      <th>WiderLocation_ ????</th>\n",
       "      <th>WiderLocation_ ????? ????</th>\n",
       "      <th>WiderLocation_ ??????</th>\n",
       "      <th>...</th>\n",
       "      <th>WiderLocation_she/her</th>\n",
       "      <th>WiderLocation_space</th>\n",
       "      <th>WiderLocation_texas</th>\n",
       "      <th>WiderLocation_toronto</th>\n",
       "      <th>WiderLocation_uk</th>\n",
       "      <th>WiderLocation_united states</th>\n",
       "      <th>WiderLocation_usa</th>\n",
       "      <th>WiderLocation_wales</th>\n",
       "      <th>WiderLocation_worldwide</th>\n",
       "      <th>WiderLocation_yo mama</th>\n",
       "    </tr>\n",
       "  </thead>\n",
       "  <tbody>\n",
       "    <tr>\n",
       "      <th>28328</th>\n",
       "      <td>0.0</td>\n",
       "      <td>0.0</td>\n",
       "      <td>0.0</td>\n",
       "      <td>0.0</td>\n",
       "      <td>0.0</td>\n",
       "      <td>0.0</td>\n",
       "      <td>0.0</td>\n",
       "      <td>0.0</td>\n",
       "      <td>0.0</td>\n",
       "      <td>0.0</td>\n",
       "      <td>...</td>\n",
       "      <td>0.0</td>\n",
       "      <td>0.0</td>\n",
       "      <td>0.0</td>\n",
       "      <td>0.0</td>\n",
       "      <td>0.0</td>\n",
       "      <td>0.0</td>\n",
       "      <td>0.0</td>\n",
       "      <td>0.0</td>\n",
       "      <td>0.0</td>\n",
       "      <td>0.0</td>\n",
       "    </tr>\n",
       "    <tr>\n",
       "      <th>11431</th>\n",
       "      <td>0.0</td>\n",
       "      <td>0.0</td>\n",
       "      <td>0.0</td>\n",
       "      <td>0.0</td>\n",
       "      <td>0.0</td>\n",
       "      <td>0.0</td>\n",
       "      <td>0.0</td>\n",
       "      <td>0.0</td>\n",
       "      <td>0.0</td>\n",
       "      <td>0.0</td>\n",
       "      <td>...</td>\n",
       "      <td>0.0</td>\n",
       "      <td>0.0</td>\n",
       "      <td>0.0</td>\n",
       "      <td>0.0</td>\n",
       "      <td>0.0</td>\n",
       "      <td>0.0</td>\n",
       "      <td>0.0</td>\n",
       "      <td>0.0</td>\n",
       "      <td>0.0</td>\n",
       "      <td>0.0</td>\n",
       "    </tr>\n",
       "    <tr>\n",
       "      <th>11975</th>\n",
       "      <td>0.0</td>\n",
       "      <td>0.0</td>\n",
       "      <td>0.0</td>\n",
       "      <td>0.0</td>\n",
       "      <td>0.0</td>\n",
       "      <td>0.0</td>\n",
       "      <td>0.0</td>\n",
       "      <td>0.0</td>\n",
       "      <td>0.0</td>\n",
       "      <td>0.0</td>\n",
       "      <td>...</td>\n",
       "      <td>0.0</td>\n",
       "      <td>0.0</td>\n",
       "      <td>0.0</td>\n",
       "      <td>0.0</td>\n",
       "      <td>0.0</td>\n",
       "      <td>0.0</td>\n",
       "      <td>0.0</td>\n",
       "      <td>0.0</td>\n",
       "      <td>0.0</td>\n",
       "      <td>0.0</td>\n",
       "    </tr>\n",
       "    <tr>\n",
       "      <th>4589</th>\n",
       "      <td>0.0</td>\n",
       "      <td>0.0</td>\n",
       "      <td>0.0</td>\n",
       "      <td>0.0</td>\n",
       "      <td>0.0</td>\n",
       "      <td>0.0</td>\n",
       "      <td>0.0</td>\n",
       "      <td>0.0</td>\n",
       "      <td>0.0</td>\n",
       "      <td>0.0</td>\n",
       "      <td>...</td>\n",
       "      <td>0.0</td>\n",
       "      <td>0.0</td>\n",
       "      <td>0.0</td>\n",
       "      <td>0.0</td>\n",
       "      <td>0.0</td>\n",
       "      <td>0.0</td>\n",
       "      <td>0.0</td>\n",
       "      <td>0.0</td>\n",
       "      <td>0.0</td>\n",
       "      <td>0.0</td>\n",
       "    </tr>\n",
       "    <tr>\n",
       "      <th>5740</th>\n",
       "      <td>0.0</td>\n",
       "      <td>0.0</td>\n",
       "      <td>0.0</td>\n",
       "      <td>0.0</td>\n",
       "      <td>0.0</td>\n",
       "      <td>0.0</td>\n",
       "      <td>0.0</td>\n",
       "      <td>0.0</td>\n",
       "      <td>0.0</td>\n",
       "      <td>0.0</td>\n",
       "      <td>...</td>\n",
       "      <td>0.0</td>\n",
       "      <td>0.0</td>\n",
       "      <td>0.0</td>\n",
       "      <td>0.0</td>\n",
       "      <td>0.0</td>\n",
       "      <td>0.0</td>\n",
       "      <td>0.0</td>\n",
       "      <td>0.0</td>\n",
       "      <td>0.0</td>\n",
       "      <td>0.0</td>\n",
       "    </tr>\n",
       "  </tbody>\n",
       "</table>\n",
       "<p>5 rows × 1151 columns</p>\n",
       "</div>"
      ],
      "text/plain": [
       "       WiderLocation_  WiderLocation_   WiderLocation_  MN  \\\n",
       "28328             0.0              0.0                 0.0   \n",
       "11431             0.0              0.0                 0.0   \n",
       "11975             0.0              0.0                 0.0   \n",
       "4589              0.0              0.0                 0.0   \n",
       "5740              0.0              0.0                 0.0   \n",
       "\n",
       "       WiderLocation_ 15401  WiderLocation_ 53719  WiderLocation_ ?  \\\n",
       "28328                   0.0                   0.0               0.0   \n",
       "11431                   0.0                   0.0               0.0   \n",
       "11975                   0.0                   0.0               0.0   \n",
       "4589                    0.0                   0.0               0.0   \n",
       "5740                    0.0                   0.0               0.0   \n",
       "\n",
       "       WiderLocation_ ??  WiderLocation_ ????  WiderLocation_ ????? ????  \\\n",
       "28328                0.0                  0.0                        0.0   \n",
       "11431                0.0                  0.0                        0.0   \n",
       "11975                0.0                  0.0                        0.0   \n",
       "4589                 0.0                  0.0                        0.0   \n",
       "5740                 0.0                  0.0                        0.0   \n",
       "\n",
       "       WiderLocation_ ??????  ...  WiderLocation_she/her  WiderLocation_space  \\\n",
       "28328                    0.0  ...                    0.0                  0.0   \n",
       "11431                    0.0  ...                    0.0                  0.0   \n",
       "11975                    0.0  ...                    0.0                  0.0   \n",
       "4589                     0.0  ...                    0.0                  0.0   \n",
       "5740                     0.0  ...                    0.0                  0.0   \n",
       "\n",
       "       WiderLocation_texas  WiderLocation_toronto  WiderLocation_uk  \\\n",
       "28328                  0.0                    0.0               0.0   \n",
       "11431                  0.0                    0.0               0.0   \n",
       "11975                  0.0                    0.0               0.0   \n",
       "4589                   0.0                    0.0               0.0   \n",
       "5740                   0.0                    0.0               0.0   \n",
       "\n",
       "       WiderLocation_united states  WiderLocation_usa  WiderLocation_wales  \\\n",
       "28328                          0.0                0.0                  0.0   \n",
       "11431                          0.0                0.0                  0.0   \n",
       "11975                          0.0                0.0                  0.0   \n",
       "4589                           0.0                0.0                  0.0   \n",
       "5740                           0.0                0.0                  0.0   \n",
       "\n",
       "       WiderLocation_worldwide  WiderLocation_yo mama  \n",
       "28328                      0.0                    0.0  \n",
       "11431                      0.0                    0.0  \n",
       "11975                      0.0                    0.0  \n",
       "4589                       0.0                    0.0  \n",
       "5740                       0.0                    0.0  \n",
       "\n",
       "[5 rows x 1151 columns]"
      ]
     },
     "execution_count": 357,
     "metadata": {},
     "output_type": "execute_result"
    }
   ],
   "source": [
    "X_train_ohe.head(5)"
   ]
  },
  {
   "cell_type": "markdown",
   "metadata": {},
   "source": [
    "Добавьте этот признак к матрице отскалированных текстовых признаков, обучите логистическую регрессию, замерьте качество. Как оно изменилось? Оказался ли признак полезным?\n",
    "\n",
    "*Подсказка:* используйте параметр `categories` в энкодере."
   ]
  },
  {
   "cell_type": "code",
   "execution_count": 358,
   "metadata": {},
   "outputs": [],
   "source": [
    "X_train_cv_df_scaled = pd.DataFrame(X_train_cv_df_scaled, index=X_train.index)\n",
    "selected_train_rows = X_train_cv_df_scaled.loc[X_train_ohe.index]\n",
    "X_train_combined = pd.concat([selected_train_rows, X_train_ohe], axis=1)\n",
    "y_train_filtered = y_train.loc[X_train_combined.index]\n",
    "\n",
    "X_train_combined.columns = X_train_combined.columns.map(str)\n",
    "\n",
    "X_test_cv_df_scaled = pd.DataFrame(X_test_cv_df_scaled, index=X_test.index)\n",
    "selected_test_rows = X_test_cv_df_scaled.loc[X_test_ohe.index]\n",
    "X_test_combined = pd.concat([selected_test_rows, X_test_ohe], axis=1)\n",
    "y_test_filtered = y_test.loc[X_test_combined.index]\n",
    "\n",
    "X_test_combined.columns = X_test_combined.columns.map(str)"
   ]
  },
  {
   "cell_type": "code",
   "execution_count": 359,
   "metadata": {},
   "outputs": [],
   "source": [
    "assert list(X_train_combined.columns) == list(X_test_combined.columns)"
   ]
  },
  {
   "cell_type": "code",
   "execution_count": 360,
   "metadata": {},
   "outputs": [
    {
     "name": "stdout",
     "output_type": "stream",
     "text": [
      "Accuracy Train: 0.9930\n",
      "Accuracy Test: 0.7914\n"
     ]
    }
   ],
   "source": [
    "log_reg = LogisticRegression(max_iter=300)\n",
    "log_reg.fit(X_train_combined, y_train_filtered)\n",
    "\n",
    "y_train_pred = log_reg.predict(X_train_combined)\n",
    "y_test_pred = log_reg.predict(X_test_combined)\n",
    "print(f'Accuracy Train: {accuracy_score(y_train_filtered, y_train_pred):.4f}')\n",
    "print(f'Accuracy Test: {accuracy_score(y_test_filtered, y_test_pred):.4f}')"
   ]
  },
  {
   "cell_type": "markdown",
   "metadata": {},
   "source": [
    "**Ответ:** Добавление признака местоположения не привело к улучшению точности модели по сравнению с теми, где использовали только текстовые признаки. Хоть на тренировочной выборке данные и улучшились почти до 100%, но на тестовой значения оказались на 5% меньше.\n",
    "\n",
    "Это можно объяснить несколькими причинами:\n",
    "1. Эмоциональная окраска твитта в основном определяется его текстовым содержанием, а не местоположением.\n",
    "2. Из-за фильтрации по местоположениям, которые встречаются более 1 раза, были отсеяны твитты, которые помогали определять важные токены, то есть здесь мы не учитывали те твитты, у которых не определена страна.\n",
    "3. Разные страны хоть и по-разному относились к пандемии, но этот факт не сильно влияет на модель. Возможно, было бы лучше работать с местополжением, потому что многие люди с одной страны по-разному относились к коронавирусу.\n",
    "4. Пропуски в данных о местоположении (\"Unknown\") также снижают полезность признака местоположения.\n",
    "\n",
    "В целом, для данной задачи классификации эмоциональной окраски твиттов признак местоположения оказался бесполезным, и достаточно использовать только текстовые признаки для достижения хорошей точности."
   ]
  },
  {
   "cell_type": "markdown",
   "metadata": {},
   "source": [
    "В этот раз без мема, но с фото Парижа! 🇫🇷🗼\n",
    "\n",
    "![paris](https://raw.githubusercontent.com/vasyukov1/HSE-FCS-SE-2-year/refs/heads/main/IAD/homeworks/hw06-texts/paris.jpg)"
   ]
  }
 ],
 "metadata": {
  "colab": {
   "provenance": []
  },
  "kernelspec": {
   "display_name": "Python 3",
   "name": "python3"
  },
  "language_info": {
   "codemirror_mode": {
    "name": "ipython",
    "version": 3
   },
   "file_extension": ".py",
   "mimetype": "text/x-python",
   "name": "python",
   "nbconvert_exporter": "python",
   "pygments_lexer": "ipython3",
   "version": "3.12.5"
  }
 },
 "nbformat": 4,
 "nbformat_minor": 0
}
