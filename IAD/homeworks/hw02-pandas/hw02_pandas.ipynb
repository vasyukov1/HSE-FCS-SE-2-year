{
 "cells": [
  {
   "cell_type": "markdown",
   "metadata": {
    "_uuid": "21c25e4f8bb31570029fd6b069131a5d00f84cf1"
   },
   "source": [
    "# Домашнее задание 2 (5 баллов).\n",
    "\n",
    "*Все задания ниже имеют равный вес (5/10)*"
   ]
  },
  {
   "cell_type": "markdown",
   "metadata": {},
   "source": [
    "Код для импорта мы написали за вас (не благодарите, нам не трудно). Дальше код будете писать вы. \n",
    "\n",
    "[Тут](https://habr.com/ru/companies/ruvds/articles/494720/) шпора по pandas. За основу домашнего задания взят ноутбук [отсюда](https://rutube.ru/video/f884aa6ed5f94120b7304506042fe5bb/) (не подглядывайте!)."
   ]
  },
  {
   "cell_type": "code",
   "execution_count": 3,
   "metadata": {
    "_uuid": "568eb2d31004b87d22e119112ae01a1e75105f1d"
   },
   "outputs": [],
   "source": [
    "import pandas as pd"
   ]
  },
  {
   "cell_type": "markdown",
   "metadata": {},
   "source": [
    "#### Описание данных\n",
    "\n",
    "Автор д/з - плохой человек, который не стал переводить описание с мотивировкой, что весь DS на английском. Так что описание полей будет на английском:\n",
    "\n",
    "1. Account ID\n",
    "- Description: A unique identifier for each social media account in the dataset.\n",
    "- Type: Integer\n",
    "- Example: 1, 2, 3, …\n",
    "2. Username\n",
    "- Description: The username or handle of the social media account.\n",
    "- Type: String\n",
    "- Example: john_doe, tech_guru_22, fitness_freak\n",
    "3. Platform\n",
    "- Description: The social media platform the account is using (Instagram, Twitter, Facebook, TikTok, LinkedIn).\n",
    "- Type: Categorical (String)\n",
    "- Example: Instagram, Twitter, Facebook, TikTok, LinkedIn\n",
    "4. Follower Count\n",
    "- Description: The total number of followers the account has.\n",
    "- Type: Integer\n",
    "- Example: 1500, 245000, 78000\n",
    "5. Posts Per Week\n",
    "- Description: The average number of posts the account creates per week.\n",
    "- Type: Integer\n",
    "- Example: 3, 5, 7\n",
    "6. Engagement Rate\n",
    "- Description: The percentage of interactions (likes, comments, shares) relative to the follower count. This is a measure of how engaging the content is.\n",
    "- Type: Float\n",
    "- Range: 0.01 to 0.15\n",
    "- Example: 0.045 (4.5% engagement rate)\n",
    "7. Ad Spend (USD)\n",
    "- Description: The monthly amount spent on advertising or promoting posts.\n",
    "- Type: Float\n",
    "- Example: 150.75, 850.00, 300.50\n",
    "8. Conversion Rate\n",
    "- Description: The percentage of users who take a desired action (e.g., clicking a link, signing up, etc.) after interacting with an ad.\n",
    "- Type: Float\n",
    "- Range: 0.01 to 0.05 (1% to 5% conversion rate)\n",
    "- Example: 0.025 (2.5% conversion rate)\n",
    "9. Campaign Reach\n",
    "- Description: The total number of unique users reached by the user’s campaigns in a given month.\n",
    "- Type: Integer\n",
    "- Example: 5000, 20000, 15000"
   ]
  },
  {
   "cell_type": "markdown",
   "metadata": {},
   "source": [
    "#### Задание 0\n",
    "\n",
    "Подгрузите данные. Да-да, за чтение таблицы баллов не будет))\n",
    "\n",
    "**Hint**: [pd.read_csv](https://pandas.pydata.org/pandas-docs/stable/reference/api/pandas.read_csv.html)"
   ]
  },
  {
   "cell_type": "code",
   "execution_count": 4,
   "metadata": {},
   "outputs": [],
   "source": [
    "# ^⨀ᴥ⨀^\n",
    "df = pd.read_csv(\"data.csv\")"
   ]
  },
  {
   "cell_type": "markdown",
   "metadata": {},
   "source": [
    "#### Задание 1\n",
    "\n",
    "Колонка `Platform` содержит название различных платформ. Давайте представим, что в них есть некоторое отношение порядка. Закодируйте каждую платформу целым числом (от 0 до N) и положите этот \"код\" в новую колонку `Platform_Code`. Теперь вычислите корреляцию Спирмена между всеми парами колонок в датасете (результатом будет таблица корреляций). В качестве ответа выведите значение корреляции `Platform_Code` с `Engagement Rate`. Можете после вывода числа еще коротко написать, что оно означает (нет, это не оценивается).\n",
    "\n",
    "**Hint**: [pd.factorize](https://pandas.pydata.org/pandas-docs/stable/reference/api/pandas.factorize.html), [pd.DataFrame.select_dtypes](https://pandas.pydata.org/pandas-docs/stable/reference/api/pandas.DataFrame.select_dtypes.html), [pd.DataFrame.corr](https://pandas.pydata.org/pandas-docs/stable/reference/api/pandas.DataFrame.corr.html)."
   ]
  },
  {
   "cell_type": "code",
   "execution_count": null,
   "metadata": {},
   "outputs": [
    {
     "name": "stdout",
     "output_type": "stream",
     "text": [
      "0.03138169529349812\n"
     ]
    }
   ],
   "source": [
    "# ( ੭ ･ᴗ･ )੭\n",
    "\n",
    "df['Platform_Code'], _ = pd.factorize(df['Platform'])\n",
    "\n",
    "correlation_table = df.corr(method='spearman', numeric_only=True)\n",
    "\n",
    "corr_platform_code_eng_rate = correlation_table.loc['Platform_Code', 'Engagement Rate']\n",
    "\n",
    "print(corr_platform_code_eng_rate)"
   ]
  },
  {
   "cell_type": "markdown",
   "metadata": {},
   "source": [
    "Корреляция равна 0.031, что близко к нулю, поэтому зависимость хоть и есть пололжительная, но она очень слабая."
   ]
  },
  {
   "cell_type": "markdown",
   "metadata": {},
   "source": [
    "#### Задание 2\n",
    "\n",
    "Теперь посмотрите на столбец `Follower Count`. В нем какие-то числа. Иногда бывает полезно провести дискретизацию такого признака. Разбейте все значения в столбце на 4 группы: \"Low\", \"Medium\", \"High\", \"Very High\". Каждая группа включает в себя новые 25% данных. То есть, Low включает в себя 25% самых маленьких значений признака и так далее. Положите значения \"Low\", \"Medium\", \"High\" или \"Very High\" для каждого сэмпла датасета в новую колонку `Follower_Bin`. Теперь посчитайте среднее значение `Engagement Rate` для каждой категории из `Follower_Bin`. В качестве ответа выведите значение для категории \"High\".\n",
    "\n",
    "**Hint**: [pd.qcut](https://pandas.pydata.org/pandas-docs/stable/reference/api/pandas.qcut.html), [pd.groupby](https://pandas.pydata.org/pandas-docs/stable/reference/api/pandas.DataFrame.groupby.html), [pd.DataFrame.mean](https://pandas.pydata.org/pandas-docs/stable/reference/api/pandas.DataFrame.mean.html)"
   ]
  },
  {
   "cell_type": "code",
   "execution_count": 8,
   "metadata": {},
   "outputs": [
    {
     "name": "stdout",
     "output_type": "stream",
     "text": [
      "0.08655032\n"
     ]
    }
   ],
   "source": [
    "# (◕^^◕)\n",
    "\n",
    "df[\"Follower_Bin\"] = pd.qcut(df['Follower Count'], q=4, labels=['Low', 'Medium', 'High', 'Very High'])\n",
    "\n",
    "mean_engagement_rate_by_follower_bin = df.groupby(by='Follower_Bin', observed=False)['Engagement Rate'].mean()\n",
    "\n",
    "print(mean_engagement_rate_by_follower_bin['High'])"
   ]
  },
  {
   "cell_type": "markdown",
   "metadata": {},
   "source": [
    "#### Задание 3\n",
    "\n",
    "Иногда бывает полезно превратить широкую таблицу в длинную (например, для визуализаций сразу нескольких признаков на одной картинке). Да, звучит странно, но именно этим вы сейчас и займетесь. Сделайте новый датафрейм `melted_df`, в который вы поместите каждый сэмпл датасета 6 раз: по одному разу на значение из 'Follower Count', 'Posts Per Week', 'Ad Spend (USD)', 'Conversion Rate', 'Engagement Rate' и 'Campaign Reach'. То есть, вы берете сэмпл из датасета (строку) и превращаете ее в 6 отдельных строк. Каждая отдельная строка в столбце `Metric` имеет имя из предложенного списка 5 признаков, а в столбце `Value` - значение данного сэмпла по этому признаку. Значение `Platform` повторяется в этих 6 строках.\n",
    "\n",
    "Иначе говоря, \n",
    "\n",
    "```json\n",
    "{\n",
    "    \"Account ID\": 1,\n",
    "    \"Username\": \"harrislisa\",\n",
    "    \"Platform\": \"TikTok\",\n",
    "    \"Follower Count\": 54217,\n",
    "    \"Posts Per Week\": 3,\n",
    "    \"Engagement Rate\": 0.0986,\n",
    "    \"Ad Spend (USD)\": 538.1,\n",
    "    \"Conversion Rate\": 0.049,\n",
    "    \"Campaign Reach\": 1308,\n",
    "    \"Platform_Code\": 0,\n",
    "    \"Follower_Bin\": \"Low\"\n",
    "}\n",
    "```\n",
    "\n",
    "превращается в \n",
    "\n",
    "```json\n",
    "{\n",
    "    \"Platform\": \"TikTok\",\n",
    "    \"Metric\": \"Follower Count\",\n",
    "    \"Value\": 54217,\n",
    "},\n",
    "{\n",
    "    \"Platform\": \"TikTok\",\n",
    "    \"Metric\": \"Posts Per Week\",\n",
    "    \"Value\": 3,\n",
    "}, ...\n",
    "```\n",
    "\n",
    "Для каждой уникальной пары значений (`Platform`, `Metric`) посчитайте моду среди всех значений `Value` для этой пары, результат сделайте списком и оставьте только наибольшее. В качестве ответа выведите сумму полученных мод (сумму всех значений в столбце `Value` уже после вычисления мод). Иначе говоря, выведите сумму всех мод значений для всех уникальных пар (`Platform`, `Metric`).\n",
    "\n",
    "**Hint**: [pd.melt](https://pandas.pydata.org/pandas-docs/stable/reference/api/pandas.melt.html), [pd.DataFrame.mode](https://pandas.pydata.org/pandas-docs/stable/reference/api/pandas.DataFrame.mode.html), [pd.DataFrameGroupBy.agg](https://pandas.pydata.org/docs/dev/reference/api/pandas.core.groupby.DataFrameGroupBy.agg.html)"
   ]
  },
  {
   "cell_type": "code",
   "execution_count": 9,
   "metadata": {},
   "outputs": [
    {
     "name": "stdout",
     "output_type": "stream",
     "text": [
      "3100285.4716\n"
     ]
    }
   ],
   "source": [
    "# (づ๑•ᴗ•๑)づ♡\n",
    "\n",
    "value_vars = [\n",
    "    'Follower Count', \n",
    "    'Posts Per Week', \n",
    "    'Ad Spend (USD)', \n",
    "    'Conversion Rate', \n",
    "    'Engagement Rate', \n",
    "    'Campaign Reach'\n",
    "]\n",
    "\n",
    "melted_df = df.melt(id_vars=['Platform'], value_vars=value_vars, var_name='Metric', value_name='Value')\n",
    "\n",
    "melted_values = melted_df.groupby(['Platform', 'Metric'])['Value']\n",
    "\n",
    "melted_modes = melted_values.agg(lambda x: x.mode().max())\n",
    "\n",
    "modes_sum = melted_modes.sum()\n",
    "\n",
    "print(modes_sum)"
   ]
  },
  {
   "cell_type": "markdown",
   "metadata": {},
   "source": [
    "#### Задание 4\n",
    "\n",
    "А теперь хочется посмотреть на самые популярные аккаунты на разных платформах. Для каждой платформы отсортируйте датафрейм по убыванию количества подписчиков (`Follower Count`) - да, без циклов, сразу для всех платформ сделать сортировку, а затем оставьте только первые три записи для каждой платформы - это и будут три самых популярных аккаунта для каждой платформы. В качестве ответа выведите саму таблицу и минимальное значение `Follower Count` в ней.\n",
    "\n",
    "**Hint**: к *groupby* можно применять функции - это эквивалентно применению функции к каждой \"группе\" внутри groupby-объекта. Читайте [про применение apply к датафрейму после groupby](https://pandas.pydata.org/pandas-docs/stable/user_guide/groupby.html#flexible-apply)."
   ]
  },
  {
   "cell_type": "code",
   "execution_count": 50,
   "metadata": {},
   "outputs": [
    {
     "name": "stdout",
     "output_type": "stream",
     "text": [
      "                Account ID         Username   Platform  Follower Count  \\\n",
      "Platform                                                                 \n",
      "Facebook  2403        2404           eric65   Facebook          999982   \n",
      "          7350        7351     patricknoble   Facebook          997915   \n",
      "          1689        1690      chavezjason   Facebook          997512   \n",
      "Instagram 8685        8686  alexandersamuel  Instagram          999726   \n",
      "          3965        3966         lrodgers  Instagram          999351   \n",
      "          2189        2190           jbrown  Instagram          997844   \n",
      "LinkedIn  3039        3040          toneill   LinkedIn          999055   \n",
      "          6359        6360    andrewgregory   LinkedIn          998968   \n",
      "          2159        2160     ashleycooper   LinkedIn          998925   \n",
      "TikTok    5838        5839     edwardthomas     TikTok          999739   \n",
      "          4234        4235    andradewesley     TikTok          999234   \n",
      "          2575        2576     williamwyatt     TikTok          998623   \n",
      "Twitter   4920        4921      teresaellis    Twitter          999919   \n",
      "          9684        9685           sriley    Twitter          999442   \n",
      "          7576        7577       peggymunoz    Twitter          998216   \n",
      "\n",
      "                Posts Per Week  Engagement Rate  Ad Spend (USD)  \\\n",
      "Platform                                                          \n",
      "Facebook  2403               6           0.0642          884.06   \n",
      "          7350               3           0.0834          429.01   \n",
      "          1689               7           0.0834          993.20   \n",
      "Instagram 8685               3           0.0834          687.61   \n",
      "          3965               1           0.0834          565.07   \n",
      "          2189               5           0.0642          505.61   \n",
      "LinkedIn  3039               4           0.0642          799.49   \n",
      "          6359               7           0.1020          797.64   \n",
      "          2159               6           0.0856          474.46   \n",
      "TikTok    5838               7           0.0642          630.77   \n",
      "          4234               5           0.0834          872.77   \n",
      "          2575               6           0.0856          477.98   \n",
      "Twitter   4920               6           0.0834          411.63   \n",
      "          9684               3           0.0834          206.84   \n",
      "          7576               6           0.0642          456.61   \n",
      "\n",
      "                Conversion Rate  Campaign Reach  Platform_Code Follower Bin  \\\n",
      "Platform                                                                      \n",
      "Facebook  2403           0.0281           17312              2    Very High   \n",
      "          7350           0.0182           25985              2    Very High   \n",
      "          1689           0.0397           45717              2    Very High   \n",
      "Instagram 8685           0.0205           11050              3    Very High   \n",
      "          3965           0.0335           12391              3    Very High   \n",
      "          2189           0.0202           14717              3    Very High   \n",
      "LinkedIn  3039           0.0174           21862              1    Very High   \n",
      "          6359           0.0351           15552              1    Very High   \n",
      "          2159           0.0156           45956              1    Very High   \n",
      "TikTok    5838           0.0325           35523              0    Very High   \n",
      "          4234           0.0481           17188              0    Very High   \n",
      "          2575           0.0250           43299              0    Very High   \n",
      "Twitter   4920           0.0460            3975              4    Very High   \n",
      "          9684           0.0225           12783              4    Very High   \n",
      "          7576           0.0456           22037              4    Very High   \n",
      "\n",
      "               Follower_Bin  \n",
      "Platform                     \n",
      "Facebook  2403    Very High  \n",
      "          7350    Very High  \n",
      "          1689    Very High  \n",
      "Instagram 8685    Very High  \n",
      "          3965    Very High  \n",
      "          2189    Very High  \n",
      "LinkedIn  3039    Very High  \n",
      "          6359    Very High  \n",
      "          2159    Very High  \n",
      "TikTok    5838    Very High  \n",
      "          4234    Very High  \n",
      "          2575    Very High  \n",
      "Twitter   4920    Very High  \n",
      "          9684    Very High  \n",
      "          7576    Very High  \n",
      "Минимальное значение - 997512\n"
     ]
    },
    {
     "name": "stderr",
     "output_type": "stream",
     "text": [
      "/var/folders/z9/19wy68_x711cm327qjf79_pc0000gn/T/ipykernel_64998/1771550354.py:3: DeprecationWarning: DataFrameGroupBy.apply operated on the grouping columns. This behavior is deprecated, and in a future version of pandas the grouping columns will be excluded from the operation. Either pass `include_groups=False` to exclude the groupings or explicitly select the grouping columns after groupby to silence this warning.\n",
      "  popular_accounts = df.groupby(by='Platform', observed=False).apply(lambda x: x.nlargest(3, 'Follower Count'))\n"
     ]
    }
   ],
   "source": [
    "# ε(´סּ︵סּ`)з\n",
    "\n",
    "popular_accounts = df.groupby(by='Platform', observed=False).apply(lambda x: x.nlargest(3, 'Follower Count'))\n",
    "\n",
    "print(popular_accounts)\n",
    "\n",
    "print(f\"Минимальное значение - {popular_accounts['Follower Count'].min()}\")"
   ]
  },
  {
   "cell_type": "markdown",
   "metadata": {},
   "source": [
    "#### Задание 5\n",
    "\n",
    "Хочется посчитать какую-то метрику. Мы хотим посмотреть, на отношение разности суммы подписчиков аккаунтов с высокой и низкой конверсией к суммарному охвату рекламы на каждой платформе. То есть, мы делим аккаунты на две группы: высокая и низкая конверсия. Затем мы смотрим на то, на сколько сильно влияние аккаунтов с высокой конверсией по сравнению с аккаунтами с низкой конверсией. \n",
    "\n",
    "Давайте определим *Conversion Influence* следущим образом:\n",
    "\n",
    "$$Conversion Influence = \\frac{Total Follower\\ Count (High) - Total Follower\\ Count (Low)}{Total Campaign Reach (High)+Total Campaign Reach (Low)}$$\n",
    "\n",
    "Считать эту метрику мы будет для каждой `Platform`. В этой формуле High - это значения всех сэмплов датасета, в которых `Conversion Rate` больше медианы, а `Low` - не более медианы. `Total Feature` - это суммарное количество значений `Feature` либо по `High` сэмплам, либо по `Low`.\n",
    "\n",
    "Чтобы постоянно не пересчитывать, где High. где Low, сделайте новую колонку в датасете `Conversion_Category`. Положите в нее для каждой строки либо High, либо Low.\n",
    "\n",
    "Выведите платформу с самым большим `Conversion Influence`.\n",
    "\n",
    "**Hint**: данное задание не про *groupby*, а скорее про [pd.pivot_table](https://pandas.pydata.org/pandas-docs/stable/reference/api/pandas.pivot_table.html). Сделайте сводную таблицу, по которой уже можно посчитать суммы, а затем подставить их в формулы."
   ]
  },
  {
   "cell_type": "code",
   "execution_count": 64,
   "metadata": {},
   "outputs": [
    {
     "name": "stdout",
     "output_type": "stream",
     "text": [
      "Платформа с самым большим Conversion Influence: Twitter\n"
     ]
    }
   ],
   "source": [
    "# (︶ω︶)\n",
    "\n",
    "mediana = df['Conversion Rate'].median()\n",
    "\n",
    "df['Conversion_Category'] = df['Conversion Rate'].apply(lambda x: 'High' if x > mediana else 'Low')\n",
    "\n",
    "pt = df.pivot_table(values=['Follower Count', 'Campaign Reach'], index='Platform', columns='Conversion_Category', aggfunc='sum')\n",
    "\n",
    "pt['Conversion Influence'] = (pt['Follower Count', 'High'] - pt['Follower Count', 'Low']) / (pt['Campaign Reach', 'High'] + pt['Campaign Reach', 'Low'])\n",
    "\n",
    "max_platform_conversion_influence = pt['Conversion Influence'].idxmax()\n",
    "\n",
    "print(f\"Платформа с самым большим Conversion Influence: {max_platform_conversion_influence}\")"
   ]
  },
  {
   "cell_type": "markdown",
   "metadata": {},
   "source": [
    "#### Задание 6\n",
    "\n",
    "Мы знаем, что вам понравилось считать метрики по формуле. Давайте закрепим этот успех. Теперь для каждой платформы посчитаем, на сколько эффективна реклама в разрезе трех последовательных записей в датасете. \n",
    "\n",
    "Для каждой платформы отсортируйте записи в порядке убывания `Posts Per Week`. Будто бы аккаунты, которые постят чаще, используют более \"активные\" стратегии по рекламе. Теперь посчитайте *скользущие суммы с окном 3* по `Campaign Reach` и `Ad Spend (USD)`. Скользящая сумма с окном N - это вы идете по массиву, берете все последовательные тройки записей и суммируете их. Для первых двух записей троек не найдется. Для них скользящее среднее - NaN, что нам не помешает. \n",
    "\n",
    "Теперь для каждого окна посчитайте \n",
    "\n",
    "$$Rolling Efficiency Ratio = \\frac{Rolling Sum of Campaign Reach}{Rolling Sum of Ad Spend}$$\n",
    "\n",
    "По сути, для каждого окна вы посчитаете сколько пользователе привлеклось за один доллар, потреченный на рекламу, в данном окне. Понятно, что значений будет столько, сколько окон. Нам интересно максимальное значение такой эффективности для каждой платформы.\n",
    "\n",
    "В качестве ответа выведите название платформы с наибольшей максимальной эффективностью и наименьшей (два названия, не одно, не три, ровно два).\n",
    "\n",
    "**Hint**: окна можно делать через [pd.DataFrame.rolling](https://pandas.pydata.org/pandas-docs/stable/reference/api/pandas.DataFrame.rolling.html)."
   ]
  },
  {
   "cell_type": "code",
   "execution_count": 82,
   "metadata": {},
   "outputs": [
    {
     "name": "stdout",
     "output_type": "stream",
     "text": [
      "Платформа с наибольшоей максимальной эффективностью: Facebook.\n",
      "Платформа с наименьшей максимальной эффективностью: TikTok.\n"
     ]
    }
   ],
   "source": [
    "# (◔/‿\\◔)\n",
    "\n",
    "sorted_df = df.sort_values(by=['Platform', 'Posts Per Week'], ascending=[True, False])\n",
    "\n",
    "sorted_df['Rolling Sum of Campaign Reach'] = sorted_df.groupby(by='Platform')['Campaign Reach'].rolling(window=3, min_periods=3).sum().reset_index(level=0, drop=True)\n",
    "sorted_df['Rolling Sum of AdSpend'] = sorted_df.groupby(by='Platform')['Ad Spend (USD)'].rolling(window=3, min_periods=3).sum().reset_index(level=0, drop=True)\n",
    "\n",
    "sorted_df['Rolling Efficiency Ration'] = sorted_df['Rolling Sum of Campaign Reach'] / sorted_df['Rolling Sum of AdSpend']\n",
    "\n",
    "max_rolling_efficiency_ration = sorted_df.groupby('Platform')['Rolling Efficiency Ration'].max()\n",
    "min_rolling_efficiency_ration = sorted_df.groupby('Platform')['Rolling Efficiency Ration'].min()\n",
    "\n",
    "max_platform_rolling_efficiency_ration = max_rolling_efficiency_ration.idxmax()\n",
    "min_platform_rolling_efficiency_ration = max_rolling_efficiency_ration.idxmin()\n",
    "\n",
    "print(f\"Платформа с наибольшоей максимальной эффективностью: {max_platform_rolling_efficiency_ration}.\")\n",
    "print(f\"Платформа с наименьшей максимальной эффективностью: {min_platform_rolling_efficiency_ration}.\")"
   ]
  },
  {
   "cell_type": "markdown",
   "metadata": {},
   "source": [
    "#### Задание 7\n",
    "\n",
    "Это еще не все прекрасные функции pandas, которые мы хотим вам показать. Теперь вы посчитаете, сколько аккаунтов на каждой платформе одновременно лучшие по `Engagement Rate` и `Conversion Rate`.\n",
    "\n",
    "Сделайте два отдельных суб-сета. В одном оставьте для каждой платфмормы один топовый аккаунт по `Engagement Rate`, в другом - по `Conversion Rate`. Соедините эти два подмножества по столбцу `Platform` так, что в одной строке есть описание сразу двух аккаунтов-лидеров. Теперь посмотрите равны ли имена аккаунтов в одной строке. Выведите количество строк, в которых названия аккаунтов совпадают."
   ]
  },
  {
   "cell_type": "code",
   "execution_count": 90,
   "metadata": {},
   "outputs": [
    {
     "name": "stdout",
     "output_type": "stream",
     "text": [
      "    Platform Username_Engagement Username_Conversion\n",
      "0   Facebook             qthomas           michael55\n",
      "1  Instagram        jaimeedwards       aprilwilliams\n",
      "2   LinkedIn             allen72              jeff87\n",
      "3     TikTok          carlosholt        robertmorris\n",
      "4    Twitter       marquezedward           trobinson\n",
      "\n",
      "Количество аккаунтов, лидирующих в обеих рейтингах: 0.\n"
     ]
    }
   ],
   "source": [
    "# ( ͡° ͜ʖ ͡°)\n",
    "\n",
    "top_engagement_rate = df.loc[df.groupby('Platform')['Engagement Rate'].idxmax()]\n",
    "top_conversion_rate = df.loc[df.groupby('Platform')['Conversion Rate'].idxmax()]\n",
    "\n",
    "top_engagement_and_conversion_rate = pd.merge(\n",
    "    top_engagement_rate[['Platform', 'Username']], \n",
    "    top_conversion_rate[['Platform', 'Username']], \n",
    "    on='Platform',\n",
    "    suffixes=('_Engagement', '_Conversion')\n",
    ")\n",
    "\n",
    "print(top_engagement_and_conversion_rate)\n",
    "\n",
    "matching_count = (top_engagement_and_conversion_rate['Username_Engagement'] == top_engagement_and_conversion_rate['Username_Conversion']).sum()\n",
    "\n",
    "print(f\"\\nКоличество аккаунтов, лидирующих в обеих рейтингах: {matching_count}.\")"
   ]
  },
  {
   "cell_type": "markdown",
   "metadata": {},
   "source": [
    "#### Задание 8\n",
    "\n",
    "Давайте теперь что-то попроще сделаем. Например, посчитаем отношение суммарного количества подписчиков на аккаунтах с высокой конверсией к такой же сумме в аккаунтах с низкой конверсией (очевидно, для каждой платформы). По сути, мы просто хотим получить число, которое характеризует, на сколько сильно аккаунты с высокой конверсией \"доминируют\" над аккаунтами с низкой конверсией в плане количества подписчиков.\n",
    "\n",
    "Высокой конверсией будем считать конверсию больше средней. Остальное - низкая. Посчитайте суммы подписчиков для каждой платформы, поделите одно на другое и выведите разницу между самым большим значением и самым маленьким, а также платформы, которые соотвутствуют этим значениям.\n",
    "\n",
    "Используйте магическую команду `%%time`, чтобы замерить, сколько времени ушло на исполнение вашего pandas-скрипта."
   ]
  },
  {
   "cell_type": "code",
   "execution_count": 207,
   "metadata": {},
   "outputs": [
    {
     "name": "stdout",
     "output_type": "stream",
     "text": [
      "CPU times: user 2 μs, sys: 1 μs, total: 3 μs\n",
      "Wall time: 7.15 μs\n",
      "Conversion_Category       High        Low  Follower Count Ratio\n",
      "Platform                                                       \n",
      "Facebook             512439819  499712373              1.025470\n",
      "Instagram            487970573  524726855              0.929952\n",
      "LinkedIn             509450797  499766430              1.019378\n",
      "TikTok               495899696  491110679              1.009751\n",
      "Twitter              536955379  481382949              1.115443\n",
      "\n",
      "Разница: 0.18549169736245585.\n",
      "Наибольшее отношение у Twitter: 1.1154432871281446.\n",
      "Наименьшее отношение у Instagram: 0.9299515897656887.\n"
     ]
    }
   ],
   "source": [
    "# (◡‿◡✿)\n",
    "%time\n",
    "\n",
    "# Категории конверсий уже были записаны в столбец 'Conversion_Rate' в задании 5.\n",
    "\n",
    "pt = df.pivot_table(values='Follower Count', index='Platform', columns='Conversion_Category', aggfunc='sum')\n",
    "pt['Follower Count Ratio'] = pt['High'] / pt['Low']\n",
    "\n",
    "max_follower_count_ratio = pt['Follower Count Ratio'].max()\n",
    "min_follower_count_ratio = pt['Follower Count Ratio'].min()\n",
    "\n",
    "max_platform_follower_count_ratio = pt['Follower Count Ratio'].idxmax()\n",
    "min_platform_follower_count_ratio = pt['Follower Count Ratio'].idxmin()\n",
    "\n",
    "print(pt)\n",
    "\n",
    "print(f\"\\nРазница: {max_follower_count_ratio - min_follower_count_ratio}.\")\n",
    "\n",
    "print(f\"Наибольшее отношение у {max_platform_follower_count_ratio}: {max_follower_count_ratio}.\")\n",
    "print(f\"Наименьшее отношение у {min_platform_follower_count_ratio}: {min_follower_count_ratio}.\")"
   ]
  },
  {
   "cell_type": "markdown",
   "metadata": {},
   "source": [
    "#### Задание 9\n",
    "\n",
    "А теперь решите задание 8 чисто питоном. Никаких функций и методов pandas. Только питоновские циклы. Замерьте время выполнения кода. Наконец, сравните время в задании 8 и 9. Напишите ниже, кто же победил: чистый python и pandas?\n",
    "\n",
    "**Hint**: Чтобы итерироваться по датафрейму, можно из него сделать генератор через [pd.DataFrame.iterrows](https://pandas.pydata.org/pandas-docs/stable/reference/api/pandas.DataFrame.iterrows.html) или [pd.DataFrame.itertuples](https://pandas.pydata.org/pandas-docs/stable/reference/api/pandas.DataFrame.itertuples.html#pandas.DataFrame.itertuples). К слову, это не все способы итерироваться по датафрейму."
   ]
  },
  {
   "cell_type": "code",
   "execution_count": 215,
   "metadata": {},
   "outputs": [
    {
     "name": "stdout",
     "output_type": "stream",
     "text": [
      "CPU times: user 3 μs, sys: 1 μs, total: 4 μs\n",
      "Wall time: 5.25 μs\n",
      "\n",
      "Разница: {1.1154432871281446}.\n",
      "Наибольшее отношение у Twitter: {1.1154432871281446}.\n",
      "Наименьшее отношение у Facebook: {1.0254695434567516}.\n"
     ]
    }
   ],
   "source": [
    "# (✿◠‿◠)\n",
    "%time\n",
    "\n",
    "sums = {}\n",
    "\n",
    "category_followers_sum = {}\n",
    "\n",
    "for index, row in df.iterrows():\n",
    "    platform = row['Platform']\n",
    "    conversion_category = row['Conversion_Category']\n",
    "    follower_count = row['Follower Count']\n",
    "\n",
    "    if platform not in category_followers_sum:\n",
    "        category_followers_sum[platform] = {'High': 0, 'Low': 0}\n",
    "    \n",
    "    category_followers_sum[platform][conversion_category] += follower_count\n",
    "\n",
    "follower_ratios = {}\n",
    "\n",
    "for platform, value in category_followers_sum.items():\n",
    "    ratio = value['High'] / value['Low']\n",
    "    follower_ratios[platform] = {ratio}\n",
    "\n",
    "max_platform_follower_count_ratio = max(follower_ratios)\n",
    "min_platform_follower_count_ratio = min(follower_ratios)\n",
    "max_follower_count_ratio = follower_ratios[max_platform_follower_count_ratio]\n",
    "min_follower_count_ratio = follower_ratios[min_platform_follower_count_ratio]\n",
    "\n",
    "print(f\"\\nРазница: {max_follower_count_ratio - min_follower_count_ratio}.\")\n",
    "\n",
    "print(f\"Наибольшее отношение у {max_platform_follower_count_ratio}: {max_follower_count_ratio}.\")\n",
    "print(f\"Наименьшее отношение у {min_platform_follower_count_ratio}: {min_follower_count_ratio}.\")"
   ]
  },
  {
   "cell_type": "markdown",
   "metadata": {},
   "source": [
    "**А победителем является**: Pandas. \n",
    "\n",
    "Pandas в основном выполнял за 3 мкс, а чистый Python - за 4 мкс. Хоть и небольшая разница, но Пандас оказался быстрее."
   ]
  },
  {
   "cell_type": "markdown",
   "metadata": {},
   "source": [
    "#### Задание 10\n",
    "\n",
    "Крайне серьезное задание. Отнеситесь к нему соответствующе. В ячейке ниже напишите ваш любимый анекдот или мем (только без баянов, окей?). Можно плохие. Помните, это задание на полный балл. Проверяющий работу ассистент должен улыбнуться.\n",
    "\n",
    "Если вставляете картинку, то убедитесь, что вы ее не подгружаете локально. А то будет неудобно - потерять балл на этом задании, когда надо было выложить картинку на облако и прокинуть ссылку. И нет, нельзя сюда просто ссылку вставить. Либо ищите, как вставить картинку, либо смешной анекдот. Есть всего два стула - выбирайте..."
   ]
  },
  {
   "cell_type": "code",
   "execution_count": 10,
   "metadata": {},
   "outputs": [
    {
     "data": {
      "image/jpeg": "[encoded data removed]",
      "text/plain": [
       "<IPython.core.display.Image object>"
      ]
     },
     "execution_count": 10,
     "metadata": {},
     "output_type": "execute_result"
    }
   ],
   "source": [
    "# ‿( ́ ̵ _-`)‿\n",
    "from IPython.display import Image\n",
    "\n",
    "Image('meme.jpeg')"
   ]
  }
 ],
 "metadata": {
  "kernelspec": {
   "display_name": "Python 3",
   "language": "python",
   "name": "python3"
  },
  "language_info": {
   "codemirror_mode": {
    "name": "ipython",
    "version": 3
   },
   "file_extension": ".py",
   "mimetype": "text/x-python",
   "name": "python",
   "nbconvert_exporter": "python",
   "pygments_lexer": "ipython3",
   "version": "3.12.5"
  }
 },
 "nbformat": 4,
 "nbformat_minor": 1
}
