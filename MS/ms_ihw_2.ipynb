{
 "cells": [
  {
   "cell_type": "markdown",
   "id": "5c9e7df8",
   "metadata": {},
   "source": [
    "# Задача 1.\n",
    "## Вариант 5.\n",
    "\n",
    "Усолвие: В результате проведенных испытаний получены (в м/с) следующие значения начальной скорости снаряда: $422.2; 418.7; 425.6; 420.3; 425.8; 423.1; 431.5; 428.2; 438.3; 434.0$. После доработки установки были получены следующие скорости снаряда: $431.3; 423.0; 436.5; 437.1;428.3; 439.4; 427.7$. \n",
    "\n",
    "Можно ли считать, на уровне значимости $0.05$, что доработка установки привела к увеличению средней скорости снаряда. Решите задачу, предполагая,\n",
    "что: \n",
    "\n",
    "a) распределение контролируемого признака нормальное; \n",
    "\n",
    "b) распределение контролируемого признака неизвестно."
   ]
  },
  {
   "cell_type": "code",
   "execution_count": 2,
   "id": "d638c27a",
   "metadata": {},
   "outputs": [],
   "source": [
    "import numpy as np"
   ]
  },
  {
   "cell_type": "markdown",
   "id": "06234b0c",
   "metadata": {},
   "source": [
    "Инициализируем данные выборки. X - результат до доработки, Y - результат после доработки."
   ]
  },
  {
   "cell_type": "code",
   "execution_count": 1,
   "id": "15bb4eaf",
   "metadata": {},
   "outputs": [],
   "source": [
    "X = [422.2, 418.7, 425.6, 420.3, 425.8, 423.1, 431.5, 428.2, 438.3, 434.0]\n",
    "n = len(X)\n",
    "\n",
    "Y = [431.3, 423.0, 436.5, 437.1, 428.3, 439.4, 427.7]\n",
    "m = len(Y)\n",
    "\n",
    "alpha = 0.05"
   ]
  },
  {
   "cell_type": "markdown",
   "id": "0b84b5a9",
   "metadata": {},
   "source": [
    "После этого найдём средние значения, дисперссии и средне квадратичные отклонения выборок."
   ]
  },
  {
   "cell_type": "code",
   "execution_count": 3,
   "id": "6a3f9aa3",
   "metadata": {},
   "outputs": [],
   "source": [
    "X_mean = np.mean(X)\n",
    "Y_mean = np.mean(Y)\n",
    "\n",
    "X_var = np.var(X, ddof=1)\n",
    "Y_var = np.var(Y, ddof=1)\n",
    "X_std = np.sqrt(X_var)\n",
    "Y_std = np.sqrt(Y_var)"
   ]
  },
  {
   "cell_type": "code",
   "execution_count": 5,
   "id": "ae5574de",
   "metadata": {},
   "outputs": [
    {
     "name": "stdout",
     "output_type": "stream",
     "text": [
      "Mean of X: 426.77\n",
      "Mean of Y: 431.90\n",
      "\n",
      "Standard deviation of X: 6.27\n",
      "Standard deviation of Y: 5.98\n",
      "\n",
      "Variance of X: 39.25\n",
      "Variance of Y: 35.77\n"
     ]
    }
   ],
   "source": [
    "print(f'Mean of X: {X_mean:.2f}')\n",
    "print(f'Mean of Y: {Y_mean:.2f}\\n')\n",
    "print(f'Standard deviation of X: {X_std:.2f}')\n",
    "print(f'Standard deviation of Y: {Y_std:.2f}\\n')\n",
    "print(f'Variance of X: {X_var:.2f}')\n",
    "print(f'Variance of Y: {Y_var:.2f}')"
   ]
  },
  {
   "cell_type": "markdown",
   "id": "ccaf9bb5",
   "metadata": {},
   "source": [
    "Проверим равенство дисперсий по критерию Фишера.\n",
    "\n",
    "$H_0: \\sigma^2_X = \\sigma^2_Y$\\\n",
    "$H_A: \\sigma^2_X \\neq \\sigma^2_Y$\n",
    "\n",
    "$$\n",
    "F = \\frac{\\sigma^2_X}{\\sigma^2_Y}\n",
    "$$\n",
    "\n",
    "$$\n",
    "F_{crit} = F_{(n - 1, m - 1)}\n",
    "$$"
   ]
  },
  {
   "cell_type": "code",
   "execution_count": 24,
   "id": "a84163a3",
   "metadata": {},
   "outputs": [
    {
     "name": "stdout",
     "output_type": "stream",
     "text": [
      "\n",
      "F-statistic: 1.10\n"
     ]
    }
   ],
   "source": [
    "f = X_var / Y_var\n",
    "print(f'\\nF-statistic: {f:.2f}')"
   ]
  },
  {
   "cell_type": "markdown",
   "id": "2b113868",
   "metadata": {},
   "source": [
    "Найдём по таблице $F_{crit}$ со степенями свободы $(n - 1, m - 1) = (10 - 1, 7 - 1) = (9, 6)$."
   ]
  },
  {
   "cell_type": "code",
   "execution_count": 25,
   "id": "27697a4a",
   "metadata": {},
   "outputs": [],
   "source": [
    "f_crit = 4.10"
   ]
  },
  {
   "cell_type": "code",
   "execution_count": null,
   "id": "7b6cac5c",
   "metadata": {},
   "outputs": [
    {
     "name": "stdout",
     "output_type": "stream",
     "text": [
      "Не отвергаем H0 на уровне значимости 0.05\n"
     ]
    }
   ],
   "source": [
    "if f > f_crit:\n",
    "    print(f'Отвергаем H0 на уровне значимости {alpha:.2f}.')\n",
    "else:\n",
    "    print(f'Не отвергаем H0 на уровне значимости {alpha:.2f}.')"
   ]
  },
  {
   "cell_type": "markdown",
   "id": "34673a01",
   "metadata": {},
   "source": [
    "Нулевую гипотезу не отвергли, поэтому можем считать, что дисперсии равны. Следовательно, можно посчитать общую дисперсию.\n",
    "\n",
    "$$\n",
    "S_{pooled}^2 = \\frac{(n - 1) \\cdot \\sigma^2_X + (m - 1) \\cdot \\sigma^2_Y}{n + m  - 2}\n",
    "$$"
   ]
  },
  {
   "cell_type": "code",
   "execution_count": 27,
   "id": "efc6d7fe",
   "metadata": {},
   "outputs": [],
   "source": [
    "s_pooled = np.sqrt(((n - 1) * X_var + (m - 1) * Y_var) / (n + m - 2))"
   ]
  },
  {
   "cell_type": "markdown",
   "id": "9e29f9bb",
   "metadata": {},
   "source": [
    "a) Предположим, что распределение нормальное. \n",
    "\n",
    "$H_0: \\mu_{Y} = \\mu_{X}$\\\n",
    "$H_A: \\mu_{Y} > \\mu_{X}$\n",
    "\n",
    "Правосторонний тест.\n",
    "\n",
    "Найдём t-статистику Стьюдента.\n",
    "\n",
    "$$\n",
    "t = \\frac{\\bar{Y} - \\bar{X}}{s_{pooled} \\cdot \\sqrt{\\frac{1}{m} + \\frac{1}{n}}}\n",
    "$$\n",
    "\n",
    "$$\n",
    "t_{crit} = t_{\\alpha,\\: n + m - 2}\n",
    "$$"
   ]
  },
  {
   "cell_type": "code",
   "execution_count": 28,
   "id": "f21b7449",
   "metadata": {},
   "outputs": [
    {
     "name": "stdout",
     "output_type": "stream",
     "text": [
      "\n",
      "t-statistics: 1.69\n"
     ]
    }
   ],
   "source": [
    "t = (Y_mean - X_mean) / (s_pooled * np.sqrt(1 / m + 1 / n))\n",
    "print(f'\\nt-statistics: {t:.2f}')"
   ]
  },
  {
   "cell_type": "markdown",
   "id": "1d99f9b5",
   "metadata": {},
   "source": [
    "Найдём по таблице критическое значение со степенью свободы $n + m - 2 = 10 + 7 - 2 = 15$."
   ]
  },
  {
   "cell_type": "code",
   "execution_count": 29,
   "id": "ab266eac",
   "metadata": {},
   "outputs": [],
   "source": [
    "t_crit = 1.753"
   ]
  },
  {
   "cell_type": "code",
   "execution_count": 31,
   "id": "54ef90ef",
   "metadata": {},
   "outputs": [
    {
     "name": "stdout",
     "output_type": "stream",
     "text": [
      "Не отвергаем нулевую гипотезу при alpha = 0.05\n"
     ]
    }
   ],
   "source": [
    "if t > t_crit:\n",
    "    print(f'Отвергаем нулевую гипотезу при alpha = {alpha}.')\n",
    "else:\n",
    "    print(f'Не отвергаем нулевую гипотезу при alpha = {alpha}')"
   ]
  },
  {
   "cell_type": "markdown",
   "id": "d7166cd3",
   "metadata": {},
   "source": [
    "### Вывод: \n",
    "Нулевую гипотезу не отвергнули. Значит, нет оснований на уровне значимости 5% полагать, что доработка установки помогла улучшить результаты. "
   ]
  },
  {
   "cell_type": "markdown",
   "id": "b5e558b2",
   "metadata": {},
   "source": [
    "b) Распределение неизвестно.  \n",
    "\n",
    "Используем критерий Манна-Уитни.\n",
    "\n",
    "$H_0: \\text{результаты одинаковые}$\\\n",
    "$H_A: \\text{результаты после доработки улучшились}$\n",
    "\n",
    "Объединим выборки и проранжируем:\n",
    "\n",
    "Значение | Ранг | Выборка \n",
    "------|---|----\n",
    "418.7 | 1 | X\n",
    "420.3 | 2 | X\n",
    "422.2 | 3 | X\n",
    "423.0 | 4 | Y\n",
    "423.1 | 5 | X\n",
    "425.6 | 6 | X\n",
    "425.8 | 7 | X\n",
    "427.7 | 8 | Y\n",
    "428.2 | 9 | X\n",
    "428.3 | 10 | Y\n",
    "431.3 | 11 | Y\n",
    "431.5 | 12 | X\n",
    "434.0 | 13 | X\n",
    "436.5 | 14 | Y\n",
    "437.1 | 15 | Y\n",
    "438.3 | 16 | X\n",
    "439.4 | 17 | Y\n",
    "\n",
    "Сумма рангов выборки X: $R_{X} = 1 + 2 + 3 + 5 + 6 + 7 + 9 + 12 + 13 + 16 = 74$.\n",
    "\n",
    "Сумма рангов выборки Y: $R_{Y} = 4 + 8 + 10 + 11 + 14 + 15 + 17 = 79$.\n",
    "\n",
    "Найдём U-статистику:\n",
    "\n",
    "$U_{X} = R_{X} - \\frac{n \\cdot (n + 1)}{2} = 74 - \\frac{10 \\cdot 11}{2} = 74 - 55 = 19$\n",
    "\n",
    "$U_{Y} = R_{Y} - \\frac{m \\cdot (m + 1)}{2} = 79 - \\frac{7 \\cdot 8}{2} = 79 - 28 = 51$\n",
    "\n",
    "$U = \\min{(U_{X},\\: U_{Y})} = \\min{(19,\\: 51)} = 19$.\n",
    "\n",
    "Теперь найдём по таблице критическое значение урвоня значимости $0.05$ и $n = 10$, $m = 7$.\n",
    "\n",
    "$U_{crit} = U_{\\alpha,\\: n,\\: m} = U_{0.05,\\: 10,\\: 7} = 14$.\n",
    "\n",
    "Сравним значения. Если $U > U_{crit}$, то принимаем нулевую гипотезу:\n",
    "\n",
    "$U = 19,\\ U_{crit} = 14 \\Rightarrow 19 > 14 \\Rightarrow U > U_{crit}$.\n",
    "\n",
    "### Вывод:\n",
    "То есть принимаем нулевую гипотезу. Следовательно, нет оснований полагать, что доработка установки не увеличила среднюю скорость снаряда."
   ]
  },
  {
   "cell_type": "markdown",
   "id": "a3172a5c",
   "metadata": {},
   "source": [
    "## Ответ:\n",
    "\n",
    "a) Нет, нельзя.\n",
    "\n",
    "b) Нет, нельзя."
   ]
  }
 ],
 "metadata": {
  "kernelspec": {
   "display_name": "Python 3",
   "language": "python",
   "name": "python3"
  },
  "language_info": {
   "codemirror_mode": {
    "name": "ipython",
    "version": 3
   },
   "file_extension": ".py",
   "mimetype": "text/x-python",
   "name": "python",
   "nbconvert_exporter": "python",
   "pygments_lexer": "ipython3",
   "version": "3.12.5"
  }
 },
 "nbformat": 4,
 "nbformat_minor": 5
}
