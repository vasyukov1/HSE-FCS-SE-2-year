{
 "cells": [
  {
   "cell_type": "markdown",
   "id": "a4944fec",
   "metadata": {},
   "source": [
    "## Импорт библиотек"
   ]
  },
  {
   "cell_type": "code",
   "execution_count": 1,
   "id": "f791fd25",
   "metadata": {},
   "outputs": [],
   "source": [
    "import pandas as pd\n",
    "import json\n",
    "from datetime import datetime\n",
    "\n",
    "import matplotlib.pyplot as plt\n",
    "import numpy as np\n",
    "import seaborn as sns\n",
    "\n",
    "from sklearn.model_selection import train_test_split\n",
    "from catboost import CatBoostClassifier, Pool\n",
    "from sklearn.metrics import roc_auc_score, accuracy_score\n",
    "from sklearn.preprocessing import StandardScaler"
   ]
  },
  {
   "cell_type": "markdown",
   "id": "ac3cf2a3",
   "metadata": {},
   "source": [
    "## Загрузка данных"
   ]
  },
  {
   "cell_type": "code",
   "execution_count": null,
   "id": "547458ba",
   "metadata": {},
   "outputs": [],
   "source": [
    "train = pd.read_csv('data/data_allcups/train.csv', sep=';')\n",
    "test = pd.read_csv('data/data_allcups/test.csv', sep=';')\n",
    "labels = pd.read_csv('data/data_allcups/train_labels.csv', sep=';')\n",
    "referer = pd.read_csv('data/data_allcups/referer_vectors.csv', sep=';')\n",
    "geo = pd.read_csv('data/data_allcups/geo_info.csv', sep=';')"
   ]
  },
  {
   "cell_type": "markdown",
   "id": "ecbd4ce2",
   "metadata": {},
   "source": [
    "## Подготовка признаков"
   ]
  },
  {
   "cell_type": "code",
   "execution_count": 3,
   "id": "21d69d4c",
   "metadata": {},
   "outputs": [],
   "source": [
    "# Парсинг агента пользователя на браузер и операционную систему \n",
    "def parse_user_agent(s: str):\n",
    "    try:\n",
    "        s_json = s.replace(\"'\", '\"')\n",
    "        return json.loads(s_json)\n",
    "    except:\n",
    "        return {}\n",
    "    \n",
    "train['user_agent_dict'] = train['user_agent'].apply(parse_user_agent)\n",
    "train = pd.concat([train, train['user_agent_dict'].apply(pd.Series)], axis=1)\n",
    "train = train.drop(columns=['user_agent', 'user_agent_dict', 'browser_version', 'os_version'])\n",
    "\n",
    "test['user_agent_dict'] = test['user_agent'].apply(parse_user_agent)\n",
    "test = pd.concat([test, test['user_agent_dict'].apply(pd.Series)], axis=1)\n",
    "test = test.drop(columns=['user_agent', 'user_agent_dict', 'browser_version', 'os_version'])"
   ]
  },
  {
   "cell_type": "code",
   "execution_count": 4,
   "id": "4cb76513",
   "metadata": {},
   "outputs": [],
   "source": [
    "# Выделение домена рекламного запроса\n",
    "referer['domain'] = referer['referer'].apply(lambda ref: ref.replace('https://', '').split('/')[0])"
   ]
  },
  {
   "cell_type": "code",
   "execution_count": 5,
   "id": "bec934f6",
   "metadata": {},
   "outputs": [],
   "source": [
    "# Выделяем час запроса\n",
    "train['hour'] = train['request_ts'].apply(lambda ts: datetime.fromtimestamp(ts).hour).astype('str') \n",
    "test['hour'] = test['request_ts'].apply(lambda ts: datetime.fromtimestamp(ts).hour).astype('str')\n",
    "\n",
    "train = train.drop(columns=['request_ts'])\n",
    "test = test.drop(columns=['request_ts'])"
   ]
  },
  {
   "cell_type": "markdown",
   "id": "9af85e9d",
   "metadata": {},
   "source": [
    "## Проверка пропусков"
   ]
  },
  {
   "cell_type": "code",
   "execution_count": 6,
   "id": "4cc52354",
   "metadata": {},
   "outputs": [
    {
     "data": {
      "text/plain": [
       "user_id    0\n",
       "referer    0\n",
       "geo_id     0\n",
       "browser    1\n",
       "os         1\n",
       "hour       0\n",
       "dtype: int64"
      ]
     },
     "execution_count": 6,
     "metadata": {},
     "output_type": "execute_result"
    }
   ],
   "source": [
    "train.isna().sum()"
   ]
  },
  {
   "cell_type": "code",
   "execution_count": 7,
   "id": "db85b0ca",
   "metadata": {},
   "outputs": [
    {
     "data": {
      "text/plain": [
       "np.int64(0)"
      ]
     },
     "execution_count": 7,
     "metadata": {},
     "output_type": "execute_result"
    }
   ],
   "source": [
    "test.isna().sum().sum()"
   ]
  },
  {
   "cell_type": "code",
   "execution_count": 8,
   "id": "018e854a",
   "metadata": {},
   "outputs": [],
   "source": [
    "# Заполнение пропусков региона значением страны\n",
    "geo['region_id'] = geo['region_id'].fillna(geo['country_id'])"
   ]
  },
  {
   "cell_type": "code",
   "execution_count": 9,
   "id": "ad9e2b28",
   "metadata": {},
   "outputs": [],
   "source": [
    "# Заполнение пропусков агента нулевым значением\n",
    "train['browser'] = train['browser'].fillna('none')\n",
    "train['os'] = train['os'].fillna('none')"
   ]
  },
  {
   "cell_type": "markdown",
   "id": "d094f7ed",
   "metadata": {},
   "source": [
    "### Сбор всех признаков в один датасет"
   ]
  },
  {
   "cell_type": "code",
   "execution_count": 10,
   "id": "cb7dc9a0",
   "metadata": {},
   "outputs": [],
   "source": [
    "train = train.merge(referer, on='referer', how='left')\n",
    "train = train.merge(geo, on='geo_id', how='left')\n",
    "train = train.drop(columns=['geo_id', 'referer'])\n",
    "\n",
    "test = test.merge(referer, on='referer', how='left')\n",
    "test = test.merge(geo, on='geo_id', how='left')\n",
    "test = test.drop(columns=['geo_id', 'referer'])"
   ]
  },
  {
   "cell_type": "code",
   "execution_count": 11,
   "id": "caf5277c",
   "metadata": {},
   "outputs": [
    {
     "data": {
      "text/html": [
       "<div>\n",
       "<style scoped>\n",
       "    .dataframe tbody tr th:only-of-type {\n",
       "        vertical-align: middle;\n",
       "    }\n",
       "\n",
       "    .dataframe tbody tr th {\n",
       "        vertical-align: top;\n",
       "    }\n",
       "\n",
       "    .dataframe thead th {\n",
       "        text-align: right;\n",
       "    }\n",
       "</style>\n",
       "<table border=\"1\" class=\"dataframe\">\n",
       "  <thead>\n",
       "    <tr style=\"text-align: right;\">\n",
       "      <th></th>\n",
       "      <th>user_id</th>\n",
       "      <th>browser</th>\n",
       "      <th>os</th>\n",
       "      <th>hour</th>\n",
       "      <th>component0</th>\n",
       "      <th>component1</th>\n",
       "      <th>component2</th>\n",
       "      <th>component3</th>\n",
       "      <th>component4</th>\n",
       "      <th>component5</th>\n",
       "      <th>component6</th>\n",
       "      <th>component7</th>\n",
       "      <th>component8</th>\n",
       "      <th>component9</th>\n",
       "      <th>domain</th>\n",
       "      <th>country_id</th>\n",
       "      <th>region_id</th>\n",
       "      <th>timezone_id</th>\n",
       "    </tr>\n",
       "  </thead>\n",
       "  <tbody>\n",
       "    <tr>\n",
       "      <th>0</th>\n",
       "      <td>fb858e8e0a2bec074450eaf94b627fd3</td>\n",
       "      <td>Chrome Mobile</td>\n",
       "      <td>Android</td>\n",
       "      <td>18</td>\n",
       "      <td>11731</td>\n",
       "      <td>4045</td>\n",
       "      <td>22213</td>\n",
       "      <td>-1184</td>\n",
       "      <td>-8992</td>\n",
       "      <td>9381</td>\n",
       "      <td>-3496</td>\n",
       "      <td>-3120</td>\n",
       "      <td>-899</td>\n",
       "      <td>16817</td>\n",
       "      <td>9b48ee5</td>\n",
       "      <td>c31b4e</td>\n",
       "      <td>470e75</td>\n",
       "      <td>f6155e</td>\n",
       "    </tr>\n",
       "    <tr>\n",
       "      <th>1</th>\n",
       "      <td>46a5f128fd569c764a92c2eaa788095e</td>\n",
       "      <td>Chrome Mobile</td>\n",
       "      <td>Android</td>\n",
       "      <td>11</td>\n",
       "      <td>11731</td>\n",
       "      <td>4045</td>\n",
       "      <td>22213</td>\n",
       "      <td>-1184</td>\n",
       "      <td>-8992</td>\n",
       "      <td>9381</td>\n",
       "      <td>-3496</td>\n",
       "      <td>-3120</td>\n",
       "      <td>-899</td>\n",
       "      <td>16817</td>\n",
       "      <td>9b48ee5</td>\n",
       "      <td>c31b4e</td>\n",
       "      <td>44520b</td>\n",
       "      <td>e56e80</td>\n",
       "    </tr>\n",
       "    <tr>\n",
       "      <th>2</th>\n",
       "      <td>5a74e9ac53ffb21a20cce117c0ad77ba</td>\n",
       "      <td>Yandex Browser</td>\n",
       "      <td>Android</td>\n",
       "      <td>18</td>\n",
       "      <td>12498</td>\n",
       "      <td>2451</td>\n",
       "      <td>10304</td>\n",
       "      <td>-6380</td>\n",
       "      <td>11608</td>\n",
       "      <td>3106</td>\n",
       "      <td>-2188</td>\n",
       "      <td>10573</td>\n",
       "      <td>3347</td>\n",
       "      <td>21870</td>\n",
       "      <td>9634fd0</td>\n",
       "      <td>c31b4e</td>\n",
       "      <td>616bb9</td>\n",
       "      <td>af47f1</td>\n",
       "    </tr>\n",
       "    <tr>\n",
       "      <th>3</th>\n",
       "      <td>af735816ca19115431ae3d89518c8c91</td>\n",
       "      <td>Chrome Mobile</td>\n",
       "      <td>Android</td>\n",
       "      <td>13</td>\n",
       "      <td>11731</td>\n",
       "      <td>4045</td>\n",
       "      <td>22213</td>\n",
       "      <td>-1184</td>\n",
       "      <td>-8992</td>\n",
       "      <td>9381</td>\n",
       "      <td>-3496</td>\n",
       "      <td>-3120</td>\n",
       "      <td>-899</td>\n",
       "      <td>16817</td>\n",
       "      <td>9b48ee5</td>\n",
       "      <td>c31b4e</td>\n",
       "      <td>3c9dca</td>\n",
       "      <td>e56e80</td>\n",
       "    </tr>\n",
       "    <tr>\n",
       "      <th>4</th>\n",
       "      <td>364f0ae0a3f29a685c4fb5bae6033b9a</td>\n",
       "      <td>Yandex Browser</td>\n",
       "      <td>Android</td>\n",
       "      <td>21</td>\n",
       "      <td>11731</td>\n",
       "      <td>4045</td>\n",
       "      <td>22213</td>\n",
       "      <td>-1184</td>\n",
       "      <td>-8992</td>\n",
       "      <td>9381</td>\n",
       "      <td>-3496</td>\n",
       "      <td>-3120</td>\n",
       "      <td>-899</td>\n",
       "      <td>16817</td>\n",
       "      <td>9b48ee5</td>\n",
       "      <td>c31b4e</td>\n",
       "      <td>776e76</td>\n",
       "      <td>10b7947</td>\n",
       "    </tr>\n",
       "  </tbody>\n",
       "</table>\n",
       "</div>"
      ],
      "text/plain": [
       "                            user_id         browser       os hour  component0  \\\n",
       "0  fb858e8e0a2bec074450eaf94b627fd3   Chrome Mobile  Android   18       11731   \n",
       "1  46a5f128fd569c764a92c2eaa788095e   Chrome Mobile  Android   11       11731   \n",
       "2  5a74e9ac53ffb21a20cce117c0ad77ba  Yandex Browser  Android   18       12498   \n",
       "3  af735816ca19115431ae3d89518c8c91   Chrome Mobile  Android   13       11731   \n",
       "4  364f0ae0a3f29a685c4fb5bae6033b9a  Yandex Browser  Android   21       11731   \n",
       "\n",
       "   component1  component2  component3  component4  component5  component6  \\\n",
       "0        4045       22213       -1184       -8992        9381       -3496   \n",
       "1        4045       22213       -1184       -8992        9381       -3496   \n",
       "2        2451       10304       -6380       11608        3106       -2188   \n",
       "3        4045       22213       -1184       -8992        9381       -3496   \n",
       "4        4045       22213       -1184       -8992        9381       -3496   \n",
       "\n",
       "   component7  component8  component9   domain country_id region_id  \\\n",
       "0       -3120        -899       16817  9b48ee5     c31b4e    470e75   \n",
       "1       -3120        -899       16817  9b48ee5     c31b4e    44520b   \n",
       "2       10573        3347       21870  9634fd0     c31b4e    616bb9   \n",
       "3       -3120        -899       16817  9b48ee5     c31b4e    3c9dca   \n",
       "4       -3120        -899       16817  9b48ee5     c31b4e    776e76   \n",
       "\n",
       "  timezone_id  \n",
       "0      f6155e  \n",
       "1      e56e80  \n",
       "2      af47f1  \n",
       "3      e56e80  \n",
       "4     10b7947  "
      ]
     },
     "execution_count": 11,
     "metadata": {},
     "output_type": "execute_result"
    }
   ],
   "source": [
    "train.head(5)"
   ]
  },
  {
   "cell_type": "markdown",
   "id": "16e98042",
   "metadata": {},
   "source": [
    "### Подготовка данных к группировке"
   ]
  },
  {
   "cell_type": "code",
   "execution_count": null,
   "id": "0443bb31",
   "metadata": {},
   "outputs": [],
   "source": [
    "user_agent_cols = ['browser', 'os']\n",
    "hour_cols = ['hour']\n",
    "component_cols = [f'component{i}' for i in range(10)]\n",
    "domain_cols = ['domain']\n",
    "geo_cols = ['country_id', 'region_id', 'timezone_id']\n",
    "count_cols = ['count'] # Количество запросов - признак будет добавлен позже\n",
    "\n",
    "categorical_cols = user_agent_cols + domain_cols + geo_cols + hour_cols"
   ]
  },
  {
   "cell_type": "markdown",
   "id": "16d74e4f",
   "metadata": {},
   "source": [
    "### Группировка признаков по пользователю"
   ]
  },
  {
   "cell_type": "code",
   "execution_count": 13,
   "id": "b4e9fd9d",
   "metadata": {},
   "outputs": [],
   "source": [
    "# Выделение самого частого значения\n",
    "def most_frequent(x):\n",
    "    try:\n",
    "        return x.mode().iloc[0]\n",
    "    except:\n",
    "        return None\n",
    "\n",
    "# Параметры аггрегации признаков\n",
    "agg_dict = {\n",
    "    **{user_agent_col: most_frequent for user_agent_col in user_agent_cols},\n",
    "    **{hour_col: most_frequent for hour_col in hour_cols},\n",
    "    **{component: 'mean' for component in component_cols},\n",
    "    'domain': most_frequent,\n",
    "    **{geo_col: most_frequent for geo_col in geo_cols},\n",
    "}\n",
    "\n",
    "users_train = train.groupby('user_id').agg(agg_dict).reset_index()\n",
    "users_test = test.groupby('user_id').agg(agg_dict).reset_index()"
   ]
  },
  {
   "cell_type": "code",
   "execution_count": 14,
   "id": "0e7d3e4f",
   "metadata": {},
   "outputs": [],
   "source": [
    "# Добавление признака количества запросов\n",
    "train_user_counts = train['user_id'].value_counts().rename('count').reset_index()\n",
    "train_user_counts.columns = ['user_id', 'count']\n",
    "users_train = users_train.merge(train_user_counts, on='user_id', how='left')\n",
    "\n",
    "test_user_counts = test['user_id'].value_counts().rename('count').reset_index()\n",
    "test_user_counts.columns = ['user_id', 'count']\n",
    "users_test = users_test.merge(test_user_counts, on='user_id', how='left')"
   ]
  },
  {
   "cell_type": "code",
   "execution_count": null,
   "id": "c8dc7921",
   "metadata": {},
   "outputs": [],
   "source": [
    "# Добавление таргета к датасету\n",
    "users_train = users_train.merge(labels, on='user_id', how='left')\n",
    "users_test = users_test.merge(labels, on='user_id', how='left')"
   ]
  },
  {
   "cell_type": "markdown",
   "id": "9c9ffc7e",
   "metadata": {},
   "source": [
    "## Проверка пропущенных значений"
   ]
  },
  {
   "cell_type": "code",
   "execution_count": 16,
   "id": "60f0ea57",
   "metadata": {},
   "outputs": [
    {
     "data": {
      "text/plain": [
       "user_id             0\n",
       "browser             0\n",
       "os                  0\n",
       "hour                0\n",
       "component0          0\n",
       "component1          0\n",
       "component2          0\n",
       "component3          0\n",
       "component4          0\n",
       "component5          0\n",
       "component6          0\n",
       "component7          0\n",
       "component8          0\n",
       "component9          0\n",
       "domain              0\n",
       "country_id          0\n",
       "region_id           0\n",
       "timezone_id         0\n",
       "count               0\n",
       "target         155672\n",
       "dtype: int64"
      ]
     },
     "execution_count": 16,
     "metadata": {},
     "output_type": "execute_result"
    }
   ],
   "source": [
    "users_train.isna().sum()"
   ]
  },
  {
   "cell_type": "code",
   "execution_count": 17,
   "id": "3bcfdf1f",
   "metadata": {},
   "outputs": [],
   "source": [
    "# Удаляем объекты без целевого значения\n",
    "users_train = users_train.dropna(subset='target')"
   ]
  },
  {
   "cell_type": "code",
   "execution_count": 18,
   "id": "ea028168",
   "metadata": {},
   "outputs": [
    {
     "data": {
      "text/html": [
       "<div>\n",
       "<style scoped>\n",
       "    .dataframe tbody tr th:only-of-type {\n",
       "        vertical-align: middle;\n",
       "    }\n",
       "\n",
       "    .dataframe tbody tr th {\n",
       "        vertical-align: top;\n",
       "    }\n",
       "\n",
       "    .dataframe thead th {\n",
       "        text-align: right;\n",
       "    }\n",
       "</style>\n",
       "<table border=\"1\" class=\"dataframe\">\n",
       "  <thead>\n",
       "    <tr style=\"text-align: right;\">\n",
       "      <th></th>\n",
       "      <th>user_id</th>\n",
       "      <th>browser</th>\n",
       "      <th>os</th>\n",
       "      <th>hour</th>\n",
       "      <th>component0</th>\n",
       "      <th>component1</th>\n",
       "      <th>component2</th>\n",
       "      <th>component3</th>\n",
       "      <th>component4</th>\n",
       "      <th>component5</th>\n",
       "      <th>component6</th>\n",
       "      <th>component7</th>\n",
       "      <th>component8</th>\n",
       "      <th>component9</th>\n",
       "      <th>domain</th>\n",
       "      <th>country_id</th>\n",
       "      <th>region_id</th>\n",
       "      <th>timezone_id</th>\n",
       "      <th>count</th>\n",
       "      <th>target</th>\n",
       "    </tr>\n",
       "  </thead>\n",
       "  <tbody>\n",
       "    <tr>\n",
       "      <th>3</th>\n",
       "      <td>00006a10d9ff5f9d312029ac4d296430</td>\n",
       "      <td>YandexSearch</td>\n",
       "      <td>Android</td>\n",
       "      <td>10</td>\n",
       "      <td>10214.0</td>\n",
       "      <td>-1254.0</td>\n",
       "      <td>10495.0</td>\n",
       "      <td>7705.0</td>\n",
       "      <td>9547.0</td>\n",
       "      <td>5801.0</td>\n",
       "      <td>864.0</td>\n",
       "      <td>8837.0</td>\n",
       "      <td>5312.0</td>\n",
       "      <td>22635.0</td>\n",
       "      <td>6a81948</td>\n",
       "      <td>c31b4e</td>\n",
       "      <td>470e75</td>\n",
       "      <td>f6155e</td>\n",
       "      <td>1</td>\n",
       "      <td>1.0</td>\n",
       "    </tr>\n",
       "    <tr>\n",
       "      <th>4</th>\n",
       "      <td>00008d5fd6bff19884138510b077a22b</td>\n",
       "      <td>Yandex Browser</td>\n",
       "      <td>iOS</td>\n",
       "      <td>6</td>\n",
       "      <td>10214.0</td>\n",
       "      <td>-1254.0</td>\n",
       "      <td>10495.0</td>\n",
       "      <td>7705.0</td>\n",
       "      <td>9547.0</td>\n",
       "      <td>5801.0</td>\n",
       "      <td>864.0</td>\n",
       "      <td>8837.0</td>\n",
       "      <td>5312.0</td>\n",
       "      <td>22635.0</td>\n",
       "      <td>6a81948</td>\n",
       "      <td>c31b4e</td>\n",
       "      <td>1fbfa5</td>\n",
       "      <td>e56e80</td>\n",
       "      <td>1</td>\n",
       "      <td>1.0</td>\n",
       "    </tr>\n",
       "    <tr>\n",
       "      <th>5</th>\n",
       "      <td>000098f8aa8b68a125148caff0a02827</td>\n",
       "      <td>Chrome</td>\n",
       "      <td>Windows</td>\n",
       "      <td>16</td>\n",
       "      <td>15633.0</td>\n",
       "      <td>22503.0</td>\n",
       "      <td>-2155.0</td>\n",
       "      <td>-557.0</td>\n",
       "      <td>2232.0</td>\n",
       "      <td>16084.0</td>\n",
       "      <td>-87.0</td>\n",
       "      <td>-2820.0</td>\n",
       "      <td>6578.0</td>\n",
       "      <td>3085.0</td>\n",
       "      <td>b53adc6</td>\n",
       "      <td>e48e27</td>\n",
       "      <td>e48e27</td>\n",
       "      <td>f0c3df</td>\n",
       "      <td>1</td>\n",
       "      <td>0.0</td>\n",
       "    </tr>\n",
       "  </tbody>\n",
       "</table>\n",
       "</div>"
      ],
      "text/plain": [
       "                            user_id         browser       os hour  component0  \\\n",
       "3  00006a10d9ff5f9d312029ac4d296430    YandexSearch  Android   10     10214.0   \n",
       "4  00008d5fd6bff19884138510b077a22b  Yandex Browser      iOS    6     10214.0   \n",
       "5  000098f8aa8b68a125148caff0a02827          Chrome  Windows   16     15633.0   \n",
       "\n",
       "   component1  component2  component3  component4  component5  component6  \\\n",
       "3     -1254.0     10495.0      7705.0      9547.0      5801.0       864.0   \n",
       "4     -1254.0     10495.0      7705.0      9547.0      5801.0       864.0   \n",
       "5     22503.0     -2155.0      -557.0      2232.0     16084.0       -87.0   \n",
       "\n",
       "   component7  component8  component9   domain country_id region_id  \\\n",
       "3      8837.0      5312.0     22635.0  6a81948     c31b4e    470e75   \n",
       "4      8837.0      5312.0     22635.0  6a81948     c31b4e    1fbfa5   \n",
       "5     -2820.0      6578.0      3085.0  b53adc6     e48e27    e48e27   \n",
       "\n",
       "  timezone_id  count  target  \n",
       "3      f6155e      1     1.0  \n",
       "4      e56e80      1     1.0  \n",
       "5      f0c3df      1     0.0  "
      ]
     },
     "execution_count": 18,
     "metadata": {},
     "output_type": "execute_result"
    }
   ],
   "source": [
    "users_train.head(3)"
   ]
  },
  {
   "cell_type": "markdown",
   "id": "ed2e40be",
   "metadata": {},
   "source": [
    "## Корреляционная матрица вещественных признаков"
   ]
  },
  {
   "cell_type": "code",
   "execution_count": null,
   "id": "e39ef34d",
   "metadata": {},
   "outputs": [
    {
     "data": {
      "image/png": "[encoded data removed]",
      "text/plain": [
       "<Figure size 960x960 with 2 Axes>"
      ]
     },
     "metadata": {},
     "output_type": "display_data"
    }
   ],
   "source": [
    "sns.set_theme(palette=\"bright\")\n",
    "plt.figure(figsize=(8, 8), dpi=120)\n",
    "\n",
    "ax = sns.heatmap(\n",
    "    users_train.corr(numeric_only=True),\n",
    "    annot=True,\n",
    "    fmt='0.2f',\n",
    "    linewidths=0.5,\n",
    "    linecolor='black',\n",
    "    cbar_kws={'shrink': 0.8},\n",
    "    square=True\n",
    ")\n",
    "\n",
    "for t in ax.texts:\n",
    "    if np.abs(float(t.get_text())) < 0.3:\n",
    "        t.set_text(\"\")\n",
    "\n",
    "plt.title(\"Корреляция признаков\", fontsize=20, fontweight='bold')\n",
    "plt.xticks(rotation=25, ha='right')\n",
    "plt.show()"
   ]
  },
  {
   "cell_type": "markdown",
   "id": "8059b063",
   "metadata": {},
   "source": [
    "## Подготовка данных для модели"
   ]
  },
  {
   "cell_type": "code",
   "execution_count": 20,
   "id": "0e2369d1",
   "metadata": {},
   "outputs": [],
   "source": [
    "X = users_train.drop('target', axis=1)\n",
    "y = users_train['target']\n",
    "\n",
    "# Разделение выборки на тренировочную, валидационную и тестовую в соотношении 8:1:1\n",
    "X_train, X_temp, y_train, y_temp = train_test_split(X, y, test_size=0.2, random_state=42, stratify=y)\n",
    "X_val, X_test, y_val, y_test = train_test_split(X_temp, y_temp, test_size=0.5, random_state=42, stratify=y_temp)"
   ]
  },
  {
   "cell_type": "code",
   "execution_count": 28,
   "id": "e94c2938",
   "metadata": {},
   "outputs": [],
   "source": [
    "# Стандартизация вещественных признаков\n",
    "scaler = StandardScaler()\n",
    "X_train_scaled = pd.DataFrame(scaler.fit_transform(X_train[component_cols + count_cols]), columns=[component_cols + count_cols], index=X_train.index)\n",
    "X_val_scaled = pd.DataFrame(scaler.transform(X_val[component_cols + count_cols]), columns=[component_cols + count_cols], index=X_val.index)\n",
    "X_test_scaled = pd.DataFrame(scaler.transform(X_test[component_cols + count_cols]), columns=[component_cols + count_cols], index=X_test.index)\n",
    "\n",
    "# Сбор признаков в итоговый датасет для обучения\n",
    "X_train_final = pd.concat([X_train_scaled, X_train[categorical_cols]], axis=1)\n",
    "X_val_final = pd.concat([X_val_scaled, X_val[categorical_cols]], axis=1)\n",
    "X_test_final = pd.concat([X_test_scaled, X_test[categorical_cols]], axis=1)\n",
    "\n",
    "# Создание Pool для категориальных признаков в CatBoost\n",
    "train_pool = Pool(X_train_final, label=y_train, cat_features=categorical_cols)\n",
    "val_pool = Pool(X_val_final, label=y_val, cat_features=categorical_cols)\n",
    "test_pool = Pool(X_test_final, label=y_test, cat_features=categorical_cols)\n",
    "\n",
    "# Гиперпараметры модели\n",
    "model = CatBoostClassifier(\n",
    "    iterations=1500,\n",
    "    early_stopping_rounds=15,\n",
    "    auto_class_weights='Balanced',\n",
    "    random_seed=42,\n",
    "    verbose=100\n",
    ")"
   ]
  },
  {
   "cell_type": "markdown",
   "id": "2f35bb5e",
   "metadata": {},
   "source": [
    "## Обучение модели"
   ]
  },
  {
   "cell_type": "code",
   "execution_count": 22,
   "id": "21da09c5",
   "metadata": {},
   "outputs": [
    {
     "name": "stdout",
     "output_type": "stream",
     "text": [
      "Learning rate set to 0.116686\n",
      "0:\tlearn: 0.6413761\ttest: 0.6398604\tbest: 0.6398604 (0)\ttotal: 240ms\tremaining: 6m\n",
      "100:\tlearn: 0.3794621\ttest: 0.3680788\tbest: 0.3680788 (100)\ttotal: 14.5s\tremaining: 3m 21s\n",
      "200:\tlearn: 0.3581207\ttest: 0.3469614\tbest: 0.3469614 (200)\ttotal: 31.7s\tremaining: 3m 24s\n",
      "300:\tlearn: 0.3483327\ttest: 0.3382365\tbest: 0.3382365 (300)\ttotal: 47.7s\tremaining: 3m 10s\n",
      "400:\tlearn: 0.3414179\ttest: 0.3324026\tbest: 0.3324026 (400)\ttotal: 1m 3s\tremaining: 2m 54s\n",
      "500:\tlearn: 0.3368485\ttest: 0.3289273\tbest: 0.3289273 (500)\ttotal: 1m 19s\tremaining: 2m 39s\n",
      "600:\tlearn: 0.3331941\ttest: 0.3266013\tbest: 0.3266013 (600)\ttotal: 1m 36s\tremaining: 2m 23s\n",
      "700:\tlearn: 0.3300788\ttest: 0.3246528\tbest: 0.3246528 (700)\ttotal: 1m 52s\tremaining: 2m 8s\n",
      "800:\tlearn: 0.3268993\ttest: 0.3227060\tbest: 0.3227060 (800)\ttotal: 2m 9s\tremaining: 1m 52s\n",
      "900:\tlearn: 0.3245531\ttest: 0.3215585\tbest: 0.3215585 (900)\ttotal: 2m 28s\tremaining: 1m 38s\n",
      "1000:\tlearn: 0.3223811\ttest: 0.3205409\tbest: 0.3205409 (1000)\ttotal: 2m 44s\tremaining: 1m 22s\n",
      "1100:\tlearn: 0.3204492\ttest: 0.3197239\tbest: 0.3197231 (1099)\ttotal: 3m 2s\tremaining: 1m 6s\n",
      "1200:\tlearn: 0.3186324\ttest: 0.3190177\tbest: 0.3190118 (1199)\ttotal: 3m 19s\tremaining: 49.6s\n",
      "1300:\tlearn: 0.3169600\ttest: 0.3183316\tbest: 0.3183316 (1300)\ttotal: 3m 35s\tremaining: 33s\n",
      "1400:\tlearn: 0.3153139\ttest: 0.3176625\tbest: 0.3176625 (1400)\ttotal: 3m 51s\tremaining: 16.4s\n",
      "1499:\tlearn: 0.3138347\ttest: 0.3171364\tbest: 0.3171343 (1495)\ttotal: 4m 8s\tremaining: 0us\n",
      "\n",
      "bestTest = 0.3171342639\n",
      "bestIteration = 1495\n",
      "\n",
      "Shrink model to first 1496 iterations.\n"
     ]
    },
    {
     "data": {
      "text/plain": [
       "<catboost.core.CatBoostClassifier at 0x17e2b2960>"
      ]
     },
     "execution_count": 22,
     "metadata": {},
     "output_type": "execute_result"
    }
   ],
   "source": [
    "model.fit(train_pool, eval_set=val_pool)"
   ]
  },
  {
   "cell_type": "markdown",
   "id": "fca17c09",
   "metadata": {},
   "source": [
    "## Прогнозирование таргета"
   ]
  },
  {
   "cell_type": "code",
   "execution_count": 30,
   "id": "df9fea04",
   "metadata": {},
   "outputs": [],
   "source": [
    "y_pred_train = model.predict(train_pool)\n",
    "y_pred_test = model.predict(test_pool)"
   ]
  },
  {
   "cell_type": "markdown",
   "id": "513b6baf",
   "metadata": {},
   "source": [
    "## Результат"
   ]
  },
  {
   "cell_type": "code",
   "execution_count": 31,
   "id": "c8d02a9f",
   "metadata": {},
   "outputs": [
    {
     "name": "stdout",
     "output_type": "stream",
     "text": [
      "CatBoost\n",
      "Data  | AUC-ROC | Accuracy\n",
      "Train | 0.9030  | 0.9033\n",
      "Test  | 0.8760  | 0.8762\n"
     ]
    }
   ],
   "source": [
    "print(\"CatBoost\")\n",
    "print(f\"Data  | AUC-ROC | Accuracy\")\n",
    "print(f\"Train | {roc_auc_score(y_train, y_pred_train):.4f}  | {accuracy_score(y_train, y_pred_train):.4f}\")\n",
    "print(f\"Test  | {roc_auc_score(y_test, y_pred_test):.4f}  | {accuracy_score(y_test, y_pred_test):.4f}\")"
   ]
  },
  {
   "cell_type": "markdown",
   "id": "5afa4158",
   "metadata": {},
   "source": [
    "## Запись результата в файл"
   ]
  },
  {
   "cell_type": "code",
   "execution_count": 27,
   "id": "e5379416",
   "metadata": {},
   "outputs": [],
   "source": [
    "result = pd.DataFrame({\n",
    "    'user_id': X_test['user_id'],\n",
    "    'prediction': y_pred_test.astype(int)\n",
    "})\n",
    "result.to_csv('data/result.csv', index=False)"
   ]
  },
  {
   "cell_type": "markdown",
   "id": "1362e0ff",
   "metadata": {},
   "source": [
    "## Итог\n",
    "\n",
    "Data  | AUC-ROC | Accuracy\n",
    "------|---------|---------\n",
    "Train | 0.9030  | 0.9033\n",
    "Test  | 0.8760  | 0.8762"
   ]
  }
 ],
 "metadata": {
  "kernelspec": {
   "display_name": "Python 3",
   "language": "python",
   "name": "python3"
  },
  "language_info": {
   "codemirror_mode": {
    "name": "ipython",
    "version": 3
   },
   "file_extension": ".py",
   "mimetype": "text/x-python",
   "name": "python",
   "nbconvert_exporter": "python",
   "pygments_lexer": "ipython3",
   "version": "3.12.5"
  }
 },
 "nbformat": 4,
 "nbformat_minor": 5
}
